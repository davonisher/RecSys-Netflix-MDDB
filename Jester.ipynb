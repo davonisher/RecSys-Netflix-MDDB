{
 "cells": [
  {
   "attachments": {},
   "cell_type": "markdown",
   "metadata": {},
   "source": [
    "#  RecSys Jester dataset\n",
    "\n",
    "Building a RecSys for the Jester dataset\n",
    "\n",
    "This dataset is full of jokes (literally). It contains about 150 different jokes. The aim is building a RecSys so users will be recommend jokes suited to them.\n",
    "\n",
    "**Researcher**<br>\n",
    "David Kakanis - 500783676<br>\n",
    "\n",
    "### Research question  \n",
    "How can we create a personalized joke recommendation system using the Jester dataset that maximizes user satisfaction, measured by the user's joke ratings?\n",
    "\n",
    "Sub-questions:\n",
    "\n",
    "1. What are the characteristics of jokes with high ratings? Are there any common patterns in the joke text or length? How does the sentiment of the joke text relate to user ratings?\n",
    "2. How does the performance of KNN and SVD collaborative filtering techniques compare in terms of recommendation accuracy and user satisfaction? \n",
    "3. Which features are the most important in predicting a user's rating for a joke? \n",
    "4. Can the developed RecSys models provide meaningful explanations for their recommendations based on the joke content or user preferences?\n",
    "\n",
    "### Introduction\n",
    "The purpose of this data analysis is to develop a personalized joke recommendation system using the Jester dataset. By understanding users' preferences and the characteristics of jokes with high ratings, we can create a recommendation system that maximizes user satisfaction.\n",
    "\n",
    "In order to draw valid conclusions and answer the main research question, we have formulated several sub-questions. These sub-questions will be answered by developing hypotheses and testing them using various statistical techniques and machine learning models, such as KNN and SVD collaborative filtering techniques.\n",
    "\n",
    "By exploring these sub-questions and their results, we can better understand the factors that contribute to the success of a joke recommendation system and optimize it to provide the best possible user experience.\n",
    "\n",
    "### Index\n",
    "1. Importing data\n",
    "2. Data Cleaning and Preprocessing\n",
    "3. Exploratory Data Analysis\n",
    "4. Sentiment Analysis\n",
    "5. Collaborative Filtering Models (KNN and SVD)\n",
    "6. Conclusion\n",
    "\n"
   ]
  },
  {
   "attachments": {},
   "cell_type": "markdown",
   "metadata": {},
   "source": [
    "# 1) Importing data"
   ]
  },
  {
   "cell_type": "code",
   "execution_count": 1,
   "metadata": {},
   "outputs": [],
   "source": [
    "# importing necessary libraries\n",
    "import pandas as pd\n",
    "import numpy as np\n",
    "import matplotlib.pyplot as plt\n",
    "import seaborn as sns\n",
    "from sklearn.model_selection import train_test_split\n",
    "from sklearn.metrics import mean_squared_error\n",
    "from sklearn.metrics import mean_absolute_error\n",
    "from sklearn.neighbors import NearestNeighbors\n",
    "from scipy.sparse import csr_matrix\n",
    "from math import sqrt\n",
    "from surprise import Reader, Dataset, SVD, accuracy\n",
    "from surprise.model_selection import train_test_split\n"
   ]
  },
  {
   "cell_type": "code",
   "execution_count": 3,
   "metadata": {},
   "outputs": [],
   "source": [
    "#Reading the first CSV file\n",
    "df1 = pd.read_csv(r\"C:\\Users\\User\\iCloudDrive\\Master DDB\\RecSys\\JesterDataset\\jester_ratings.csv\", encoding='utf-8', delimiter=',')"
   ]
  },
  {
   "cell_type": "code",
   "execution_count": 4,
   "metadata": {},
   "outputs": [
    {
     "data": {
      "text/html": [
       "<div>\n",
       "<style scoped>\n",
       "    .dataframe tbody tr th:only-of-type {\n",
       "        vertical-align: middle;\n",
       "    }\n",
       "\n",
       "    .dataframe tbody tr th {\n",
       "        vertical-align: top;\n",
       "    }\n",
       "\n",
       "    .dataframe thead th {\n",
       "        text-align: right;\n",
       "    }\n",
       "</style>\n",
       "<table border=\"1\" class=\"dataframe\">\n",
       "  <thead>\n",
       "    <tr style=\"text-align: right;\">\n",
       "      <th></th>\n",
       "      <th>userId</th>\n",
       "      <th>jokeId</th>\n",
       "      <th>rating</th>\n",
       "    </tr>\n",
       "  </thead>\n",
       "  <tbody>\n",
       "    <tr>\n",
       "      <th>362834</th>\n",
       "      <td>13908</td>\n",
       "      <td>30</td>\n",
       "      <td>7.438</td>\n",
       "    </tr>\n",
       "    <tr>\n",
       "      <th>1287895</th>\n",
       "      <td>46460</td>\n",
       "      <td>13</td>\n",
       "      <td>-6.438</td>\n",
       "    </tr>\n",
       "    <tr>\n",
       "      <th>752394</th>\n",
       "      <td>31132</td>\n",
       "      <td>78</td>\n",
       "      <td>2.594</td>\n",
       "    </tr>\n",
       "    <tr>\n",
       "      <th>1528582</th>\n",
       "      <td>54876</td>\n",
       "      <td>110</td>\n",
       "      <td>-9.562</td>\n",
       "    </tr>\n",
       "    <tr>\n",
       "      <th>437757</th>\n",
       "      <td>17122</td>\n",
       "      <td>92</td>\n",
       "      <td>5.156</td>\n",
       "    </tr>\n",
       "    <tr>\n",
       "      <th>1358451</th>\n",
       "      <td>48358</td>\n",
       "      <td>110</td>\n",
       "      <td>-1.750</td>\n",
       "    </tr>\n",
       "    <tr>\n",
       "      <th>458112</th>\n",
       "      <td>17783</td>\n",
       "      <td>17</td>\n",
       "      <td>9.062</td>\n",
       "    </tr>\n",
       "    <tr>\n",
       "      <th>58791</th>\n",
       "      <td>1552</td>\n",
       "      <td>69</td>\n",
       "      <td>2.312</td>\n",
       "    </tr>\n",
       "    <tr>\n",
       "      <th>392720</th>\n",
       "      <td>15084</td>\n",
       "      <td>109</td>\n",
       "      <td>-9.344</td>\n",
       "    </tr>\n",
       "    <tr>\n",
       "      <th>1471609</th>\n",
       "      <td>52484</td>\n",
       "      <td>72</td>\n",
       "      <td>7.250</td>\n",
       "    </tr>\n",
       "  </tbody>\n",
       "</table>\n",
       "</div>"
      ],
      "text/plain": [
       "         userId  jokeId  rating\n",
       "362834    13908      30   7.438\n",
       "1287895   46460      13  -6.438\n",
       "752394    31132      78   2.594\n",
       "1528582   54876     110  -9.562\n",
       "437757    17122      92   5.156\n",
       "1358451   48358     110  -1.750\n",
       "458112    17783      17   9.062\n",
       "58791      1552      69   2.312\n",
       "392720    15084     109  -9.344\n",
       "1471609   52484      72   7.250"
      ]
     },
     "execution_count": 4,
     "metadata": {},
     "output_type": "execute_result"
    }
   ],
   "source": [
    "df1.sample(10)"
   ]
  },
  {
   "cell_type": "code",
   "execution_count": 4,
   "metadata": {},
   "outputs": [],
   "source": [
    "# reading second CSV file\n",
    "df2 = pd.read_csv(r\"C:\\Users\\User\\iCloudDrive\\Master DDB\\RecSys\\JesterDataset\\jester_items.csv\", encoding='utf-8', delimiter=',')"
   ]
  },
  {
   "cell_type": "code",
   "execution_count": 44,
   "metadata": {},
   "outputs": [
    {
     "data": {
      "text/html": [
       "<div>\n",
       "<style scoped>\n",
       "    .dataframe tbody tr th:only-of-type {\n",
       "        vertical-align: middle;\n",
       "    }\n",
       "\n",
       "    .dataframe tbody tr th {\n",
       "        vertical-align: top;\n",
       "    }\n",
       "\n",
       "    .dataframe thead th {\n",
       "        text-align: right;\n",
       "    }\n",
       "</style>\n",
       "<table border=\"1\" class=\"dataframe\">\n",
       "  <thead>\n",
       "    <tr style=\"text-align: right;\">\n",
       "      <th></th>\n",
       "      <th>jokeId</th>\n",
       "      <th>jokeText</th>\n",
       "    </tr>\n",
       "  </thead>\n",
       "  <tbody>\n",
       "    <tr>\n",
       "      <th>66</th>\n",
       "      <td>67</td>\n",
       "      <td>Once upon a time, two brooms fell in love and ...</td>\n",
       "    </tr>\n",
       "    <tr>\n",
       "      <th>33</th>\n",
       "      <td>34</td>\n",
       "      <td>Out in the backwoods of some midwestern state,...</td>\n",
       "    </tr>\n",
       "    <tr>\n",
       "      <th>13</th>\n",
       "      <td>14</td>\n",
       "      <td>The father was very anxious to marry off his o...</td>\n",
       "    </tr>\n",
       "    <tr>\n",
       "      <th>103</th>\n",
       "      <td>104</td>\n",
       "      <td>As a pre-med student, I had to take a difficul...</td>\n",
       "    </tr>\n",
       "    <tr>\n",
       "      <th>51</th>\n",
       "      <td>52</td>\n",
       "      <td>Q: What do Monica Lewinsky and Bob Dole have i...</td>\n",
       "    </tr>\n",
       "    <tr>\n",
       "      <th>119</th>\n",
       "      <td>120</td>\n",
       "      <td>Judy was having trouble with her computer, so ...</td>\n",
       "    </tr>\n",
       "    <tr>\n",
       "      <th>144</th>\n",
       "      <td>145</td>\n",
       "      <td>A blonde, brunette, and a red head are all lin...</td>\n",
       "    </tr>\n",
       "    <tr>\n",
       "      <th>125</th>\n",
       "      <td>126</td>\n",
       "      <td>A Briton, a Frenchman and a Russian are viewin...</td>\n",
       "    </tr>\n",
       "    <tr>\n",
       "      <th>95</th>\n",
       "      <td>96</td>\n",
       "      <td>Two attorneys went into a diner and ordered tw...</td>\n",
       "    </tr>\n",
       "    <tr>\n",
       "      <th>116</th>\n",
       "      <td>117</td>\n",
       "      <td>A man joins a big corporate empire as a traine...</td>\n",
       "    </tr>\n",
       "  </tbody>\n",
       "</table>\n",
       "</div>"
      ],
      "text/plain": [
       "     jokeId                                           jokeText\n",
       "66       67  Once upon a time, two brooms fell in love and ...\n",
       "33       34  Out in the backwoods of some midwestern state,...\n",
       "13       14  The father was very anxious to marry off his o...\n",
       "103     104  As a pre-med student, I had to take a difficul...\n",
       "51       52  Q: What do Monica Lewinsky and Bob Dole have i...\n",
       "119     120  Judy was having trouble with her computer, so ...\n",
       "144     145  A blonde, brunette, and a red head are all lin...\n",
       "125     126  A Briton, a Frenchman and a Russian are viewin...\n",
       "95       96  Two attorneys went into a diner and ordered tw...\n",
       "116     117  A man joins a big corporate empire as a traine..."
      ]
     },
     "execution_count": 44,
     "metadata": {},
     "output_type": "execute_result"
    }
   ],
   "source": [
    "df2.sample(10)"
   ]
  },
  {
   "attachments": {},
   "cell_type": "markdown",
   "metadata": {},
   "source": [
    "# 2) Data Cleaning and Preprocessing"
   ]
  },
  {
   "cell_type": "code",
   "execution_count": 7,
   "metadata": {},
   "outputs": [
    {
     "data": {
      "text/plain": [
       "count     150.000000\n",
       "mean      379.613333\n",
       "std       286.383298\n",
       "min        52.000000\n",
       "25%       136.000000\n",
       "50%       318.500000\n",
       "75%       538.500000\n",
       "max      1326.000000\n",
       "Name: jokeText, dtype: float64"
      ]
     },
     "execution_count": 7,
     "metadata": {},
     "output_type": "execute_result"
    },
    {
     "data": {
      "image/png": "[encoded data removed]",
      "text/plain": [
       "<Figure size 432x288 with 1 Axes>"
      ]
     },
     "metadata": {
      "needs_background": "light"
     },
     "output_type": "display_data"
    }
   ],
   "source": [
    "#jokeText in df2\n",
    "df2['jokeText'].str.len().hist()\n",
    "\n",
    "df2['jokeText'].str.len().describe()"
   ]
  },
  {
   "cell_type": "code",
   "execution_count": 8,
   "metadata": {},
   "outputs": [
    {
     "data": {
      "text/plain": [
       "'A man visits the doctor. The doctor says \"I have bad news for you.You have\\ncancer and Alzheimer\\'s disease\". \\nThe man replies \"Well,thank God I don\\'t have cancer!\"\\n'"
      ]
     },
     "execution_count": 8,
     "metadata": {},
     "output_type": "execute_result"
    }
   ],
   "source": [
    "#An example of text from jokeText\n",
    "df2['jokeText'][0]"
   ]
  },
  {
   "cell_type": "code",
   "execution_count": 45,
   "metadata": {},
   "outputs": [],
   "source": [
    "# merging the two datasets\n",
    "data = df1.merge(df2, on='jokeId')\n"
   ]
  },
  {
   "cell_type": "code",
   "execution_count": 52,
   "metadata": {},
   "outputs": [
    {
     "data": {
      "text/html": [
       "<div>\n",
       "<style scoped>\n",
       "    .dataframe tbody tr th:only-of-type {\n",
       "        vertical-align: middle;\n",
       "    }\n",
       "\n",
       "    .dataframe tbody tr th {\n",
       "        vertical-align: top;\n",
       "    }\n",
       "\n",
       "    .dataframe thead th {\n",
       "        text-align: right;\n",
       "    }\n",
       "</style>\n",
       "<table border=\"1\" class=\"dataframe\">\n",
       "  <thead>\n",
       "    <tr style=\"text-align: right;\">\n",
       "      <th></th>\n",
       "      <th>userId</th>\n",
       "      <th>jokeId</th>\n",
       "      <th>rating</th>\n",
       "      <th>jokeText</th>\n",
       "    </tr>\n",
       "  </thead>\n",
       "  <tbody>\n",
       "    <tr>\n",
       "      <th>946693</th>\n",
       "      <td>36057</td>\n",
       "      <td>128</td>\n",
       "      <td>-5.094</td>\n",
       "      <td>An American, a Scot and a Canadian were in a t...</td>\n",
       "    </tr>\n",
       "    <tr>\n",
       "      <th>1262487</th>\n",
       "      <td>36253</td>\n",
       "      <td>84</td>\n",
       "      <td>8.438</td>\n",
       "      <td>Q: What is the difference between Mechanical E...</td>\n",
       "    </tr>\n",
       "    <tr>\n",
       "      <th>1238895</th>\n",
       "      <td>32883</td>\n",
       "      <td>46</td>\n",
       "      <td>1.531</td>\n",
       "      <td>A couple has been married for 75 years. For th...</td>\n",
       "    </tr>\n",
       "    <tr>\n",
       "      <th>510020</th>\n",
       "      <td>30403</td>\n",
       "      <td>50</td>\n",
       "      <td>1.656</td>\n",
       "      <td>A guy goes into confession and says to the pri...</td>\n",
       "    </tr>\n",
       "    <tr>\n",
       "      <th>99112</th>\n",
       "      <td>43191</td>\n",
       "      <td>8</td>\n",
       "      <td>-8.062</td>\n",
       "      <td>Q. Did you hear about the dyslexic devil worsh...</td>\n",
       "    </tr>\n",
       "    <tr>\n",
       "      <th>263968</th>\n",
       "      <td>41104</td>\n",
       "      <td>16</td>\n",
       "      <td>1.000</td>\n",
       "      <td>Q. What is orange and sounds like a parrot?  \\...</td>\n",
       "    </tr>\n",
       "    <tr>\n",
       "      <th>1519812</th>\n",
       "      <td>44153</td>\n",
       "      <td>129</td>\n",
       "      <td>8.312</td>\n",
       "      <td>A group of girlfriends is on vacation when the...</td>\n",
       "    </tr>\n",
       "    <tr>\n",
       "      <th>1636010</th>\n",
       "      <td>1142</td>\n",
       "      <td>139</td>\n",
       "      <td>-9.688</td>\n",
       "      <td>In a Veteran's Day speech, President Bush vowe...</td>\n",
       "    </tr>\n",
       "    <tr>\n",
       "      <th>23361</th>\n",
       "      <td>24761</td>\n",
       "      <td>7</td>\n",
       "      <td>-4.250</td>\n",
       "      <td>How many feminists does it take to screw in a ...</td>\n",
       "    </tr>\n",
       "    <tr>\n",
       "      <th>561909</th>\n",
       "      <td>31371</td>\n",
       "      <td>105</td>\n",
       "      <td>9.844</td>\n",
       "      <td>A couple of hunters are out in the woods in th...</td>\n",
       "    </tr>\n",
       "  </tbody>\n",
       "</table>\n",
       "</div>"
      ],
      "text/plain": [
       "         userId  jokeId  rating  \\\n",
       "946693    36057     128  -5.094   \n",
       "1262487   36253      84   8.438   \n",
       "1238895   32883      46   1.531   \n",
       "510020    30403      50   1.656   \n",
       "99112     43191       8  -8.062   \n",
       "263968    41104      16   1.000   \n",
       "1519812   44153     129   8.312   \n",
       "1636010    1142     139  -9.688   \n",
       "23361     24761       7  -4.250   \n",
       "561909    31371     105   9.844   \n",
       "\n",
       "                                                  jokeText  \n",
       "946693   An American, a Scot and a Canadian were in a t...  \n",
       "1262487  Q: What is the difference between Mechanical E...  \n",
       "1238895  A couple has been married for 75 years. For th...  \n",
       "510020   A guy goes into confession and says to the pri...  \n",
       "99112    Q. Did you hear about the dyslexic devil worsh...  \n",
       "263968   Q. What is orange and sounds like a parrot?  \\...  \n",
       "1519812  A group of girlfriends is on vacation when the...  \n",
       "1636010  In a Veteran's Day speech, President Bush vowe...  \n",
       "23361    How many feminists does it take to screw in a ...  \n",
       "561909   A couple of hunters are out in the woods in th...  "
      ]
     },
     "execution_count": 52,
     "metadata": {},
     "output_type": "execute_result"
    }
   ],
   "source": [
    "data.sample(10)"
   ]
  },
  {
   "cell_type": "code",
   "execution_count": 143,
   "metadata": {},
   "outputs": [],
   "source": [
    "# saving the merged dataset to a parquet file\n",
    "data.to_parquet('jester.parquet')"
   ]
  },
  {
   "attachments": {},
   "cell_type": "markdown",
   "metadata": {},
   "source": [
    "# 3) Exploratory Data Analysis (EDA)"
   ]
  },
  {
   "attachments": {},
   "cell_type": "markdown",
   "metadata": {},
   "source": [
    "EDA for Netflix dataset\n",
    "\n",
    "In this chapter, we conduct an Exploratory Data Analysis (EDA) to better understand the Netflix movie dataset. The goal is to understand the data available and what we can use as features for a recommendation model.\n",
    "\n",
    "The followings steps will be taken:\n",
    "\n",
    "1. Overview of the dataset: Get a general understanding of the dataset by looking at the number of rows, columns, and data types. Use the info() and describe() functions in pandas to get a quick summary of the dataset.\n",
    "\n",
    "2. Univariate analysis: Univariate analysis involves examining individual variables in the dataset. This helps me understand the distribution and characteristics of each variable. For continuous variables, such as movie ratings or duration, I can create histograms or density plots to visualize the distribution.\n",
    "\n",
    "3. Multivariate analysis: Multivariate analysis investigates the relationships between multiple variables in the dataset. This helps me understand how variables interact with each other and can reveal patterns or trends that may not be apparent when looking at individual variables. I will do an correlation analysis using a heatmap."
   ]
  },
  {
   "cell_type": "code",
   "execution_count": 51,
   "metadata": {},
   "outputs": [
    {
     "name": "stdout",
     "output_type": "stream",
     "text": [
      "<class 'pandas.core.frame.DataFrame'>\n",
      "Int64Index: 1761439 entries, 0 to 1761438\n",
      "Data columns (total 4 columns):\n",
      " #   Column    Dtype  \n",
      "---  ------    -----  \n",
      " 0   userId    int64  \n",
      " 1   jokeId    int64  \n",
      " 2   rating    float64\n",
      " 3   jokeText  object \n",
      "dtypes: float64(1), int64(2), object(1)\n",
      "memory usage: 67.2+ MB\n"
     ]
    }
   ],
   "source": [
    "data.info()"
   ]
  },
  {
   "cell_type": "code",
   "execution_count": 53,
   "metadata": {},
   "outputs": [
    {
     "data": {
      "text/html": [
       "<div>\n",
       "<style scoped>\n",
       "    .dataframe tbody tr th:only-of-type {\n",
       "        vertical-align: middle;\n",
       "    }\n",
       "\n",
       "    .dataframe tbody tr th {\n",
       "        vertical-align: top;\n",
       "    }\n",
       "\n",
       "    .dataframe thead th {\n",
       "        text-align: right;\n",
       "    }\n",
       "</style>\n",
       "<table border=\"1\" class=\"dataframe\">\n",
       "  <thead>\n",
       "    <tr style=\"text-align: right;\">\n",
       "      <th></th>\n",
       "      <th>userId</th>\n",
       "      <th>jokeId</th>\n",
       "      <th>rating</th>\n",
       "    </tr>\n",
       "  </thead>\n",
       "  <tbody>\n",
       "    <tr>\n",
       "      <th>count</th>\n",
       "      <td>1.761439e+06</td>\n",
       "      <td>1.761439e+06</td>\n",
       "      <td>1.761439e+06</td>\n",
       "    </tr>\n",
       "    <tr>\n",
       "      <th>mean</th>\n",
       "      <td>3.272322e+04</td>\n",
       "      <td>7.071133e+01</td>\n",
       "      <td>1.618602e+00</td>\n",
       "    </tr>\n",
       "    <tr>\n",
       "      <th>std</th>\n",
       "      <td>1.828011e+04</td>\n",
       "      <td>4.600790e+01</td>\n",
       "      <td>5.302608e+00</td>\n",
       "    </tr>\n",
       "    <tr>\n",
       "      <th>min</th>\n",
       "      <td>1.000000e+00</td>\n",
       "      <td>5.000000e+00</td>\n",
       "      <td>-1.000000e+01</td>\n",
       "    </tr>\n",
       "    <tr>\n",
       "      <th>25%</th>\n",
       "      <td>1.720200e+04</td>\n",
       "      <td>2.100000e+01</td>\n",
       "      <td>-2.031000e+00</td>\n",
       "    </tr>\n",
       "    <tr>\n",
       "      <th>50%</th>\n",
       "      <td>3.480800e+04</td>\n",
       "      <td>6.900000e+01</td>\n",
       "      <td>2.219000e+00</td>\n",
       "    </tr>\n",
       "    <tr>\n",
       "      <th>75%</th>\n",
       "      <td>4.730600e+04</td>\n",
       "      <td>1.120000e+02</td>\n",
       "      <td>5.719000e+00</td>\n",
       "    </tr>\n",
       "    <tr>\n",
       "      <th>max</th>\n",
       "      <td>6.397800e+04</td>\n",
       "      <td>1.500000e+02</td>\n",
       "      <td>1.000000e+01</td>\n",
       "    </tr>\n",
       "  </tbody>\n",
       "</table>\n",
       "</div>"
      ],
      "text/plain": [
       "             userId        jokeId        rating\n",
       "count  1.761439e+06  1.761439e+06  1.761439e+06\n",
       "mean   3.272322e+04  7.071133e+01  1.618602e+00\n",
       "std    1.828011e+04  4.600790e+01  5.302608e+00\n",
       "min    1.000000e+00  5.000000e+00 -1.000000e+01\n",
       "25%    1.720200e+04  2.100000e+01 -2.031000e+00\n",
       "50%    3.480800e+04  6.900000e+01  2.219000e+00\n",
       "75%    4.730600e+04  1.120000e+02  5.719000e+00\n",
       "max    6.397800e+04  1.500000e+02  1.000000e+01"
      ]
     },
     "execution_count": 53,
     "metadata": {},
     "output_type": "execute_result"
    }
   ],
   "source": [
    "data.describe()"
   ]
  },
  {
   "attachments": {},
   "cell_type": "markdown",
   "metadata": {},
   "source": [
    "\n",
    "\n",
    "On average, users have given ratings to 71 jokes, with an average rating of 1.62 and a standard deviation of 5.3, meaning that the ratings vary quite a bit. With 150 unique jokes."
   ]
  },
  {
   "cell_type": "code",
   "execution_count": 54,
   "metadata": {},
   "outputs": [
    {
     "data": {
      "text/plain": [
       "59132"
      ]
     },
     "execution_count": 54,
     "metadata": {},
     "output_type": "execute_result"
    }
   ],
   "source": [
    "# amount of user ids\n",
    "data['userId'].nunique()"
   ]
  },
  {
   "cell_type": "code",
   "execution_count": 28,
   "metadata": {},
   "outputs": [
    {
     "name": "stdout",
     "output_type": "stream",
     "text": [
      "Ratings summary statistics:\n",
      "count    1.761439e+06\n",
      "mean     1.618602e+00\n",
      "std      5.302608e+00\n",
      "min     -1.000000e+01\n",
      "25%     -2.031000e+00\n",
      "50%      2.219000e+00\n",
      "75%      5.719000e+00\n",
      "max      1.000000e+01\n",
      "Name: rating, dtype: float64\n",
      "Top 10 highest-rated jokes:\n",
      "jokeId\n",
      "53     3.714381\n",
      "105    3.711223\n",
      "89     3.606506\n",
      "129    3.583496\n",
      "35     3.560305\n",
      "72     3.505712\n",
      "32     3.504739\n",
      "104    3.422796\n",
      "68     3.387269\n",
      "106    3.337933\n",
      "Name: rating, dtype: float64\n"
     ]
    }
   ],
   "source": [
    "# Calculate summary statistics for the ratings\n",
    "print(\"Ratings summary statistics:\")\n",
    "print(data['rating'].describe())\n",
    "\n",
    "# Calculate average ratings for jokes\n",
    "average_ratings = data.groupby('jokeId')['rating'].mean()\n",
    "\n",
    "# Identify the highest-rated jokes\n",
    "highest_rated_jokes = average_ratings.sort_values(ascending=False).head(10)\n",
    "print(\"Top 10 highest-rated jokes:\")\n",
    "print(highest_rated_jokes)"
   ]
  },
  {
   "attachments": {},
   "cell_type": "markdown",
   "metadata": {},
   "source": [
    " The summary statistics show that the average rating is 1.62 with a standard deviation of 5.30. The highest average rating of 3.71."
   ]
  },
  {
   "cell_type": "code",
   "execution_count": 39,
   "metadata": {},
   "outputs": [
    {
     "name": "stderr",
     "output_type": "stream",
     "text": [
      "C:\\Users\\User\\AppData\\Local\\Temp\\ipykernel_8152\\3150323307.py:26: UserWarning: FixedFormatter should only be used together with FixedLocator\n",
      "  ax.set_xticklabels([int(x) for x in ax.get_xticks()], fontsize=4)\n",
      "C:\\Users\\User\\AppData\\Local\\Temp\\ipykernel_8152\\3150323307.py:27: UserWarning: FixedFormatter should only be used together with FixedLocator\n",
      "  ax.set_yticklabels([int(y) for y in ax.get_yticks()], fontsize=4)\n"
     ]
    },
    {
     "data": {
      "image/png": "[encoded data removed]",
      "text/plain": [
       "<Figure size 750x500 with 1 Axes>"
      ]
     },
     "metadata": {},
     "output_type": "display_data"
    }
   ],
   "source": [
    "# Setting style and color palette\n",
    "sns.set_style('whitegrid')\n",
    "sns.set_palette('pastel')\n",
    "\n",
    "# Visualize the distribution of ratings using a histogram\n",
    "fig, ax = plt.subplots(figsize=(3, 2), dpi=250)\n",
    "sns.histplot(data['rating'], kde=False, ax=ax)\n",
    "\n",
    "# Set x and y labels and title with smaller font sizes\n",
    "ax.set_xlabel('Rating', fontsize=6)\n",
    "ax.set_ylabel('Frequency', fontsize=6)\n",
    "ax.set_title('Distribution of Ratings', fontsize=8)\n",
    "\n",
    "# Remove spines on the right and top sides\n",
    "sns.despine(right=True, top=True)\n",
    "\n",
    "# Add mean and median lines\n",
    "mean = data['rating'].mean()\n",
    "median = data['rating'].median()\n",
    "ax.axvline(mean, color='indianred', linestyle='--', label=f'Mean: {mean:.2f}')\n",
    "ax.axvline(median, color='darkorange', linestyle='--', label=f'Median: {median:.2f}')\n",
    "ax.legend(fontsize=4)\n",
    "\n",
    "# Add gridlines and adjust tick labels with smaller font sizes\n",
    "ax.grid(axis='y', linestyle='--', alpha=0.7)\n",
    "ax.set_xticklabels([int(x) for x in ax.get_xticks()], fontsize=4)\n",
    "ax.set_yticklabels([int(y) for y in ax.get_yticks()], fontsize=4)\n",
    "\n",
    "# Show plot\n",
    "plt.show()\n"
   ]
  },
  {
   "attachments": {},
   "cell_type": "markdown",
   "metadata": {},
   "source": [
    "The histogram shows the distribution of ratings given to jokes, where the x-axis represents the rating and the y-axis represents the frequency. The median of the distribution is 2.22, which means that half of the ratings are above 2.22 and half are below. The mean of the distribution is 1.62, which is less than the median, indicating that the distribution is skewed towards the lower ratings."
   ]
  },
  {
   "cell_type": "code",
   "execution_count": 47,
   "metadata": {},
   "outputs": [
    {
     "name": "stderr",
     "output_type": "stream",
     "text": [
      "C:\\Users\\User\\AppData\\Local\\Temp\\ipykernel_8152\\3465825136.py:26: UserWarning: FixedFormatter should only be used together with FixedLocator\n",
      "  ax.set_xticklabels([int(x) for x in ax.get_xticks()], fontsize=4)\n",
      "C:\\Users\\User\\AppData\\Local\\Temp\\ipykernel_8152\\3465825136.py:27: UserWarning: FixedFormatter should only be used together with FixedLocator\n",
      "  ax.set_yticklabels([int(y) for y in ax.get_yticks()], fontsize=4)\n"
     ]
    },
    {
     "data": {
      "image/png": "[encoded data removed]",
      "text/plain": [
       "<Figure size 1000x375 with 2 Axes>"
      ]
     },
     "metadata": {},
     "output_type": "display_data"
    }
   ],
   "source": [
    "# Count the number of ratings each user gave\n",
    "ratings_per_user = data['userId'].value_counts()\n",
    "ratings_per_user_clipped = ratings_per_user.clip(upper=50)\n",
    "\n",
    "# Create a 1x2 grid of plots\n",
    "fig, axes = plt.subplots(nrows=1, ncols=2, figsize=(4, 1.5), dpi=250)\n",
    "\n",
    "# Plot the original histogram\n",
    "sns.histplot(ratings_per_user, kde=False, ax=axes[0])\n",
    "axes[0].set_xlabel('Number of Ratings per User', fontsize=4)\n",
    "axes[0].set_ylabel('Frequency', fontsize=4)\n",
    "axes[0].set_title('Original Distribution', fontsize=4)\n",
    "\n",
    "# Plot the clipped histogram\n",
    "sns.histplot(ratings_per_user_clipped, kde=False, ax=axes[1])\n",
    "axes[1].set_xlabel('Number of Ratings per User (clipped at 50)', fontsize=4)\n",
    "axes[1].set_ylabel('Frequency', fontsize=4)\n",
    "axes[1].set_title('Distribution Clipped at 50 Ratings', fontsize=4)\n",
    "\n",
    "# Remove spines on the right and top sides\n",
    "sns.despine(right=True, top=True)\n",
    "\n",
    "# Add gridlines and adjust tick labels\n",
    "for ax in axes:\n",
    "    ax.grid(axis='y', linestyle='--', alpha=0.7)\n",
    "    ax.set_xticklabels([int(x) for x in ax.get_xticks()], fontsize=4)\n",
    "    ax.set_yticklabels([int(y) for y in ax.get_yticks()], fontsize=4)\n",
    "\n",
    "plt.tight_layout()\n",
    "plt.show()\n"
   ]
  },
  {
   "cell_type": "code",
   "execution_count": 49,
   "metadata": {},
   "outputs": [
    {
     "name": "stderr",
     "output_type": "stream",
     "text": [
      "C:\\Users\\User\\AppData\\Local\\Temp\\ipykernel_8152\\3177973285.py:26: UserWarning: FixedFormatter should only be used together with FixedLocator\n",
      "  ax.set_xticklabels([int(x) for x in ax.get_xticks()], fontsize=8)\n",
      "C:\\Users\\User\\AppData\\Local\\Temp\\ipykernel_8152\\3177973285.py:27: UserWarning: FixedFormatter should only be used together with FixedLocator\n",
      "  ax.set_yticklabels([int(y) for y in ax.get_yticks()], fontsize=8)\n"
     ]
    },
    {
     "data": {
      "image/png": "[encoded data removed]",
      "text/plain": [
       "<Figure size 1000x300 with 2 Axes>"
      ]
     },
     "metadata": {},
     "output_type": "display_data"
    }
   ],
   "source": [
    "# Count the number of ratings each joke received\n",
    "ratings_per_joke = data['jokeId'].value_counts()\n",
    "ratings_per_joke_clipped = ratings_per_joke.clip(upper=20000)\n",
    "\n",
    "# Create a 1x2 grid of plots\n",
    "fig, axes = plt.subplots(nrows=1, ncols=2, figsize=(10, 3), dpi=100)\n",
    "\n",
    "# Plot the original histogram\n",
    "sns.histplot(ratings_per_joke, kde=False, ax=axes[0])\n",
    "axes[0].set_xlabel('Number of Ratings per Joke', fontsize=10)\n",
    "axes[0].set_ylabel('Frequency', fontsize=10)\n",
    "axes[0].set_title('Original Distribution', fontsize=12)\n",
    "\n",
    "# Plot the clipped histogram\n",
    "sns.histplot(ratings_per_joke_clipped, kde=False, ax=axes[1])\n",
    "axes[1].set_xlabel('Number of Ratings per Joke (clipped at 20,000)', fontsize=10)\n",
    "axes[1].set_ylabel('Frequency', fontsize=10)\n",
    "axes[1].set_title('Distribution Clipped at 20,000 Ratings', fontsize=12)\n",
    "\n",
    "# Remove spines on the right and top sides\n",
    "sns.despine(right=True, top=True)\n",
    "\n",
    "# Add gridlines and adjust tick labels\n",
    "for ax in axes:\n",
    "    ax.grid(axis='y', linestyle='--', alpha=0.7)\n",
    "    ax.set_xticklabels([int(x) for x in ax.get_xticks()], fontsize=8)\n",
    "    ax.set_yticklabels([int(y) for y in ax.get_yticks()], fontsize=8)\n",
    "\n",
    "plt.tight_layout()\n",
    "plt.show()\n"
   ]
  },
  {
   "attachments": {},
   "cell_type": "markdown",
   "metadata": {},
   "source": [
    "# 4) Adding sentiment analysis"
   ]
  },
  {
   "attachments": {},
   "cell_type": "markdown",
   "metadata": {},
   "source": [
    "Did not use but wanted to keep for future research"
   ]
  },
  {
   "cell_type": "code",
   "execution_count": 13,
   "metadata": {},
   "outputs": [],
   "source": [
    "from textblob import TextBlob"
   ]
  },
  {
   "cell_type": "code",
   "execution_count": 14,
   "metadata": {},
   "outputs": [],
   "source": [
    "# Assuming your dataset is in a DataFrame called df\n",
    "# Perform sentiment analysis on the 'jokeText' column\n",
    "data['sentiment'] = data['jokeText'].apply(lambda x: TextBlob(x).sentiment.polarity)\n"
   ]
  },
  {
   "cell_type": "code",
   "execution_count": 15,
   "metadata": {},
   "outputs": [
    {
     "data": {
      "text/html": [
       "<div>\n",
       "<style scoped>\n",
       "    .dataframe tbody tr th:only-of-type {\n",
       "        vertical-align: middle;\n",
       "    }\n",
       "\n",
       "    .dataframe tbody tr th {\n",
       "        vertical-align: top;\n",
       "    }\n",
       "\n",
       "    .dataframe thead th {\n",
       "        text-align: right;\n",
       "    }\n",
       "</style>\n",
       "<table border=\"1\" class=\"dataframe\">\n",
       "  <thead>\n",
       "    <tr style=\"text-align: right;\">\n",
       "      <th></th>\n",
       "      <th>userId</th>\n",
       "      <th>jokeId</th>\n",
       "      <th>rating</th>\n",
       "      <th>jokeText</th>\n",
       "      <th>sentiment</th>\n",
       "    </tr>\n",
       "  </thead>\n",
       "  <tbody>\n",
       "    <tr>\n",
       "      <th>0</th>\n",
       "      <td>1</td>\n",
       "      <td>5</td>\n",
       "      <td>0.219</td>\n",
       "      <td>Q.\\tWhat's O. J. Simpson's Internet address? \\...</td>\n",
       "      <td>0.0</td>\n",
       "    </tr>\n",
       "    <tr>\n",
       "      <th>1</th>\n",
       "      <td>2</td>\n",
       "      <td>5</td>\n",
       "      <td>-9.688</td>\n",
       "      <td>Q.\\tWhat's O. J. Simpson's Internet address? \\...</td>\n",
       "      <td>0.0</td>\n",
       "    </tr>\n",
       "    <tr>\n",
       "      <th>2</th>\n",
       "      <td>3</td>\n",
       "      <td>5</td>\n",
       "      <td>-9.844</td>\n",
       "      <td>Q.\\tWhat's O. J. Simpson's Internet address? \\...</td>\n",
       "      <td>0.0</td>\n",
       "    </tr>\n",
       "    <tr>\n",
       "      <th>3</th>\n",
       "      <td>4</td>\n",
       "      <td>5</td>\n",
       "      <td>-5.812</td>\n",
       "      <td>Q.\\tWhat's O. J. Simpson's Internet address? \\...</td>\n",
       "      <td>0.0</td>\n",
       "    </tr>\n",
       "    <tr>\n",
       "      <th>4</th>\n",
       "      <td>5</td>\n",
       "      <td>5</td>\n",
       "      <td>6.906</td>\n",
       "      <td>Q.\\tWhat's O. J. Simpson's Internet address? \\...</td>\n",
       "      <td>0.0</td>\n",
       "    </tr>\n",
       "    <tr>\n",
       "      <th>5</th>\n",
       "      <td>6</td>\n",
       "      <td>5</td>\n",
       "      <td>-0.031</td>\n",
       "      <td>Q.\\tWhat's O. J. Simpson's Internet address? \\...</td>\n",
       "      <td>0.0</td>\n",
       "    </tr>\n",
       "    <tr>\n",
       "      <th>6</th>\n",
       "      <td>7</td>\n",
       "      <td>5</td>\n",
       "      <td>-2.906</td>\n",
       "      <td>Q.\\tWhat's O. J. Simpson's Internet address? \\...</td>\n",
       "      <td>0.0</td>\n",
       "    </tr>\n",
       "    <tr>\n",
       "      <th>7</th>\n",
       "      <td>8</td>\n",
       "      <td>5</td>\n",
       "      <td>6.219</td>\n",
       "      <td>Q.\\tWhat's O. J. Simpson's Internet address? \\...</td>\n",
       "      <td>0.0</td>\n",
       "    </tr>\n",
       "    <tr>\n",
       "      <th>8</th>\n",
       "      <td>9</td>\n",
       "      <td>5</td>\n",
       "      <td>8.250</td>\n",
       "      <td>Q.\\tWhat's O. J. Simpson's Internet address? \\...</td>\n",
       "      <td>0.0</td>\n",
       "    </tr>\n",
       "    <tr>\n",
       "      <th>9</th>\n",
       "      <td>10</td>\n",
       "      <td>5</td>\n",
       "      <td>-5.750</td>\n",
       "      <td>Q.\\tWhat's O. J. Simpson's Internet address? \\...</td>\n",
       "      <td>0.0</td>\n",
       "    </tr>\n",
       "  </tbody>\n",
       "</table>\n",
       "</div>"
      ],
      "text/plain": [
       "   userId  jokeId  rating                                           jokeText  \\\n",
       "0       1       5   0.219  Q.\\tWhat's O. J. Simpson's Internet address? \\...   \n",
       "1       2       5  -9.688  Q.\\tWhat's O. J. Simpson's Internet address? \\...   \n",
       "2       3       5  -9.844  Q.\\tWhat's O. J. Simpson's Internet address? \\...   \n",
       "3       4       5  -5.812  Q.\\tWhat's O. J. Simpson's Internet address? \\...   \n",
       "4       5       5   6.906  Q.\\tWhat's O. J. Simpson's Internet address? \\...   \n",
       "5       6       5  -0.031  Q.\\tWhat's O. J. Simpson's Internet address? \\...   \n",
       "6       7       5  -2.906  Q.\\tWhat's O. J. Simpson's Internet address? \\...   \n",
       "7       8       5   6.219  Q.\\tWhat's O. J. Simpson's Internet address? \\...   \n",
       "8       9       5   8.250  Q.\\tWhat's O. J. Simpson's Internet address? \\...   \n",
       "9      10       5  -5.750  Q.\\tWhat's O. J. Simpson's Internet address? \\...   \n",
       "\n",
       "   sentiment  \n",
       "0        0.0  \n",
       "1        0.0  \n",
       "2        0.0  \n",
       "3        0.0  \n",
       "4        0.0  \n",
       "5        0.0  \n",
       "6        0.0  \n",
       "7        0.0  \n",
       "8        0.0  \n",
       "9        0.0  "
      ]
     },
     "execution_count": 15,
     "metadata": {},
     "output_type": "execute_result"
    }
   ],
   "source": [
    "# Display the updated DataFrame with sentiment scores\n",
    "data.head(10)"
   ]
  },
  {
   "cell_type": "code",
   "execution_count": 16,
   "metadata": {},
   "outputs": [
    {
     "data": {
      "text/html": [
       "<div>\n",
       "<style scoped>\n",
       "    .dataframe tbody tr th:only-of-type {\n",
       "        vertical-align: middle;\n",
       "    }\n",
       "\n",
       "    .dataframe tbody tr th {\n",
       "        vertical-align: top;\n",
       "    }\n",
       "\n",
       "    .dataframe thead th {\n",
       "        text-align: right;\n",
       "    }\n",
       "</style>\n",
       "<table border=\"1\" class=\"dataframe\">\n",
       "  <thead>\n",
       "    <tr style=\"text-align: right;\">\n",
       "      <th></th>\n",
       "      <th>jokeId</th>\n",
       "      <th>sentiment</th>\n",
       "    </tr>\n",
       "  </thead>\n",
       "  <tbody>\n",
       "    <tr>\n",
       "      <th>365692</th>\n",
       "      <td>18</td>\n",
       "      <td>0.005177</td>\n",
       "    </tr>\n",
       "    <tr>\n",
       "      <th>476656</th>\n",
       "      <td>25</td>\n",
       "      <td>0.000000</td>\n",
       "    </tr>\n",
       "    <tr>\n",
       "      <th>1554857</th>\n",
       "      <td>131</td>\n",
       "      <td>-0.061222</td>\n",
       "    </tr>\n",
       "    <tr>\n",
       "      <th>360875</th>\n",
       "      <td>18</td>\n",
       "      <td>0.005177</td>\n",
       "    </tr>\n",
       "    <tr>\n",
       "      <th>324333</th>\n",
       "      <td>17</td>\n",
       "      <td>0.450000</td>\n",
       "    </tr>\n",
       "    <tr>\n",
       "      <th>510014</th>\n",
       "      <td>50</td>\n",
       "      <td>0.241667</td>\n",
       "    </tr>\n",
       "    <tr>\n",
       "      <th>398016</th>\n",
       "      <td>19</td>\n",
       "      <td>0.000000</td>\n",
       "    </tr>\n",
       "    <tr>\n",
       "      <th>164734</th>\n",
       "      <td>13</td>\n",
       "      <td>0.000000</td>\n",
       "    </tr>\n",
       "    <tr>\n",
       "      <th>1145867</th>\n",
       "      <td>44</td>\n",
       "      <td>-0.050000</td>\n",
       "    </tr>\n",
       "    <tr>\n",
       "      <th>1445694</th>\n",
       "      <td>114</td>\n",
       "      <td>-0.066667</td>\n",
       "    </tr>\n",
       "  </tbody>\n",
       "</table>\n",
       "</div>"
      ],
      "text/plain": [
       "         jokeId  sentiment\n",
       "365692       18   0.005177\n",
       "476656       25   0.000000\n",
       "1554857     131  -0.061222\n",
       "360875       18   0.005177\n",
       "324333       17   0.450000\n",
       "510014       50   0.241667\n",
       "398016       19   0.000000\n",
       "164734       13   0.000000\n",
       "1145867      44  -0.050000\n",
       "1445694     114  -0.066667"
      ]
     },
     "execution_count": 16,
     "metadata": {},
     "output_type": "execute_result"
    }
   ],
   "source": [
    "#make new dataframe with only jokeId and sentiment\n",
    "\n",
    "data2 = data[['jokeId', 'sentiment']]\n",
    "data2.sample(10)"
   ]
  },
  {
   "cell_type": "code",
   "execution_count": 20,
   "metadata": {},
   "outputs": [],
   "source": [
    "#save data to parquet\n",
    "\n",
    "data.to_parquet('jester2.parquet')"
   ]
  },
  {
   "cell_type": "code",
   "execution_count": 3,
   "metadata": {},
   "outputs": [],
   "source": [
    "#load data from parquet\n",
    "\n",
    "data = pd.read_parquet('jester2.parquet')"
   ]
  },
  {
   "cell_type": "code",
   "execution_count": 18,
   "metadata": {},
   "outputs": [
    {
     "name": "stdout",
     "output_type": "stream",
     "text": [
      "Top 10 most positive jokes: jokeId\n",
      "146    1.000000\n",
      "43     0.800000\n",
      "80     0.750000\n",
      "22     0.750000\n",
      "108    0.688095\n",
      "124    0.641667\n",
      "90     0.625000\n",
      "57     0.500000\n",
      "17     0.450000\n",
      "85     0.433333\n",
      "Name: sentiment, dtype: float64\n",
      "Top 10 most negative jokes: jokeId\n",
      "15    -0.500000\n",
      "132   -0.445833\n",
      "59    -0.266667\n",
      "121   -0.265079\n",
      "138   -0.250000\n",
      "61    -0.235786\n",
      "104   -0.221667\n",
      "111   -0.194602\n",
      "56    -0.181934\n",
      "92    -0.180000\n",
      "Name: sentiment, dtype: float64\n"
     ]
    }
   ],
   "source": [
    "# Calculate average sentiment for jokes\n",
    "average_sentiment = data2.groupby('jokeId')['sentiment'].mean()\n",
    "\n",
    "# Identify the most positive jokes\n",
    "most_positive_jokes = average_sentiment.sort_values(ascending=False).head(10)\n",
    "print(\"Top 10 most positive jokes:\", most_positive_jokes)\n",
    "\n",
    "# Identify the most negative jokes\n",
    "most_negative_jokes = average_sentiment.sort_values(ascending=True).head(10)\n",
    "print(\"Top 10 most negative jokes:\", most_negative_jokes)\n",
    "\n",
    "# Calculate average ratings for jokes\n",
    "average_ratings = data.groupby('jokeId')['rating'].mean()"
   ]
  },
  {
   "cell_type": "code",
   "execution_count": 19,
   "metadata": {},
   "outputs": [
    {
     "name": "stdout",
     "output_type": "stream",
     "text": [
      "Correlation between sentiment and rating: 0.02\n"
     ]
    }
   ],
   "source": [
    "# Calculate the correlation between the sentiment and rating\n",
    "correlation = data['sentiment'].corr(data['rating'])\n",
    "print(f\"Correlation between sentiment and rating: {correlation:.2f}\")"
   ]
  },
  {
   "cell_type": "code",
   "execution_count": 28,
   "metadata": {},
   "outputs": [
    {
     "data": {
      "text/plain": [
       " 0.000000    413777\n",
       " 0.258333     63728\n",
       "-0.500000     54932\n",
       " 0.450000     53357\n",
       " 0.005177     51587\n",
       "              ...  \n",
       " 0.281481       368\n",
       "-0.235786       222\n",
       " 0.102806       166\n",
       " 0.136364       166\n",
       " 0.800000       166\n",
       "Name: sentiment, Length: 103, dtype: int64"
      ]
     },
     "execution_count": 28,
     "metadata": {},
     "output_type": "execute_result"
    }
   ],
   "source": [
    "#count amount of sentiment with 0.00\n",
    "\n",
    "data['sentiment'].value_counts(0)"
   ]
  },
  {
   "cell_type": "code",
   "execution_count": 21,
   "metadata": {},
   "outputs": [
    {
     "name": "stdout",
     "output_type": "stream",
     "text": [
      "sentiment\n",
      "(-1.0, -0.8]     0.000000\n",
      "(-0.8, -0.6]     0.000000\n",
      "(-0.6, -0.4]     4.036927\n",
      "(-0.4, -0.2]     3.165934\n",
      "(-0.2, 0.0]     40.752192\n",
      "(0.0, 0.2]      31.862017\n",
      "(0.2, 0.4]      14.326922\n",
      "(0.4, 0.6]       3.610173\n",
      "(0.6, 0.8]       1.966915\n",
      "(0.8, 1.0]       0.278920\n",
      "Name: sentiment, dtype: float64\n"
     ]
    }
   ],
   "source": [
    "# Create bins with a step of 0.2\n",
    "bins = pd.cut(data['sentiment'], bins=[-1.0, -0.8, -0.6, -0.4, -0.2, 0, 0.2, 0.4, 0.6, 0.8, 1.0])\n",
    "\n",
    "# Calculate the value counts for each bin\n",
    "sentiment_counts = data.groupby(bins)['sentiment'].count()\n",
    "\n",
    "# Calculate the percentage of each bin\n",
    "sentiment_percentages = sentiment_counts / data.shape[0] * 100\n",
    "\n",
    "# Print the sentiment percentages\n",
    "print(sentiment_percentages)\n"
   ]
  },
  {
   "cell_type": "code",
   "execution_count": 4,
   "metadata": {},
   "outputs": [
    {
     "data": {
      "text/html": [
       "<div>\n",
       "<style scoped>\n",
       "    .dataframe tbody tr th:only-of-type {\n",
       "        vertical-align: middle;\n",
       "    }\n",
       "\n",
       "    .dataframe tbody tr th {\n",
       "        vertical-align: top;\n",
       "    }\n",
       "\n",
       "    .dataframe thead th {\n",
       "        text-align: right;\n",
       "    }\n",
       "</style>\n",
       "<table border=\"1\" class=\"dataframe\">\n",
       "  <thead>\n",
       "    <tr style=\"text-align: right;\">\n",
       "      <th></th>\n",
       "      <th>userId</th>\n",
       "      <th>jokeId</th>\n",
       "      <th>rating</th>\n",
       "      <th>jokeText</th>\n",
       "      <th>sentiment</th>\n",
       "    </tr>\n",
       "  </thead>\n",
       "  <tbody>\n",
       "    <tr>\n",
       "      <th>0</th>\n",
       "      <td>1</td>\n",
       "      <td>5</td>\n",
       "      <td>0.219</td>\n",
       "      <td>Q.\\tWhat's O. J. Simpson's Internet address? \\...</td>\n",
       "      <td>0.0</td>\n",
       "    </tr>\n",
       "    <tr>\n",
       "      <th>1</th>\n",
       "      <td>2</td>\n",
       "      <td>5</td>\n",
       "      <td>-9.688</td>\n",
       "      <td>Q.\\tWhat's O. J. Simpson's Internet address? \\...</td>\n",
       "      <td>0.0</td>\n",
       "    </tr>\n",
       "    <tr>\n",
       "      <th>2</th>\n",
       "      <td>3</td>\n",
       "      <td>5</td>\n",
       "      <td>-9.844</td>\n",
       "      <td>Q.\\tWhat's O. J. Simpson's Internet address? \\...</td>\n",
       "      <td>0.0</td>\n",
       "    </tr>\n",
       "    <tr>\n",
       "      <th>3</th>\n",
       "      <td>4</td>\n",
       "      <td>5</td>\n",
       "      <td>-5.812</td>\n",
       "      <td>Q.\\tWhat's O. J. Simpson's Internet address? \\...</td>\n",
       "      <td>0.0</td>\n",
       "    </tr>\n",
       "    <tr>\n",
       "      <th>4</th>\n",
       "      <td>5</td>\n",
       "      <td>5</td>\n",
       "      <td>6.906</td>\n",
       "      <td>Q.\\tWhat's O. J. Simpson's Internet address? \\...</td>\n",
       "      <td>0.0</td>\n",
       "    </tr>\n",
       "  </tbody>\n",
       "</table>\n",
       "</div>"
      ],
      "text/plain": [
       "   userId  jokeId  rating                                           jokeText  \\\n",
       "0       1       5   0.219  Q.\\tWhat's O. J. Simpson's Internet address? \\...   \n",
       "1       2       5  -9.688  Q.\\tWhat's O. J. Simpson's Internet address? \\...   \n",
       "2       3       5  -9.844  Q.\\tWhat's O. J. Simpson's Internet address? \\...   \n",
       "3       4       5  -5.812  Q.\\tWhat's O. J. Simpson's Internet address? \\...   \n",
       "4       5       5   6.906  Q.\\tWhat's O. J. Simpson's Internet address? \\...   \n",
       "\n",
       "   sentiment  \n",
       "0        0.0  \n",
       "1        0.0  \n",
       "2        0.0  \n",
       "3        0.0  \n",
       "4        0.0  "
      ]
     },
     "execution_count": 4,
     "metadata": {},
     "output_type": "execute_result"
    }
   ],
   "source": [
    "data.head()"
   ]
  },
  {
   "attachments": {},
   "cell_type": "markdown",
   "metadata": {},
   "source": [
    "## 4) Analysis"
   ]
  },
  {
   "cell_type": "code",
   "execution_count": 40,
   "metadata": {},
   "outputs": [
    {
     "data": {
      "text/plain": [
       "304      140\n",
       "476      140\n",
       "477      140\n",
       "701      140\n",
       "227      140\n",
       "        ... \n",
       "55059      1\n",
       "55073      1\n",
       "5149       1\n",
       "16389      1\n",
       "3394       1\n",
       "Name: userId, Length: 59132, dtype: int64"
      ]
     },
     "execution_count": 40,
     "metadata": {},
     "output_type": "execute_result"
    }
   ],
   "source": [
    "#how many jokes are rated by a random user\n",
    "\n",
    "data['userId'].value_counts(0)"
   ]
  },
  {
   "attachments": {},
   "cell_type": "markdown",
   "metadata": {},
   "source": [
    "## K-Nearest Neighbours "
   ]
  },
  {
   "attachments": {},
   "cell_type": "markdown",
   "metadata": {},
   "source": [
    "USED SOURCES:\n",
    "\n",
    "\n",
    "harsh vijay (11 April 2020) Recommendation System using kNN [<source code>]. https://www.aurigait.com/blog/recommendation-system-using-knn/\n",
    "\n",
    "Jake Vanderplas (unknown date) 1.6. Nearest Neighbors\n",
    "[<source code>]. https://scikit-learn.org/stable/modules/neighbors.html\n",
    "\n",
    "Ethan Rosenthal (November 2, 2015) Intro to collaborative filtering\n",
    "[<source code>]. https://www.ethanrosenthal.com/2015/11/02/intro-to-collaborative-filtering/"
   ]
  },
  {
   "attachments": {},
   "cell_type": "markdown",
   "metadata": {},
   "source": [
    "In the context of a recommendation system, K-nearest neighbors (KNN) helps to find items that are most similar to a particular item based on user preferences or item features. We have a list of jokes and their ratings by users, and we want to recommend jokes similar to a specific joke. KNN works by measuring how similar the joke are, based on user ratings and then selecting the \"K\" most similar jokes as recommendations. "
   ]
  },
  {
   "cell_type": "code",
   "execution_count": 171,
   "metadata": {},
   "outputs": [
    {
     "name": "stdout",
     "output_type": "stream",
     "text": [
      "(140, 59132)\n"
     ]
    }
   ],
   "source": [
    "#Creating a pivot table with the jokeId as the index, the userId as the columns, and the ratings as the values\n",
    "\n",
    "matrix = data.pivot(index='jokeId', columns='userId', values='rating').fillna(0)\n",
    "print(matrix.shape)"
   ]
  },
  {
   "cell_type": "code",
   "execution_count": 172,
   "metadata": {},
   "outputs": [
    {
     "data": {
      "text/html": [
       "<div>\n",
       "<style scoped>\n",
       "    .dataframe tbody tr th:only-of-type {\n",
       "        vertical-align: middle;\n",
       "    }\n",
       "\n",
       "    .dataframe tbody tr th {\n",
       "        vertical-align: top;\n",
       "    }\n",
       "\n",
       "    .dataframe thead th {\n",
       "        text-align: right;\n",
       "    }\n",
       "</style>\n",
       "<table border=\"1\" class=\"dataframe\">\n",
       "  <thead>\n",
       "    <tr style=\"text-align: right;\">\n",
       "      <th>userId</th>\n",
       "      <th>1</th>\n",
       "      <th>2</th>\n",
       "      <th>3</th>\n",
       "      <th>4</th>\n",
       "      <th>5</th>\n",
       "      <th>6</th>\n",
       "      <th>7</th>\n",
       "      <th>8</th>\n",
       "      <th>9</th>\n",
       "      <th>10</th>\n",
       "      <th>...</th>\n",
       "      <th>63969</th>\n",
       "      <th>63970</th>\n",
       "      <th>63971</th>\n",
       "      <th>63972</th>\n",
       "      <th>63973</th>\n",
       "      <th>63974</th>\n",
       "      <th>63975</th>\n",
       "      <th>63976</th>\n",
       "      <th>63977</th>\n",
       "      <th>63978</th>\n",
       "    </tr>\n",
       "    <tr>\n",
       "      <th>jokeId</th>\n",
       "      <th></th>\n",
       "      <th></th>\n",
       "      <th></th>\n",
       "      <th></th>\n",
       "      <th></th>\n",
       "      <th></th>\n",
       "      <th></th>\n",
       "      <th></th>\n",
       "      <th></th>\n",
       "      <th></th>\n",
       "      <th></th>\n",
       "      <th></th>\n",
       "      <th></th>\n",
       "      <th></th>\n",
       "      <th></th>\n",
       "      <th></th>\n",
       "      <th></th>\n",
       "      <th></th>\n",
       "      <th></th>\n",
       "      <th></th>\n",
       "      <th></th>\n",
       "    </tr>\n",
       "  </thead>\n",
       "  <tbody>\n",
       "    <tr>\n",
       "      <th>124</th>\n",
       "      <td>0.000</td>\n",
       "      <td>0.000</td>\n",
       "      <td>0.0</td>\n",
       "      <td>0.0</td>\n",
       "      <td>0.000</td>\n",
       "      <td>0.000</td>\n",
       "      <td>0.0</td>\n",
       "      <td>0.000</td>\n",
       "      <td>0.0</td>\n",
       "      <td>0.000</td>\n",
       "      <td>...</td>\n",
       "      <td>0.0</td>\n",
       "      <td>0.0</td>\n",
       "      <td>0.0</td>\n",
       "      <td>0.0</td>\n",
       "      <td>0.000</td>\n",
       "      <td>0.0</td>\n",
       "      <td>0.0</td>\n",
       "      <td>0.0</td>\n",
       "      <td>0.0</td>\n",
       "      <td>-9.031</td>\n",
       "    </tr>\n",
       "    <tr>\n",
       "      <th>73</th>\n",
       "      <td>0.000</td>\n",
       "      <td>0.000</td>\n",
       "      <td>0.0</td>\n",
       "      <td>0.0</td>\n",
       "      <td>3.562</td>\n",
       "      <td>0.000</td>\n",
       "      <td>0.0</td>\n",
       "      <td>-1.000</td>\n",
       "      <td>0.0</td>\n",
       "      <td>0.156</td>\n",
       "      <td>...</td>\n",
       "      <td>0.0</td>\n",
       "      <td>0.0</td>\n",
       "      <td>0.0</td>\n",
       "      <td>0.0</td>\n",
       "      <td>0.000</td>\n",
       "      <td>0.0</td>\n",
       "      <td>0.0</td>\n",
       "      <td>0.0</td>\n",
       "      <td>0.0</td>\n",
       "      <td>0.000</td>\n",
       "    </tr>\n",
       "    <tr>\n",
       "      <th>141</th>\n",
       "      <td>0.000</td>\n",
       "      <td>0.000</td>\n",
       "      <td>0.0</td>\n",
       "      <td>0.0</td>\n",
       "      <td>0.000</td>\n",
       "      <td>0.000</td>\n",
       "      <td>0.0</td>\n",
       "      <td>0.000</td>\n",
       "      <td>0.0</td>\n",
       "      <td>0.000</td>\n",
       "      <td>...</td>\n",
       "      <td>0.0</td>\n",
       "      <td>0.0</td>\n",
       "      <td>0.0</td>\n",
       "      <td>0.0</td>\n",
       "      <td>0.000</td>\n",
       "      <td>0.0</td>\n",
       "      <td>0.0</td>\n",
       "      <td>0.0</td>\n",
       "      <td>0.0</td>\n",
       "      <td>-8.312</td>\n",
       "    </tr>\n",
       "    <tr>\n",
       "      <th>86</th>\n",
       "      <td>0.000</td>\n",
       "      <td>0.000</td>\n",
       "      <td>0.0</td>\n",
       "      <td>0.0</td>\n",
       "      <td>0.344</td>\n",
       "      <td>0.000</td>\n",
       "      <td>0.0</td>\n",
       "      <td>1.094</td>\n",
       "      <td>0.0</td>\n",
       "      <td>1.469</td>\n",
       "      <td>...</td>\n",
       "      <td>0.0</td>\n",
       "      <td>0.0</td>\n",
       "      <td>0.0</td>\n",
       "      <td>0.0</td>\n",
       "      <td>0.000</td>\n",
       "      <td>0.0</td>\n",
       "      <td>0.0</td>\n",
       "      <td>0.0</td>\n",
       "      <td>0.0</td>\n",
       "      <td>-4.969</td>\n",
       "    </tr>\n",
       "    <tr>\n",
       "      <th>132</th>\n",
       "      <td>0.000</td>\n",
       "      <td>0.000</td>\n",
       "      <td>0.0</td>\n",
       "      <td>0.0</td>\n",
       "      <td>0.000</td>\n",
       "      <td>0.000</td>\n",
       "      <td>0.0</td>\n",
       "      <td>0.000</td>\n",
       "      <td>0.0</td>\n",
       "      <td>0.000</td>\n",
       "      <td>...</td>\n",
       "      <td>0.0</td>\n",
       "      <td>0.0</td>\n",
       "      <td>0.0</td>\n",
       "      <td>0.0</td>\n",
       "      <td>4.875</td>\n",
       "      <td>0.0</td>\n",
       "      <td>0.0</td>\n",
       "      <td>0.0</td>\n",
       "      <td>0.0</td>\n",
       "      <td>8.625</td>\n",
       "    </tr>\n",
       "    <tr>\n",
       "      <th>52</th>\n",
       "      <td>0.062</td>\n",
       "      <td>0.000</td>\n",
       "      <td>0.0</td>\n",
       "      <td>0.0</td>\n",
       "      <td>1.062</td>\n",
       "      <td>-4.812</td>\n",
       "      <td>0.0</td>\n",
       "      <td>6.094</td>\n",
       "      <td>0.0</td>\n",
       "      <td>0.000</td>\n",
       "      <td>...</td>\n",
       "      <td>0.0</td>\n",
       "      <td>0.0</td>\n",
       "      <td>0.0</td>\n",
       "      <td>0.0</td>\n",
       "      <td>0.000</td>\n",
       "      <td>0.0</td>\n",
       "      <td>0.0</td>\n",
       "      <td>0.0</td>\n",
       "      <td>0.0</td>\n",
       "      <td>0.000</td>\n",
       "    </tr>\n",
       "    <tr>\n",
       "      <th>28</th>\n",
       "      <td>0.000</td>\n",
       "      <td>9.812</td>\n",
       "      <td>0.0</td>\n",
       "      <td>0.0</td>\n",
       "      <td>2.281</td>\n",
       "      <td>0.000</td>\n",
       "      <td>0.0</td>\n",
       "      <td>-1.969</td>\n",
       "      <td>0.0</td>\n",
       "      <td>1.406</td>\n",
       "      <td>...</td>\n",
       "      <td>0.0</td>\n",
       "      <td>0.0</td>\n",
       "      <td>0.0</td>\n",
       "      <td>0.0</td>\n",
       "      <td>0.000</td>\n",
       "      <td>0.0</td>\n",
       "      <td>0.0</td>\n",
       "      <td>0.0</td>\n",
       "      <td>0.0</td>\n",
       "      <td>7.969</td>\n",
       "    </tr>\n",
       "    <tr>\n",
       "      <th>125</th>\n",
       "      <td>0.000</td>\n",
       "      <td>0.000</td>\n",
       "      <td>0.0</td>\n",
       "      <td>0.0</td>\n",
       "      <td>0.000</td>\n",
       "      <td>0.000</td>\n",
       "      <td>0.0</td>\n",
       "      <td>0.000</td>\n",
       "      <td>0.0</td>\n",
       "      <td>0.000</td>\n",
       "      <td>...</td>\n",
       "      <td>0.0</td>\n",
       "      <td>0.0</td>\n",
       "      <td>0.0</td>\n",
       "      <td>0.0</td>\n",
       "      <td>0.000</td>\n",
       "      <td>0.0</td>\n",
       "      <td>0.0</td>\n",
       "      <td>0.0</td>\n",
       "      <td>0.0</td>\n",
       "      <td>8.750</td>\n",
       "    </tr>\n",
       "    <tr>\n",
       "      <th>129</th>\n",
       "      <td>0.000</td>\n",
       "      <td>0.000</td>\n",
       "      <td>0.0</td>\n",
       "      <td>0.0</td>\n",
       "      <td>0.000</td>\n",
       "      <td>0.000</td>\n",
       "      <td>0.0</td>\n",
       "      <td>0.000</td>\n",
       "      <td>0.0</td>\n",
       "      <td>0.000</td>\n",
       "      <td>...</td>\n",
       "      <td>0.0</td>\n",
       "      <td>0.0</td>\n",
       "      <td>0.0</td>\n",
       "      <td>0.0</td>\n",
       "      <td>0.000</td>\n",
       "      <td>0.0</td>\n",
       "      <td>0.0</td>\n",
       "      <td>0.0</td>\n",
       "      <td>0.0</td>\n",
       "      <td>6.875</td>\n",
       "    </tr>\n",
       "    <tr>\n",
       "      <th>149</th>\n",
       "      <td>0.000</td>\n",
       "      <td>0.000</td>\n",
       "      <td>0.0</td>\n",
       "      <td>0.0</td>\n",
       "      <td>0.000</td>\n",
       "      <td>0.000</td>\n",
       "      <td>0.0</td>\n",
       "      <td>0.000</td>\n",
       "      <td>0.0</td>\n",
       "      <td>0.000</td>\n",
       "      <td>...</td>\n",
       "      <td>0.0</td>\n",
       "      <td>0.0</td>\n",
       "      <td>0.0</td>\n",
       "      <td>0.0</td>\n",
       "      <td>0.000</td>\n",
       "      <td>0.0</td>\n",
       "      <td>0.0</td>\n",
       "      <td>0.0</td>\n",
       "      <td>0.0</td>\n",
       "      <td>8.781</td>\n",
       "    </tr>\n",
       "  </tbody>\n",
       "</table>\n",
       "<p>10 rows × 59132 columns</p>\n",
       "</div>"
      ],
      "text/plain": [
       "userId  1      2      3      4      5      6      7      8      9      10     \\\n",
       "jokeId                                                                         \n",
       "124     0.000  0.000    0.0    0.0  0.000  0.000    0.0  0.000    0.0  0.000   \n",
       "73      0.000  0.000    0.0    0.0  3.562  0.000    0.0 -1.000    0.0  0.156   \n",
       "141     0.000  0.000    0.0    0.0  0.000  0.000    0.0  0.000    0.0  0.000   \n",
       "86      0.000  0.000    0.0    0.0  0.344  0.000    0.0  1.094    0.0  1.469   \n",
       "132     0.000  0.000    0.0    0.0  0.000  0.000    0.0  0.000    0.0  0.000   \n",
       "52      0.062  0.000    0.0    0.0  1.062 -4.812    0.0  6.094    0.0  0.000   \n",
       "28      0.000  9.812    0.0    0.0  2.281  0.000    0.0 -1.969    0.0  1.406   \n",
       "125     0.000  0.000    0.0    0.0  0.000  0.000    0.0  0.000    0.0  0.000   \n",
       "129     0.000  0.000    0.0    0.0  0.000  0.000    0.0  0.000    0.0  0.000   \n",
       "149     0.000  0.000    0.0    0.0  0.000  0.000    0.0  0.000    0.0  0.000   \n",
       "\n",
       "userId  ...  63969  63970  63971  63972  63973  63974  63975  63976  63977  \\\n",
       "jokeId  ...                                                                  \n",
       "124     ...    0.0    0.0    0.0    0.0  0.000    0.0    0.0    0.0    0.0   \n",
       "73      ...    0.0    0.0    0.0    0.0  0.000    0.0    0.0    0.0    0.0   \n",
       "141     ...    0.0    0.0    0.0    0.0  0.000    0.0    0.0    0.0    0.0   \n",
       "86      ...    0.0    0.0    0.0    0.0  0.000    0.0    0.0    0.0    0.0   \n",
       "132     ...    0.0    0.0    0.0    0.0  4.875    0.0    0.0    0.0    0.0   \n",
       "52      ...    0.0    0.0    0.0    0.0  0.000    0.0    0.0    0.0    0.0   \n",
       "28      ...    0.0    0.0    0.0    0.0  0.000    0.0    0.0    0.0    0.0   \n",
       "125     ...    0.0    0.0    0.0    0.0  0.000    0.0    0.0    0.0    0.0   \n",
       "129     ...    0.0    0.0    0.0    0.0  0.000    0.0    0.0    0.0    0.0   \n",
       "149     ...    0.0    0.0    0.0    0.0  0.000    0.0    0.0    0.0    0.0   \n",
       "\n",
       "userId  63978  \n",
       "jokeId         \n",
       "124    -9.031  \n",
       "73      0.000  \n",
       "141    -8.312  \n",
       "86     -4.969  \n",
       "132     8.625  \n",
       "52      0.000  \n",
       "28      7.969  \n",
       "125     8.750  \n",
       "129     6.875  \n",
       "149     8.781  \n",
       "\n",
       "[10 rows x 59132 columns]"
      ]
     },
     "execution_count": 172,
     "metadata": {},
     "output_type": "execute_result"
    }
   ],
   "source": [
    "matrix.sample(10)"
   ]
  },
  {
   "cell_type": "code",
   "execution_count": 173,
   "metadata": {},
   "outputs": [],
   "source": [
    "# Convert the pivot table to a sparse matrix\n",
    "matrix_matrix=csr_matrix(matrix.values)"
   ]
  },
  {
   "cell_type": "code",
   "execution_count": 174,
   "metadata": {},
   "outputs": [
    {
     "data": {
      "text/plain": [
       "78.76953257119665"
      ]
     },
     "execution_count": 174,
     "metadata": {},
     "output_type": "execute_result"
    }
   ],
   "source": [
    "# count amount of 0 in matrix and make it a percentage\n",
    "matrix.isin([0]).sum().sum() / matrix.size * 100"
   ]
  },
  {
   "cell_type": "code",
   "execution_count": 175,
   "metadata": {},
   "outputs": [
    {
     "name": "stdout",
     "output_type": "stream",
     "text": [
      "kneighbors: 4, algorithm: brute, metric: cosine, distances: 0.4181264724640538\n",
      "kneighbors: 4, algorithm: brute, metric: euclidean, distances: 417.7117213781373\n",
      "kneighbors: 4, algorithm: brute, metric: manhattan, distances: 41660.00628571426\n",
      "kneighbors: 5, algorithm: brute, metric: cosine, distances: 0.4529817129222006\n",
      "kneighbors: 5, algorithm: brute, metric: euclidean, distances: 446.7453819498219\n",
      "kneighbors: 5, algorithm: brute, metric: manhattan, distances: 44763.77286714284\n",
      "kneighbors: 6, algorithm: brute, metric: cosine, distances: 0.4783695313522907\n",
      "kneighbors: 6, algorithm: brute, metric: euclidean, distances: 466.3470508060327\n",
      "kneighbors: 6, algorithm: brute, metric: manhattan, distances: 46884.72999523809\n",
      "kneighbors: 7, algorithm: brute, metric: cosine, distances: 0.4982159660968602\n",
      "kneighbors: 7, algorithm: brute, metric: euclidean, distances: 480.47252375232955\n",
      "kneighbors: 7, algorithm: brute, metric: manhattan, distances: 48438.753438775515\n",
      "kneighbors: 8, algorithm: brute, metric: cosine, distances: 0.5144281598728727\n",
      "kneighbors: 8, algorithm: brute, metric: euclidean, distances: 491.22480051097665\n",
      "kneighbors: 8, algorithm: brute, metric: manhattan, distances: 49629.91390357143\n",
      "kneighbors: 9, algorithm: brute, metric: cosine, distances: 0.5283301228649053\n",
      "kneighbors: 9, algorithm: brute, metric: euclidean, distances: 499.695498320987\n",
      "kneighbors: 9, algorithm: brute, metric: manhattan, distances: 50576.87502380953\n",
      "kneighbors: 10, algorithm: brute, metric: cosine, distances: 0.5402838003892262\n",
      "kneighbors: 10, algorithm: brute, metric: euclidean, distances: 506.724935804207\n",
      "kneighbors: 10, algorithm: brute, metric: manhattan, distances: 51360.03897214287\n",
      "kneighbors: 15, algorithm: brute, metric: cosine, distances: 0.5842083503084827\n",
      "kneighbors: 15, algorithm: brute, metric: euclidean, distances: 535.1507606523426\n",
      "kneighbors: 15, algorithm: brute, metric: manhattan, distances: 54230.199085238106\n",
      "kneighbors: 20, algorithm: brute, metric: cosine, distances: 0.6104385900213414\n",
      "kneighbors: 20, algorithm: brute, metric: euclidean, distances: 554.6193546487075\n",
      "kneighbors: 20, algorithm: brute, metric: manhattan, distances: 56079.34450714288\n",
      "kneighbors: 25, algorithm: brute, metric: cosine, distances: 0.6284924791894485\n",
      "kneighbors: 25, algorithm: brute, metric: euclidean, distances: 568.668824181668\n",
      "kneighbors: 25, algorithm: brute, metric: manhattan, distances: 57391.44773257145\n",
      "kneighbors: 30, algorithm: brute, metric: cosine, distances: 0.6422272530831326\n",
      "kneighbors: 30, algorithm: brute, metric: euclidean, distances: 579.5533544486634\n",
      "kneighbors: 30, algorithm: brute, metric: manhattan, distances: 58427.444608809536\n"
     ]
    }
   ],
   "source": [
    "# Hyperparameter tuning nearest neighbors\n",
    "algorithm = ['brute']\n",
    "n_neighbors = [4, 5,6, 7,8 ,9, 10, 15, 20, 25, 30]\n",
    "metric = ['cosine', 'euclidean', 'manhattan']\n",
    "\n",
    "#writing for loops but do not use ball tree for cosine metric\n",
    "for i in n_neighbors:\n",
    "    for k in metric:\n",
    "            for j in algorithm:\n",
    "                model_knn = NearestNeighbors(metric=k, algorithm=j , n_neighbors=i, n_jobs=-1)\n",
    "                model_knn.fit(matrix_matrix)\n",
    "                distances, indices = model_knn.kneighbors(matrix_matrix, n_neighbors=i)\n",
    "            print(f'kneighbors: {i}, algorithm: {j}, metric: {k}, distances: {distances.mean()}')"
   ]
  },
  {
   "attachments": {},
   "cell_type": "markdown",
   "metadata": {},
   "source": [
    "In this code, hyperparameter tuning is performed for the nearest neighbors model to find the best combination of parameters. By iterating through various options for the number of neighbors, the distance metric, and the search algorithm, the goal is to find the optimal settings for the model. For each combination, the model is trained, and the average distance between neighbors is calculated. This process helps identify the best performing model configuration to make more accurate recommendations. The inspiration for using for loops in this case came from Valentijn, as the grid search method didn't work for this specific problem."
   ]
  },
  {
   "cell_type": "code",
   "execution_count": 176,
   "metadata": {},
   "outputs": [
    {
     "data": {
      "text/plain": [
       "NearestNeighbors(algorithm='brute', metric='cosine', n_jobs=-1, n_neighbors=20)"
      ]
     },
     "execution_count": 176,
     "metadata": {},
     "output_type": "execute_result"
    }
   ],
   "source": [
    "# Fitting the model\n",
    "model_knn = NearestNeighbors(metric='cosine', algorithm='brute', n_neighbors=20, n_jobs=-1)\n",
    "model_knn.fit(matrix_matrix)"
   ]
  },
  {
   "cell_type": "code",
   "execution_count": 181,
   "metadata": {},
   "outputs": [],
   "source": [
    "#make a function to get the average rating of a movie\n",
    "def get_average_rating(jokeId):\n",
    "    return data[data['jokeId'] == jokeId]['rating'].mean()"
   ]
  },
  {
   "cell_type": "code",
   "execution_count": 182,
   "metadata": {},
   "outputs": [],
   "source": [
    "# Making a function to get the top 10 recommendations\n",
    "def get_recommendations(jokeId=None):\n",
    "    # Set the index to the jokeId\n",
    "    if jokeId is None:\n",
    "        # Randomly select a joke\n",
    "        query_index = np.random.choice(matrix.shape[0])\n",
    "        # Get the jokeId\n",
    "    else:\n",
    "        query_index = matrix.index.get_loc(jokeId)\n",
    "    # Get the distances and indices of the nearest jokes\n",
    "    # This code calculates the distances between the query data point and all other data points in the matrix, \n",
    "    # then returns the indices of the 10 closest data points to the query point.\n",
    "    # It is reshaped into a 2D array to fit the required input format\n",
    "    distances, indices = model_knn.kneighbors(matrix.iloc[query_index, :].values.reshape(1, -1), n_neighbors = 10)\n",
    "\n",
    "    # Get the jokeId from the index\n",
    "    joke_id = matrix.index[query_index]\n",
    "\n",
    "    # Print the joke\n",
    "    print(\"Joke:\", data[data['jokeId'] == joke_id]['jokeText'].values[0])\n",
    "    print(\"Top 10 similar jokes:\")\n",
    "\n",
    "    # Loop through the distances and indices to print the top 10 similar jokes\n",
    "    for i in range(1, len(distances.flatten())):  # Start from 1 to skip the joke itself\n",
    "        # Get the jokeId from the index\n",
    "        recommended_joke_id = matrix.index[indices.flatten()[i]]\n",
    "        # Get the joke text\n",
    "        recommended_joke_text = data[data['jokeId'] == recommended_joke_id]['jokeText'].values[0]\n",
    "        # Get the distance\n",
    "        distance = distances.flatten()[i]\n",
    "        # Get the average rating\n",
    "        avg_rating = get_average_rating(recommended_joke_id)\n",
    "        # Print the joke text, distance, and average rating\n",
    "        print(f\"{i}: {recommended_joke_text}, with an average rating of: {avg_rating:.2f}, with distance of {distance:.5f}\")"
   ]
  },
  {
   "attachments": {},
   "cell_type": "markdown",
   "metadata": {},
   "source": [
    "I created a function that helps to recommend similar jokes based on a given joke ID. First, the function finds the joke content for the given ID. Then, it uses a model to find the 10 nearest neighbors or most similar jokes. For each of these similar jokes, it retrieves the joke content, average rating, and the distance from the original joke. Finally, it displays the list of recommended jokes along with their average ratings and the distances that show how similar they are to the original joke."
   ]
  },
  {
   "cell_type": "code",
   "execution_count": 195,
   "metadata": {},
   "outputs": [
    {
     "name": "stdout",
     "output_type": "stream",
     "text": [
      "Joke: Q:  What did the blind person say when given some matzah?\n",
      "\n",
      "A:  Who the hell wrote this?\n",
      "\n",
      "Top 10 similar jokes:\n",
      "1: Q. What is orange and sounds like a parrot?  \n",
      "\n",
      "A. A carrot.\n",
      ", with an average rating of: -1.59, with distance of 0.63380\n",
      "2: They asked the Japanese visitor if they have elections in his\n",
      "country.  \n",
      "\"Every Morning\" he answers.\n",
      ", with an average rating of: -0.59, with distance of 0.63912\n",
      "3: How many feminists does it take to screw in a light bulb?\n",
      "That's not funny.\n",
      ", with an average rating of: -1.81, with distance of 0.64113\n",
      "4: Q. Did you hear about the dyslexic devil worshiper? \n",
      "\n",
      "A. He sold his soul to Santa.\n",
      ", with an average rating of: -0.67, with distance of 0.68236\n",
      "5: A dog walks into Western Union and asks the clerk to send a telegram. He fills out a form on which he\n",
      "writes down the telegram he wishes to send: \"Bow wow wow, Bow wow wow.\"\n",
      "\n",
      "The clerk says, \"You can add another 'Bow wow' for the same price.\"\n",
      "\n",
      "The dog responded, \"Now wouldn't that sound a little silly?\" \n",
      ", with an average rating of: -0.12, with distance of 0.71700\n",
      "6: How many men does it take to screw in a light bulb? \n",
      "\n",
      "One...men will screw anything. \n",
      ", with an average rating of: 0.70, with distance of 0.82946\n",
      "7: Q: If a person who speaks three languages is called \"tri-lingual,\" and\n",
      "a person who speaks two languages is called \"bi-lingual,\" what do call\n",
      "a person who only speaks one language?\n",
      "\n",
      "A: American! \n",
      ", with an average rating of: 0.78, with distance of 0.84827\n",
      "8: How many teddybears does it take to change a lightbulb?\n",
      "\n",
      "It takes only one teddybear, but it takes a whole lot of lightbulbs.\n",
      ", with an average rating of: -1.39, with distance of 0.91317\n",
      "9: What do you get when you run over a parakeet with a lawnmower? \n",
      "Shredded tweet.\n",
      ", with an average rating of: -1.06, with distance of 0.91406\n"
     ]
    }
   ],
   "source": [
    "# Call the get_recommendations function\n",
    "get_recommendations()"
   ]
  },
  {
   "attachments": {},
   "cell_type": "markdown",
   "metadata": {},
   "source": [
    "## SVD"
   ]
  },
  {
   "attachments": {},
   "cell_type": "markdown",
   "metadata": {},
   "source": [
    "USED SOURCES:\n",
    "\n",
    "Nicolas Hug  (2015) Using Prediction algorithms [<source code>]. \n",
    "https://surprise.readthedocs.io/en/stable/prediction_algorithms.html\n",
    "\n",
    "George Pipis (19-06-2020) How To Run Recommender Systems In Python[<source code>]. \n",
    "https://predictivehacks.com/how-to-run-recommender-systems-in-python/\n",
    "\n",
    "Nick Becker ( 10 -11 2016) Matrix Factorization for Movie Recommendations in Python[<source code>]. \n",
    "https://beckernick.github.io/matrix-factorization-recommender/\n",
    "\n"
   ]
  },
  {
   "attachments": {},
   "cell_type": "markdown",
   "metadata": {},
   "source": [
    "Singular Value Decomposition (SVD) is a technique used in recommendation systems to understand complex relationships between users and items. In the context of a recsys, SVD breaks down a large matrix containing user-item ratings into smaller, simpler matrices. By doing so, it can identify hidden patterns and relationships in the data, which can help predict user preferences for items they haven't rated yet. Summarized, SVD simplifies complex data and uses it to make personalized recommendations based on user preferences and item similarities."
   ]
  },
  {
   "cell_type": "code",
   "execution_count": 14,
   "metadata": {},
   "outputs": [
    {
     "data": {
      "text/html": [
       "<div>\n",
       "<style scoped>\n",
       "    .dataframe tbody tr th:only-of-type {\n",
       "        vertical-align: middle;\n",
       "    }\n",
       "\n",
       "    .dataframe tbody tr th {\n",
       "        vertical-align: top;\n",
       "    }\n",
       "\n",
       "    .dataframe thead th {\n",
       "        text-align: right;\n",
       "    }\n",
       "</style>\n",
       "<table border=\"1\" class=\"dataframe\">\n",
       "  <thead>\n",
       "    <tr style=\"text-align: right;\">\n",
       "      <th></th>\n",
       "      <th>userId</th>\n",
       "      <th>jokeId</th>\n",
       "      <th>rating</th>\n",
       "      <th>jokeText</th>\n",
       "    </tr>\n",
       "  </thead>\n",
       "  <tbody>\n",
       "    <tr>\n",
       "      <th>0</th>\n",
       "      <td>1</td>\n",
       "      <td>5</td>\n",
       "      <td>0.219</td>\n",
       "      <td>Q.\\tWhat's O. J. Simpson's Internet address? \\...</td>\n",
       "    </tr>\n",
       "    <tr>\n",
       "      <th>1</th>\n",
       "      <td>2</td>\n",
       "      <td>5</td>\n",
       "      <td>-9.688</td>\n",
       "      <td>Q.\\tWhat's O. J. Simpson's Internet address? \\...</td>\n",
       "    </tr>\n",
       "    <tr>\n",
       "      <th>2</th>\n",
       "      <td>3</td>\n",
       "      <td>5</td>\n",
       "      <td>-9.844</td>\n",
       "      <td>Q.\\tWhat's O. J. Simpson's Internet address? \\...</td>\n",
       "    </tr>\n",
       "    <tr>\n",
       "      <th>3</th>\n",
       "      <td>4</td>\n",
       "      <td>5</td>\n",
       "      <td>-5.812</td>\n",
       "      <td>Q.\\tWhat's O. J. Simpson's Internet address? \\...</td>\n",
       "    </tr>\n",
       "    <tr>\n",
       "      <th>4</th>\n",
       "      <td>5</td>\n",
       "      <td>5</td>\n",
       "      <td>6.906</td>\n",
       "      <td>Q.\\tWhat's O. J. Simpson's Internet address? \\...</td>\n",
       "    </tr>\n",
       "  </tbody>\n",
       "</table>\n",
       "</div>"
      ],
      "text/plain": [
       "   userId  jokeId  rating                                           jokeText\n",
       "0       1       5   0.219  Q.\\tWhat's O. J. Simpson's Internet address? \\...\n",
       "1       2       5  -9.688  Q.\\tWhat's O. J. Simpson's Internet address? \\...\n",
       "2       3       5  -9.844  Q.\\tWhat's O. J. Simpson's Internet address? \\...\n",
       "3       4       5  -5.812  Q.\\tWhat's O. J. Simpson's Internet address? \\...\n",
       "4       5       5   6.906  Q.\\tWhat's O. J. Simpson's Internet address? \\..."
      ]
     },
     "execution_count": 14,
     "metadata": {},
     "output_type": "execute_result"
    }
   ],
   "source": [
    "data.head()"
   ]
  },
  {
   "attachments": {},
   "cell_type": "markdown",
   "metadata": {},
   "source": [
    "How does the Surprise package work?\n",
    "\n",
    "1. Decomposition: Break down the user-item rating matrix into three smaller matrices, capturing the underlying patterns and hidden features (latent factors) that explain the ratings.\n",
    "\n",
    "2. Latent Factors: Discover the hidden characteristics of users and items, such as users' preferences and items' attributes, that are not directly observable but can help predict ratings.\n",
    "\n",
    "3. Prediction: Use the latent factors to estimate how a user might rate an item they haven't seen before, and provide personalized recommendations based on their preferences and similarities between items."
   ]
  },
  {
   "cell_type": "code",
   "execution_count": 60,
   "metadata": {},
   "outputs": [],
   "source": [
    "# create reader object to read ratings from the dataset \n",
    "reader = Reader(rating_scale=(-10, 10))\n",
    "# load the dataset into a surprise dataset object\n",
    "df = Dataset.load_from_df(data[['userId', 'jokeId', 'rating']], reader)"
   ]
  },
  {
   "cell_type": "code",
   "execution_count": 16,
   "metadata": {},
   "outputs": [],
   "source": [
    "# split the data into train and test sets\n",
    "trainset, testset = train_test_split(data, test_size=0.25, random_state=42)"
   ]
  },
  {
   "cell_type": "code",
   "execution_count": 17,
   "metadata": {},
   "outputs": [],
   "source": [
    "# create a SVD object\n",
    "algo = SVD()\n",
    "# train the model on the trainset\n",
    "algo.fit(trainset)\n",
    "\n",
    "# make predictions on the testset\n",
    "predictions = algo.test(testset)"
   ]
  },
  {
   "cell_type": "code",
   "execution_count": 18,
   "metadata": {},
   "outputs": [
    {
     "name": "stdout",
     "output_type": "stream",
     "text": [
      "RMSE: 4.4772\n",
      "MAE:  3.3599\n"
     ]
    }
   ],
   "source": [
    "# Compute RMSE\n",
    "rmse = accuracy.rmse(predictions)\n",
    "\n",
    "# Compute MAE\n",
    "mae = accuracy.mae(predictions)"
   ]
  },
  {
   "cell_type": "code",
   "execution_count": 57,
   "metadata": {},
   "outputs": [],
   "source": [
    "from surprise.model_selection import cross_validate"
   ]
  },
  {
   "cell_type": "code",
   "execution_count": 61,
   "metadata": {},
   "outputs": [
    {
     "name": "stdout",
     "output_type": "stream",
     "text": [
      "Evaluating RMSE, MAE of algorithm SVD on 5 split(s).\n",
      "\n",
      "                  Fold 1  Fold 2  Fold 3  Fold 4  Fold 5  Mean    Std     \n",
      "RMSE (testset)    4.5022  4.5063  4.4944  4.4925  4.5074  4.5006  0.0061  \n",
      "MAE (testset)     3.3742  3.3794  3.3696  3.3677  3.3776  3.3737  0.0045  \n",
      "Fit time          22.37   22.17   22.72   22.32   22.39   22.40   0.18    \n",
      "Test time         3.83    3.44    3.75    3.76    3.52    3.66    0.15    \n",
      "4.5005629831289795\n",
      "3.3737044790742816\n"
     ]
    }
   ],
   "source": [
    "# perform cross validation\n",
    "results = cross_validate(algo, df, measures=['RMSE', 'MAE'], cv=5, verbose=True)\n",
    "\n",
    "# print the results of rmse and mae\n",
    "print(results['test_rmse'].mean())\n",
    "print(results['test_mae'].mean())"
   ]
  },
  {
   "attachments": {},
   "cell_type": "markdown",
   "metadata": {},
   "source": [
    "In this case, the RMSE value of 4.45 suggests that, on average, the predicted ratings are approximately 4.5 units away from the actual ratings. This can be considered relatively high, depending on the rating scale used in your dataset. The rating scale is from -10 to 10, then an RMSE of 4.45 is not that bad. \n",
    "\n",
    "The MAE value of 3.3737 suggests that, on average, the predicted ratings are approximately 3.3737 units away from the actual ratings. Which is with this rating, not that bad.\n",
    "\n",
    "The lower values of RMSE and MAE indicate that your model performs well in predicting user ratings for jokes."
   ]
  },
  {
   "cell_type": "code",
   "execution_count": 22,
   "metadata": {},
   "outputs": [],
   "source": [
    "# get the list of the movie ids\n",
    "unique_ids = data['jokeId'].unique()\n",
    "# get the list of the ids that the userid 1001 has rated\n",
    "iids1001 = data.loc[data['userId']==1001, 'jokeId']\n",
    "# remove the rated movies for the recommendations\n",
    "movies_to_predict = np.setdiff1d(unique_ids,iids1001)"
   ]
  },
  {
   "cell_type": "code",
   "execution_count": 56,
   "metadata": {},
   "outputs": [
    {
     "data": {
      "text/html": [
       "<div>\n",
       "<style scoped>\n",
       "    .dataframe tbody tr th:only-of-type {\n",
       "        vertical-align: middle;\n",
       "    }\n",
       "\n",
       "    .dataframe tbody tr th {\n",
       "        vertical-align: top;\n",
       "    }\n",
       "\n",
       "    .dataframe thead th {\n",
       "        text-align: right;\n",
       "    }\n",
       "</style>\n",
       "<table border=\"1\" class=\"dataframe\">\n",
       "  <thead>\n",
       "    <tr style=\"text-align: right;\">\n",
       "      <th></th>\n",
       "      <th>jokeId</th>\n",
       "      <th>predictions</th>\n",
       "    </tr>\n",
       "  </thead>\n",
       "  <tbody>\n",
       "    <tr>\n",
       "      <th>10</th>\n",
       "      <td>29</td>\n",
       "      <td>5.075082</td>\n",
       "    </tr>\n",
       "    <tr>\n",
       "      <th>8</th>\n",
       "      <td>27</td>\n",
       "      <td>4.878048</td>\n",
       "    </tr>\n",
       "    <tr>\n",
       "      <th>39</th>\n",
       "      <td>69</td>\n",
       "      <td>4.336614</td>\n",
       "    </tr>\n",
       "    <tr>\n",
       "      <th>29</th>\n",
       "      <td>53</td>\n",
       "      <td>4.319104</td>\n",
       "    </tr>\n",
       "    <tr>\n",
       "      <th>84</th>\n",
       "      <td>126</td>\n",
       "      <td>3.846479</td>\n",
       "    </tr>\n",
       "    <tr>\n",
       "      <th>2</th>\n",
       "      <td>21</td>\n",
       "      <td>3.609776</td>\n",
       "    </tr>\n",
       "    <tr>\n",
       "      <th>85</th>\n",
       "      <td>127</td>\n",
       "      <td>3.472820</td>\n",
       "    </tr>\n",
       "    <tr>\n",
       "      <th>71</th>\n",
       "      <td>111</td>\n",
       "      <td>3.421903</td>\n",
       "    </tr>\n",
       "    <tr>\n",
       "      <th>26</th>\n",
       "      <td>49</td>\n",
       "      <td>3.045005</td>\n",
       "    </tr>\n",
       "    <tr>\n",
       "      <th>79</th>\n",
       "      <td>121</td>\n",
       "      <td>2.927289</td>\n",
       "    </tr>\n",
       "  </tbody>\n",
       "</table>\n",
       "</div>"
      ],
      "text/plain": [
       "    jokeId  predictions\n",
       "10      29     5.075082\n",
       "8       27     4.878048\n",
       "39      69     4.336614\n",
       "29      53     4.319104\n",
       "84     126     3.846479\n",
       "2       21     3.609776\n",
       "85     127     3.472820\n",
       "71     111     3.421903\n",
       "26      49     3.045005\n",
       "79     121     2.927289"
      ]
     },
     "execution_count": 56,
     "metadata": {},
     "output_type": "execute_result"
    }
   ],
   "source": [
    "# make a list of the predictions\n",
    "my_recs = []\n",
    "# loop through the movies to predict\n",
    "for movie_id in movies_to_predict:\n",
    "    # make a prediction for the movie\n",
    "    my_recs.append((movie_id, algo.predict(uid=100,iid=movie_id).est))\n",
    "\n",
    "# create a dataframe with the predictions of ratings\n",
    "pd.DataFrame(my_recs, columns=['jokeId', 'predictions']).sort_values('predictions', ascending=False).head(10)"
   ]
  },
  {
   "attachments": {},
   "cell_type": "markdown",
   "metadata": {},
   "source": [
    "The get_movie_recommendations function provides personalized joke recommendations for a user using the SVD model. It calculates predicted ratings for a list of movies, sorts them by the highest predicted ratings, and returns the top 10 joke recommendations most likely to satisfy the user's preferences."
   ]
  },
  {
   "attachments": {},
   "cell_type": "markdown",
   "metadata": {},
   "source": [
    "## 6) Conclusion"
   ]
  },
  {
   "attachments": {},
   "cell_type": "markdown",
   "metadata": {},
   "source": [
    "In this analysis, I have successfully built a personalized joke recommendation system using the Jester dataset. By implementing machine learning models such as KNN and SVD collaborative filtering techniques, I was able to provide recommendations based on users' preferences and the characteristics of jokes they enjoyed.\n",
    "\n",
    "This recommendation system aimed to maximize user satisfaction, which was measured by the users' joke ratings. The main research question has been answered: \"How can we create a personalized joke recommendation system using the Jester dataset that maximizes user satisfaction, measured by the user's joke ratings?\"\n",
    "\n",
    "As a result, this recommendation system can effectively help users discover new jokes they are likely to enjoy, based on their previous ratings and the similarities between jokes. This not only enhances user satisfaction but also increases the likelihood of users engaging with the system and returning for more recommendations.\n",
    "\n",
    "Future work on this project could involve incorporating additional features, such as joke metadata or user demographic information, to further improve the performance of the recommendation system. Also could other machine learning techniques or hybrid approaches be explored to refine the recommendations."
   ]
  }
 ],
 "metadata": {
  "kernelspec": {
   "display_name": "base",
   "language": "python",
   "name": "python3"
  },
  "language_info": {
   "codemirror_mode": {
    "name": "ipython",
    "version": 3
   },
   "file_extension": ".py",
   "mimetype": "text/x-python",
   "name": "python",
   "nbconvert_exporter": "python",
   "pygments_lexer": "ipython3",
   "version": "3.9.16"
  },
  "orig_nbformat": 4
 },
 "nbformat": 4,
 "nbformat_minor": 2
}
