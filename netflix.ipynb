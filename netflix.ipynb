{
 "cells": [
  {
   "attachments": {},
   "cell_type": "markdown",
   "metadata": {},
   "source": [
    "# RecSys Netflix dataset\n",
    "\n",
    "Building a RecSys for the Netflix dataset\n",
    "\n",
    "This dataset contains movie ratings from Netflix users. The goal is to build a RecSys that provides personalized movie recommendations to users based on their preferences.\n",
    "\n",
    "Researcher<br>\n",
    "David Kakanis - 500783676<br>\n",
    "\n",
    "\n",
    "## Introduction\n",
    "The purpose of this data analysis is to develop a personalized movie recommendation system using the Netflix dataset. By understanding users' preferences and the characteristics of movies with high ratings, we can create a recommendation system that maximizes user satisfaction.\n",
    "\n",
    "In order to draw valid conclusions and answer the main research question, we have formulated several sub-questions. These sub-questions will be answered by developing hypotheses and testing them using various statistical techniques and machine learning models, such as KNN and SVD collaborative filtering techniques.\n",
    "\n",
    "By exploring these sub-questions and their results, we can better understand the factors that contribute to the success of a movie recommendation system and optimize it to provide the best possible user experience.\n",
    "\n",
    "### Research question\n",
    "How can we create a personalized movie recommendation system using the Netflix dataset that maximizes user satisfaction, measured by the user's movie ratings?\n",
    "\n",
    "Sub questions:\n",
    "1. Which movies are most popular among users?\n",
    "2. How would the top 10 movies be suggested to a particular user? \n",
    "3. How does the performance of KNN and SVD collaborative filtering techniques compare in predicting movies?\n",
    "\n",
    "Index\n",
    "2. Data Cleaning and Preprocessing\n",
    "3. Exploratory Data Analysis\n",
    "4. Feature Engineering\n",
    "5. Analysis\n",
    "6. Conclusion\n",
    "\n",
    "\n",
    "Important terminology in this report.\n",
    "- Item-based collaborative filtering\n",
    "- User-based collaborative filtering\n",
    "- Matrix factorization\n",
    "- K-Nearest Neighbours\n",
    "\n",
    "\n",
    "Netflix prize winner in 2006:\n",
    "https://sifter.org/~simon/journal/20061211.html #usedasmotivation"
   ]
  },
  {
   "attachments": {},
   "cell_type": "markdown",
   "metadata": {},
   "source": [
    "# 2) Data Cleaning and Preprocessing:"
   ]
  },
  {
   "cell_type": "code",
   "execution_count": 2,
   "metadata": {},
   "outputs": [],
   "source": [
    "# importing necessary libraries\n",
    "import tarfile\n",
    "import pandas as pd\n",
    "import numpy as np\n",
    "import matplotlib.pyplot as plt\n",
    "import seaborn as sns\n",
    "import os\n",
    "from sklearn.model_selection import train_test_split\n",
    "from sklearn.metrics import mean_squared_error\n",
    "from sklearn.metrics import mean_absolute_error\n",
    "from sklearn.neighbors import NearestNeighbors\n",
    "from scipy.sparse import csr_matrix\n",
    "from math import sqrt\n",
    "from surprise import Reader, Dataset, SVD, accuracy\n",
    "from surprise.model_selection import train_test_split\n"
   ]
  },
  {
   "cell_type": "code",
   "execution_count": null,
   "metadata": {},
   "outputs": [],
   "source": [
    "# Read in the data\n",
    "tar_file_path = r'C:\\Users\\User\\Documents\\Digital Driven Business\\RecSys\\training_set.tar'\n",
    "output_dir = r'C:\\Users\\User\\Documents\\Digital Driven Business\\RecSys\\training_set\\training_set'\n",
    "# Extract the tar file\n",
    "with tarfile.open(tar_file_path, 'r') as tar:\n",
    "    tar.extractall(output_dir)"
   ]
  },
  {
   "attachments": {},
   "cell_type": "markdown",
   "metadata": {},
   "source": [
    "USED SOURCE: https://python.hotexamples.com/examples/exifread/-/process_file/python-process_file-function-examples.html"
   ]
  },
  {
   "cell_type": "code",
   "execution_count": null,
   "metadata": {},
   "outputs": [],
   "source": [
    "# Function to process an individual file\n",
    "def process_file(file_path):\n",
    "    data = []\n",
    "    # Open the file and read each line\n",
    "    with open(file_path, \"r\") as file:\n",
    "        for line in file:\n",
    "            # Check if the line is a movie id\n",
    "            if line.strip().endswith(\":\"):\n",
    "                movie_id = line.strip().strip(':')\n",
    "            # Otherwise, it is a rating\n",
    "            else:\n",
    "                parts = line.strip().split(',')\n",
    "                # Check if the rating is valid\n",
    "                if len(parts) == 3:\n",
    "                    user_id, rating, date = parts\n",
    "                    data.append([movie_id, user_id, rating, date])\n",
    "                    #print(f\"Movie {movie_id} was rated {rating} by user {user_id} on {date}\")\n",
    "                else:\n",
    "                    print(f\"Unexpected line format in {file_path}: {line.strip()}\")\n",
    "    # Return the data for the file \n",
    "    return data\n",
    "\n",
    "# Set the folder path\n",
    "folder_path = r\"C:\\Users\\User\\iCloudDrive\\Master DDB\\RecSys\\training_set\\training_set\"\n",
    "\n",
    "# Iterate over all files in the folder\n",
    "all_data = []\n",
    "# The number of files is 17770\n",
    "for i in range(1, 17771):\n",
    "    # Create the file name\n",
    "    file_name = f\"mv_{str(i).zfill(7)}.txt\"\n",
    "    # Create the full file path\n",
    "    file_path = os.path.join(folder_path, file_name)\n",
    "    # Check if the file exists\n",
    "    if os.path.exists(file_path):\n",
    "        all_data.extend(process_file(file_path))\n",
    "    # Otherwise, print an error message\n",
    "    else:\n",
    "        print(f\"File {file_name} not found\")\n",
    "\n",
    "# Save all data to a CSV file\n",
    "df = pd.DataFrame(all_data, columns=['movie_id', 'user_id', 'rating', 'date'])\n",
    "df.to_csv(\"all_movies.csv\", index=False)"
   ]
  },
  {
   "attachments": {},
   "cell_type": "markdown",
   "metadata": {},
   "source": [
    "This code is like a recipe for handling a bunch of text files with movie ratings. It seems complicated to understand but it not really.\n",
    "\n",
    "1. There's a function called process_file(). You give it a file path, and it reads the file to find movie ratings. It collects the movie ID, user ID, rating, and date, and puts them together in a list called data.\n",
    "\n",
    "2. We have a folder_path variable. This is where all the movie rating text files are stored.\n",
    "\n",
    "3. We create an empty list called all_data. We'll use this to store all the movie rating info from the text files.\n",
    "\n",
    "4. Next, we have a loop that goes through numbers from 1 to 17,771 because we've got 17,770 files to process. It makes a file name using the number and adds \".txt\" at the end. Then, it creates the full file path by combining the folder path and file name.\n",
    "\n",
    "5. The code checks if the file is actually there. If it is, it calls the process_file() function and adds the data it gets to the all_data list. If the file isn't there, it just prints an error message.\n",
    "\n",
    "6. Once we've gone through all the files, we create a table (called a DataFrame) using the all_data list. We name the columns in the table as 'movie_id', 'user_id', 'rating', and 'date'.\n",
    "\n",
    "7. Finally, we save the table as a CSV file named \"all_movies.csv\". This way, we can use it when needed.\n",
    "\n",
    "So, in a nutshell, this code takes a bunch of movie rating text files, puts all the info together in one table, and saves it as a CSV file. "
   ]
  },
  {
   "cell_type": "code",
   "execution_count": 52,
   "metadata": {},
   "outputs": [],
   "source": [
    "#import .csv all_movies.csv\n",
    "data = pd.read_csv('all_movies.csv')"
   ]
  },
  {
   "cell_type": "code",
   "execution_count": 3,
   "metadata": {},
   "outputs": [
    {
     "data": {
      "text/html": [
       "<div>\n",
       "<style scoped>\n",
       "    .dataframe tbody tr th:only-of-type {\n",
       "        vertical-align: middle;\n",
       "    }\n",
       "\n",
       "    .dataframe tbody tr th {\n",
       "        vertical-align: top;\n",
       "    }\n",
       "\n",
       "    .dataframe thead th {\n",
       "        text-align: right;\n",
       "    }\n",
       "</style>\n",
       "<table border=\"1\" class=\"dataframe\">\n",
       "  <thead>\n",
       "    <tr style=\"text-align: right;\">\n",
       "      <th></th>\n",
       "      <th>movie_id</th>\n",
       "      <th>user_id</th>\n",
       "      <th>rating</th>\n",
       "      <th>date</th>\n",
       "    </tr>\n",
       "  </thead>\n",
       "  <tbody>\n",
       "    <tr>\n",
       "      <th>23513198</th>\n",
       "      <td>4393</td>\n",
       "      <td>249391</td>\n",
       "      <td>4</td>\n",
       "      <td>2004-03-23</td>\n",
       "    </tr>\n",
       "    <tr>\n",
       "      <th>49251764</th>\n",
       "      <td>8851</td>\n",
       "      <td>17342</td>\n",
       "      <td>4</td>\n",
       "      <td>2004-11-22</td>\n",
       "    </tr>\n",
       "    <tr>\n",
       "      <th>97494080</th>\n",
       "      <td>17251</td>\n",
       "      <td>2127761</td>\n",
       "      <td>3</td>\n",
       "      <td>2003-08-24</td>\n",
       "    </tr>\n",
       "    <tr>\n",
       "      <th>14791292</th>\n",
       "      <td>2862</td>\n",
       "      <td>1985084</td>\n",
       "      <td>4</td>\n",
       "      <td>2005-04-08</td>\n",
       "    </tr>\n",
       "    <tr>\n",
       "      <th>30158550</th>\n",
       "      <td>5515</td>\n",
       "      <td>296027</td>\n",
       "      <td>5</td>\n",
       "      <td>2005-09-20</td>\n",
       "    </tr>\n",
       "  </tbody>\n",
       "</table>\n",
       "</div>"
      ],
      "text/plain": [
       "          movie_id  user_id  rating        date\n",
       "23513198      4393   249391       4  2004-03-23\n",
       "49251764      8851    17342       4  2004-11-22\n",
       "97494080     17251  2127761       3  2003-08-24\n",
       "14791292      2862  1985084       4  2005-04-08\n",
       "30158550      5515   296027       5  2005-09-20"
      ]
     },
     "execution_count": 3,
     "metadata": {},
     "output_type": "execute_result"
    }
   ],
   "source": [
    "#check data\n",
    "data.sample(5)"
   ]
  },
  {
   "cell_type": "code",
   "execution_count": 64,
   "metadata": {},
   "outputs": [
    {
     "name": "stdout",
     "output_type": "stream",
     "text": [
      "movie_id    0\n",
      "user_id     0\n",
      "rating      0\n",
      "date        0\n",
      "dtype: int64\n"
     ]
    }
   ],
   "source": [
    "# Check for missing values\n",
    "print(data.isna().sum())\n",
    "\n",
    "# date to datetime\n",
    "data['date'] = pd.to_datetime(data['date'])"
   ]
  },
  {
   "attachments": {},
   "cell_type": "markdown",
   "metadata": {},
   "source": [
    "Combining movie_titles dataset with df takes up to much memory, so we will join them at a later stage. But need to load the movie_titles dataset."
   ]
  },
  {
   "cell_type": "code",
   "execution_count": 8,
   "metadata": {},
   "outputs": [
    {
     "name": "stdout",
     "output_type": "stream",
     "text": [
      "   movie_id    year                         title\n",
      "0         1  2003.0               Dinosaur Planet\n",
      "1         2  2004.0    Isle of Man TT 2004 Review\n",
      "2         3  1997.0                     Character\n",
      "3         4  1994.0  Paula Abdul's Get Up & Dance\n",
      "4         5  2004.0      The Rise and Fall of ECW\n"
     ]
    },
    {
     "name": "stderr",
     "output_type": "stream",
     "text": [
      "Skipping line 72: expected 3 fields, saw 4\n",
      "Skipping line 264: expected 3 fields, saw 5\n",
      "Skipping line 350: expected 3 fields, saw 4\n",
      "Skipping line 366: expected 3 fields, saw 4\n",
      "Skipping line 394: expected 3 fields, saw 4\n",
      "Skipping line 466: expected 3 fields, saw 4\n",
      "Skipping line 582: expected 3 fields, saw 4\n",
      "Skipping line 600: expected 3 fields, saw 4\n",
      "Skipping line 670: expected 3 fields, saw 4\n",
      "Skipping line 672: expected 3 fields, saw 4\n",
      "Skipping line 729: expected 3 fields, saw 4\n",
      "Skipping line 776: expected 3 fields, saw 4\n",
      "Skipping line 827: expected 3 fields, saw 4\n",
      "Skipping line 834: expected 3 fields, saw 4\n",
      "Skipping line 891: expected 3 fields, saw 4\n",
      "Skipping line 913: expected 3 fields, saw 4\n",
      "Skipping line 944: expected 3 fields, saw 4\n",
      "Skipping line 973: expected 3 fields, saw 4\n",
      "Skipping line 1010: expected 3 fields, saw 4\n",
      "Skipping line 1015: expected 3 fields, saw 4\n",
      "Skipping line 1058: expected 3 fields, saw 4\n",
      "Skipping line 1095: expected 3 fields, saw 4\n",
      "Skipping line 1170: expected 3 fields, saw 4\n",
      "Skipping line 1210: expected 3 fields, saw 4\n",
      "Skipping line 1286: expected 3 fields, saw 4\n",
      "Skipping line 1520: expected 3 fields, saw 4\n",
      "Skipping line 1559: expected 3 fields, saw 4\n",
      "Skipping line 1629: expected 3 fields, saw 4\n",
      "Skipping line 1647: expected 3 fields, saw 4\n",
      "Skipping line 1654: expected 3 fields, saw 4\n",
      "Skipping line 1658: expected 3 fields, saw 4\n",
      "Skipping line 1674: expected 3 fields, saw 4\n",
      "Skipping line 1745: expected 3 fields, saw 4\n",
      "Skipping line 1752: expected 3 fields, saw 4\n",
      "Skipping line 2107: expected 3 fields, saw 4\n",
      "Skipping line 2176: expected 3 fields, saw 4\n",
      "Skipping line 2178: expected 3 fields, saw 4\n",
      "Skipping line 2361: expected 3 fields, saw 5\n",
      "Skipping line 2410: expected 3 fields, saw 4\n",
      "Skipping line 2428: expected 3 fields, saw 4\n",
      "Skipping line 2433: expected 3 fields, saw 4\n",
      "Skipping line 2462: expected 3 fields, saw 4\n",
      "Skipping line 2598: expected 3 fields, saw 4\n",
      "Skipping line 2625: expected 3 fields, saw 4\n",
      "Skipping line 2628: expected 3 fields, saw 4\n",
      "Skipping line 2691: expected 3 fields, saw 4\n",
      "Skipping line 2722: expected 3 fields, saw 4\n",
      "Skipping line 2772: expected 3 fields, saw 4\n",
      "Skipping line 2796: expected 3 fields, saw 4\n",
      "Skipping line 2830: expected 3 fields, saw 4\n",
      "Skipping line 2854: expected 3 fields, saw 4\n",
      "Skipping line 2878: expected 3 fields, saw 4\n",
      "Skipping line 2889: expected 3 fields, saw 4\n",
      "Skipping line 2947: expected 3 fields, saw 4\n",
      "Skipping line 3023: expected 3 fields, saw 4\n",
      "Skipping line 3083: expected 3 fields, saw 4\n",
      "Skipping line 3140: expected 3 fields, saw 4\n",
      "Skipping line 3163: expected 3 fields, saw 4\n",
      "Skipping line 3227: expected 3 fields, saw 4\n",
      "Skipping line 3238: expected 3 fields, saw 4\n",
      "Skipping line 3290: expected 3 fields, saw 4\n",
      "Skipping line 3428: expected 3 fields, saw 4\n",
      "Skipping line 3429: expected 3 fields, saw 4\n",
      "Skipping line 3440: expected 3 fields, saw 4\n",
      "Skipping line 3509: expected 3 fields, saw 4\n",
      "Skipping line 3561: expected 3 fields, saw 4\n",
      "Skipping line 3569: expected 3 fields, saw 4\n",
      "Skipping line 3591: expected 3 fields, saw 4\n",
      "Skipping line 3595: expected 3 fields, saw 4\n",
      "Skipping line 3634: expected 3 fields, saw 4\n",
      "Skipping line 3880: expected 3 fields, saw 4\n",
      "Skipping line 3933: expected 3 fields, saw 5\n",
      "Skipping line 4005: expected 3 fields, saw 4\n",
      "Skipping line 4029: expected 3 fields, saw 4\n",
      "Skipping line 4059: expected 3 fields, saw 4\n",
      "Skipping line 4105: expected 3 fields, saw 4\n",
      "Skipping line 4125: expected 3 fields, saw 4\n",
      "Skipping line 4153: expected 3 fields, saw 4\n",
      "Skipping line 4168: expected 3 fields, saw 4\n",
      "Skipping line 4268: expected 3 fields, saw 5\n",
      "Skipping line 4325: expected 3 fields, saw 4\n",
      "Skipping line 4335: expected 3 fields, saw 4\n",
      "Skipping line 4433: expected 3 fields, saw 4\n",
      "Skipping line 4436: expected 3 fields, saw 4\n",
      "Skipping line 4444: expected 3 fields, saw 5\n",
      "Skipping line 4518: expected 3 fields, saw 4\n",
      "Skipping line 4550: expected 3 fields, saw 4\n",
      "Skipping line 4608: expected 3 fields, saw 4\n",
      "Skipping line 4651: expected 3 fields, saw 4\n",
      "Skipping line 4933: expected 3 fields, saw 4\n",
      "Skipping line 4982: expected 3 fields, saw 4\n",
      "Skipping line 4993: expected 3 fields, saw 4\n",
      "Skipping line 5087: expected 3 fields, saw 4\n",
      "Skipping line 5223: expected 3 fields, saw 4\n",
      "Skipping line 5334: expected 3 fields, saw 4\n",
      "Skipping line 5404: expected 3 fields, saw 5\n",
      "Skipping line 5485: expected 3 fields, saw 4\n",
      "Skipping line 5496: expected 3 fields, saw 4\n",
      "Skipping line 5544: expected 3 fields, saw 4\n",
      "Skipping line 5553: expected 3 fields, saw 4\n",
      "Skipping line 5555: expected 3 fields, saw 4\n",
      "Skipping line 5624: expected 3 fields, saw 4\n",
      "Skipping line 5692: expected 3 fields, saw 4\n",
      "Skipping line 5714: expected 3 fields, saw 4\n",
      "Skipping line 5778: expected 3 fields, saw 4\n",
      "Skipping line 5912: expected 3 fields, saw 4\n",
      "Skipping line 5917: expected 3 fields, saw 6\n",
      "Skipping line 5966: expected 3 fields, saw 4\n",
      "Skipping line 5976: expected 3 fields, saw 5\n",
      "Skipping line 6110: expected 3 fields, saw 6\n",
      "Skipping line 6111: expected 3 fields, saw 4\n",
      "Skipping line 6281: expected 3 fields, saw 4\n",
      "Skipping line 6374: expected 3 fields, saw 4\n",
      "Skipping line 6392: expected 3 fields, saw 4\n",
      "Skipping line 6408: expected 3 fields, saw 4\n",
      "Skipping line 6472: expected 3 fields, saw 4\n",
      "Skipping line 6515: expected 3 fields, saw 4\n",
      "Skipping line 6525: expected 3 fields, saw 4\n",
      "Skipping line 6580: expected 3 fields, saw 4\n",
      "Skipping line 6696: expected 3 fields, saw 4\n",
      "Skipping line 6772: expected 3 fields, saw 4\n",
      "Skipping line 6777: expected 3 fields, saw 6\n",
      "Skipping line 6924: expected 3 fields, saw 4\n",
      "Skipping line 7096: expected 3 fields, saw 4\n",
      "Skipping line 7116: expected 3 fields, saw 4\n",
      "Skipping line 7213: expected 3 fields, saw 4\n",
      "Skipping line 7378: expected 3 fields, saw 4\n",
      "Skipping line 7474: expected 3 fields, saw 4\n",
      "Skipping line 7530: expected 3 fields, saw 4\n",
      "Skipping line 7653: expected 3 fields, saw 5\n",
      "Skipping line 7767: expected 3 fields, saw 4\n",
      "Skipping line 7834: expected 3 fields, saw 4\n",
      "Skipping line 8006: expected 3 fields, saw 4\n",
      "Skipping line 8048: expected 3 fields, saw 4\n",
      "Skipping line 8094: expected 3 fields, saw 4\n",
      "Skipping line 8108: expected 3 fields, saw 4\n",
      "Skipping line 8114: expected 3 fields, saw 6\n",
      "Skipping line 8188: expected 3 fields, saw 4\n",
      "Skipping line 8294: expected 3 fields, saw 4\n",
      "Skipping line 8338: expected 3 fields, saw 5\n",
      "Skipping line 8410: expected 3 fields, saw 4\n",
      "Skipping line 8478: expected 3 fields, saw 4\n",
      "Skipping line 8511: expected 3 fields, saw 4\n",
      "Skipping line 8557: expected 3 fields, saw 4\n",
      "Skipping line 8588: expected 3 fields, saw 5\n",
      "Skipping line 8655: expected 3 fields, saw 5\n",
      "Skipping line 8683: expected 3 fields, saw 4\n",
      "Skipping line 8688: expected 3 fields, saw 4\n",
      "Skipping line 8690: expected 3 fields, saw 4\n",
      "Skipping line 8733: expected 3 fields, saw 4\n",
      "Skipping line 8806: expected 3 fields, saw 4\n",
      "Skipping line 8812: expected 3 fields, saw 4\n",
      "Skipping line 8824: expected 3 fields, saw 4\n",
      "Skipping line 8858: expected 3 fields, saw 4\n",
      "Skipping line 8871: expected 3 fields, saw 4\n",
      "Skipping line 8873: expected 3 fields, saw 4\n",
      "Skipping line 8889: expected 3 fields, saw 4\n",
      "Skipping line 8899: expected 3 fields, saw 5\n",
      "Skipping line 8908: expected 3 fields, saw 4\n",
      "Skipping line 8909: expected 3 fields, saw 4\n",
      "Skipping line 8911: expected 3 fields, saw 4\n",
      "Skipping line 8965: expected 3 fields, saw 4\n",
      "Skipping line 9075: expected 3 fields, saw 5\n",
      "Skipping line 9106: expected 3 fields, saw 4\n",
      "Skipping line 9367: expected 3 fields, saw 4\n",
      "Skipping line 9398: expected 3 fields, saw 4\n",
      "Skipping line 9403: expected 3 fields, saw 4\n",
      "Skipping line 9460: expected 3 fields, saw 4\n",
      "Skipping line 9489: expected 3 fields, saw 4\n",
      "Skipping line 9500: expected 3 fields, saw 4\n",
      "Skipping line 9582: expected 3 fields, saw 4\n",
      "Skipping line 9595: expected 3 fields, saw 5\n",
      "Skipping line 9604: expected 3 fields, saw 5\n",
      "Skipping line 9695: expected 3 fields, saw 4\n",
      "Skipping line 9713: expected 3 fields, saw 4\n",
      "Skipping line 9739: expected 3 fields, saw 4\n",
      "Skipping line 9760: expected 3 fields, saw 4\n",
      "Skipping line 9868: expected 3 fields, saw 5\n",
      "Skipping line 9976: expected 3 fields, saw 4\n",
      "Skipping line 10044: expected 3 fields, saw 4\n",
      "Skipping line 10087: expected 3 fields, saw 4\n",
      "Skipping line 10097: expected 3 fields, saw 4\n",
      "Skipping line 10223: expected 3 fields, saw 4\n",
      "Skipping line 10321: expected 3 fields, saw 4\n",
      "Skipping line 10369: expected 3 fields, saw 4\n",
      "Skipping line 10557: expected 3 fields, saw 4\n",
      "Skipping line 10564: expected 3 fields, saw 5\n",
      "Skipping line 10619: expected 3 fields, saw 4\n",
      "Skipping line 10649: expected 3 fields, saw 4\n",
      "Skipping line 10676: expected 3 fields, saw 4\n",
      "Skipping line 10690: expected 3 fields, saw 4\n",
      "Skipping line 10795: expected 3 fields, saw 4\n",
      "Skipping line 10839: expected 3 fields, saw 5\n",
      "Skipping line 10860: expected 3 fields, saw 6\n",
      "Skipping line 10887: expected 3 fields, saw 4\n",
      "Skipping line 10941: expected 3 fields, saw 4\n",
      "Skipping line 10948: expected 3 fields, saw 4\n",
      "Skipping line 10950: expected 3 fields, saw 4\n",
      "Skipping line 10967: expected 3 fields, saw 4\n",
      "Skipping line 11083: expected 3 fields, saw 4\n",
      "Skipping line 11089: expected 3 fields, saw 4\n",
      "Skipping line 11114: expected 3 fields, saw 4\n",
      "Skipping line 11116: expected 3 fields, saw 4\n",
      "Skipping line 11176: expected 3 fields, saw 4\n",
      "Skipping line 11206: expected 3 fields, saw 4\n",
      "Skipping line 11298: expected 3 fields, saw 4\n",
      "Skipping line 11333: expected 3 fields, saw 4\n",
      "Skipping line 11353: expected 3 fields, saw 4\n",
      "Skipping line 11362: expected 3 fields, saw 4\n",
      "Skipping line 11405: expected 3 fields, saw 4\n",
      "Skipping line 11583: expected 3 fields, saw 4\n",
      "Skipping line 11646: expected 3 fields, saw 4\n",
      "Skipping line 11688: expected 3 fields, saw 4\n",
      "Skipping line 11714: expected 3 fields, saw 4\n",
      "Skipping line 11883: expected 3 fields, saw 4\n",
      "Skipping line 11917: expected 3 fields, saw 4\n",
      "Skipping line 11983: expected 3 fields, saw 5\n",
      "Skipping line 11996: expected 3 fields, saw 4\n",
      "Skipping line 12031: expected 3 fields, saw 4\n",
      "Skipping line 12209: expected 3 fields, saw 4\n",
      "Skipping line 12218: expected 3 fields, saw 4\n",
      "Skipping line 12353: expected 3 fields, saw 6\n",
      "Skipping line 12413: expected 3 fields, saw 4\n",
      "Skipping line 12423: expected 3 fields, saw 4\n",
      "Skipping line 12510: expected 3 fields, saw 4\n",
      "Skipping line 12531: expected 3 fields, saw 4\n",
      "Skipping line 12586: expected 3 fields, saw 4\n",
      "Skipping line 12619: expected 3 fields, saw 4\n",
      "Skipping line 12691: expected 3 fields, saw 4\n",
      "Skipping line 12692: expected 3 fields, saw 4\n",
      "Skipping line 12693: expected 3 fields, saw 4\n",
      "Skipping line 12715: expected 3 fields, saw 6\n",
      "Skipping line 12850: expected 3 fields, saw 4\n",
      "Skipping line 12880: expected 3 fields, saw 4\n",
      "Skipping line 12884: expected 3 fields, saw 4\n",
      "Skipping line 12916: expected 3 fields, saw 4\n",
      "Skipping line 12976: expected 3 fields, saw 4\n",
      "Skipping line 13024: expected 3 fields, saw 5\n",
      "Skipping line 13104: expected 3 fields, saw 4\n",
      "Skipping line 13151: expected 3 fields, saw 4\n",
      "Skipping line 13173: expected 3 fields, saw 4\n",
      "Skipping line 13202: expected 3 fields, saw 4\n",
      "Skipping line 13209: expected 3 fields, saw 4\n",
      "Skipping line 13231: expected 3 fields, saw 4\n",
      "Skipping line 13263: expected 3 fields, saw 4\n",
      "Skipping line 13314: expected 3 fields, saw 4\n",
      "Skipping line 13345: expected 3 fields, saw 4\n",
      "Skipping line 13364: expected 3 fields, saw 4\n",
      "Skipping line 13428: expected 3 fields, saw 4\n",
      "Skipping line 13482: expected 3 fields, saw 5\n",
      "Skipping line 13504: expected 3 fields, saw 4\n",
      "Skipping line 13554: expected 3 fields, saw 4\n",
      "Skipping line 13572: expected 3 fields, saw 4\n",
      "Skipping line 13693: expected 3 fields, saw 4\n",
      "Skipping line 13781: expected 3 fields, saw 4\n",
      "Skipping line 13802: expected 3 fields, saw 4\n",
      "Skipping line 13940: expected 3 fields, saw 4\n",
      "Skipping line 13977: expected 3 fields, saw 4\n",
      "Skipping line 13988: expected 3 fields, saw 4\n",
      "Skipping line 13997: expected 3 fields, saw 4\n",
      "Skipping line 14040: expected 3 fields, saw 4\n",
      "Skipping line 14172: expected 3 fields, saw 4\n",
      "Skipping line 14249: expected 3 fields, saw 4\n",
      "Skipping line 14264: expected 3 fields, saw 6\n",
      "Skipping line 14290: expected 3 fields, saw 4\n",
      "Skipping line 14327: expected 3 fields, saw 4\n",
      "Skipping line 14418: expected 3 fields, saw 4\n",
      "Skipping line 14464: expected 3 fields, saw 4\n",
      "Skipping line 14493: expected 3 fields, saw 4\n",
      "Skipping line 14508: expected 3 fields, saw 4\n",
      "Skipping line 14584: expected 3 fields, saw 4\n",
      "Skipping line 14612: expected 3 fields, saw 5\n",
      "Skipping line 14746: expected 3 fields, saw 4\n",
      "Skipping line 14809: expected 3 fields, saw 4\n",
      "Skipping line 14965: expected 3 fields, saw 4\n",
      "Skipping line 14981: expected 3 fields, saw 4\n",
      "Skipping line 15023: expected 3 fields, saw 5\n",
      "Skipping line 15119: expected 3 fields, saw 4\n",
      "Skipping line 15122: expected 3 fields, saw 4\n",
      "Skipping line 15174: expected 3 fields, saw 4\n",
      "Skipping line 15193: expected 3 fields, saw 4\n",
      "Skipping line 15218: expected 3 fields, saw 4\n",
      "Skipping line 15274: expected 3 fields, saw 4\n",
      "Skipping line 15333: expected 3 fields, saw 4\n",
      "Skipping line 15372: expected 3 fields, saw 4\n",
      "Skipping line 15401: expected 3 fields, saw 4\n",
      "Skipping line 15405: expected 3 fields, saw 4\n",
      "Skipping line 15416: expected 3 fields, saw 4\n",
      "Skipping line 15424: expected 3 fields, saw 5\n",
      "Skipping line 15503: expected 3 fields, saw 4\n",
      "Skipping line 15625: expected 3 fields, saw 4\n",
      "Skipping line 15659: expected 3 fields, saw 4\n",
      "Skipping line 15764: expected 3 fields, saw 4\n",
      "Skipping line 15766: expected 3 fields, saw 4\n",
      "Skipping line 15796: expected 3 fields, saw 5\n",
      "Skipping line 15905: expected 3 fields, saw 4\n",
      "Skipping line 15984: expected 3 fields, saw 4\n",
      "Skipping line 15985: expected 3 fields, saw 4\n",
      "Skipping line 16071: expected 3 fields, saw 4\n",
      "Skipping line 16073: expected 3 fields, saw 4\n",
      "Skipping line 16099: expected 3 fields, saw 4\n",
      "Skipping line 16140: expected 3 fields, saw 6\n",
      "Skipping line 16144: expected 3 fields, saw 4\n",
      "Skipping line 16218: expected 3 fields, saw 4\n",
      "Skipping line 16258: expected 3 fields, saw 4\n",
      "Skipping line 16272: expected 3 fields, saw 4\n",
      "Skipping line 16305: expected 3 fields, saw 4\n",
      "Skipping line 16316: expected 3 fields, saw 4\n",
      "Skipping line 16361: expected 3 fields, saw 4\n",
      "Skipping line 16385: expected 3 fields, saw 4\n",
      "Skipping line 16416: expected 3 fields, saw 4\n",
      "Skipping line 16441: expected 3 fields, saw 4\n",
      "Skipping line 16445: expected 3 fields, saw 4\n",
      "Skipping line 16467: expected 3 fields, saw 4\n",
      "Skipping line 16554: expected 3 fields, saw 4\n",
      "Skipping line 16597: expected 3 fields, saw 4\n",
      "Skipping line 16648: expected 3 fields, saw 4\n",
      "Skipping line 16664: expected 3 fields, saw 4\n",
      "Skipping line 16713: expected 3 fields, saw 4\n",
      "Skipping line 16770: expected 3 fields, saw 4\n",
      "Skipping line 16819: expected 3 fields, saw 4\n",
      "Skipping line 16861: expected 3 fields, saw 4\n",
      "Skipping line 16933: expected 3 fields, saw 4\n",
      "Skipping line 17012: expected 3 fields, saw 4\n",
      "Skipping line 17101: expected 3 fields, saw 4\n",
      "Skipping line 17110: expected 3 fields, saw 4\n",
      "Skipping line 17167: expected 3 fields, saw 4\n",
      "Skipping line 17171: expected 3 fields, saw 4\n",
      "Skipping line 17206: expected 3 fields, saw 4\n",
      "Skipping line 17254: expected 3 fields, saw 4\n",
      "Skipping line 17295: expected 3 fields, saw 4\n",
      "Skipping line 17347: expected 3 fields, saw 4\n",
      "Skipping line 17419: expected 3 fields, saw 4\n",
      "Skipping line 17573: expected 3 fields, saw 4\n",
      "Skipping line 17597: expected 3 fields, saw 4\n",
      "Skipping line 17679: expected 3 fields, saw 4\n",
      "\n"
     ]
    }
   ],
   "source": [
    "# Read in the movie titles dataset and movies with , in the title are removed\n",
    "movie_titles = pd.read_csv('movie_titles.csv', names=['movie_id', 'year', 'title'], encoding='ISO-8859-1', on_bad_lines='warn')\n",
    "print(movie_titles.head())"
   ]
  },
  {
   "attachments": {},
   "cell_type": "markdown",
   "metadata": {},
   "source": [
    "Some movies contain an comma, these movies (about 300) have been deleted."
   ]
  },
  {
   "attachments": {},
   "cell_type": "markdown",
   "metadata": {},
   "source": [
    "# 3) Exploratory Data Analysis (EDA)"
   ]
  },
  {
   "attachments": {},
   "cell_type": "markdown",
   "metadata": {},
   "source": [
    "EDA for Netflix dataset\n",
    "In this chapter, we conduct an Exploratory Data Analysis (EDA) to better understand the Netflix movie dataset. The goal is to understand the data available and what we can use as features for a recommendation model.\n",
    "\n",
    "The followings steps will be taken:\n",
    "\n",
    "1. Overview of the dataset: Get a general understanding of the dataset by looking at the number of rows, columns, and data types. Use the info() and describe() functions in pandas to get a quick summary of the dataset.\n",
    "\n",
    "2. Univariate analysis: Univariate analysis involves examining individual variables in the dataset. This helps me understand the distribution and characteristics of each variable. For continuous variables, such as movie ratings or duration, I can create histograms or density plots to visualize the distribution.\n",
    "\n",
    "3. Multivariate analysis: Multivariate analysis investigates the relationships between multiple variables in the dataset. This helps me understand how variables interact with each other and can reveal patterns or trends that may not be apparent when looking at individual variables. I will do an correlation analysis using a heatmap."
   ]
  },
  {
   "cell_type": "code",
   "execution_count": 54,
   "metadata": {},
   "outputs": [
    {
     "data": {
      "text/html": [
       "<div>\n",
       "<style scoped>\n",
       "    .dataframe tbody tr th:only-of-type {\n",
       "        vertical-align: middle;\n",
       "    }\n",
       "\n",
       "    .dataframe tbody tr th {\n",
       "        vertical-align: top;\n",
       "    }\n",
       "\n",
       "    .dataframe thead th {\n",
       "        text-align: right;\n",
       "    }\n",
       "</style>\n",
       "<table border=\"1\" class=\"dataframe\">\n",
       "  <thead>\n",
       "    <tr style=\"text-align: right;\">\n",
       "      <th></th>\n",
       "      <th>movie_id</th>\n",
       "      <th>user_id</th>\n",
       "      <th>rating</th>\n",
       "      <th>date</th>\n",
       "    </tr>\n",
       "  </thead>\n",
       "  <tbody>\n",
       "    <tr>\n",
       "      <th>0</th>\n",
       "      <td>1</td>\n",
       "      <td>1488844</td>\n",
       "      <td>3</td>\n",
       "      <td>2005-09-06</td>\n",
       "    </tr>\n",
       "    <tr>\n",
       "      <th>1</th>\n",
       "      <td>1</td>\n",
       "      <td>822109</td>\n",
       "      <td>5</td>\n",
       "      <td>2005-05-13</td>\n",
       "    </tr>\n",
       "    <tr>\n",
       "      <th>2</th>\n",
       "      <td>1</td>\n",
       "      <td>885013</td>\n",
       "      <td>4</td>\n",
       "      <td>2005-10-19</td>\n",
       "    </tr>\n",
       "    <tr>\n",
       "      <th>3</th>\n",
       "      <td>1</td>\n",
       "      <td>30878</td>\n",
       "      <td>4</td>\n",
       "      <td>2005-12-26</td>\n",
       "    </tr>\n",
       "    <tr>\n",
       "      <th>4</th>\n",
       "      <td>1</td>\n",
       "      <td>823519</td>\n",
       "      <td>3</td>\n",
       "      <td>2004-05-03</td>\n",
       "    </tr>\n",
       "  </tbody>\n",
       "</table>\n",
       "</div>"
      ],
      "text/plain": [
       "   movie_id  user_id  rating        date\n",
       "0         1  1488844       3  2005-09-06\n",
       "1         1   822109       5  2005-05-13\n",
       "2         1   885013       4  2005-10-19\n",
       "3         1    30878       4  2005-12-26\n",
       "4         1   823519       3  2004-05-03"
      ]
     },
     "execution_count": 54,
     "metadata": {},
     "output_type": "execute_result"
    }
   ],
   "source": [
    "data.head()"
   ]
  },
  {
   "cell_type": "code",
   "execution_count": 59,
   "metadata": {},
   "outputs": [
    {
     "name": "stdout",
     "output_type": "stream",
     "text": [
      "           movie_id       user_id        rating\n",
      "count  1.004805e+08  1.004805e+08  1.004805e+08\n",
      "mean   9.070915e+03  1.322489e+06  3.604290e+00\n",
      "std    5.131891e+03  7.645368e+05  1.085219e+00\n",
      "min    1.000000e+00  6.000000e+00  1.000000e+00\n",
      "25%    4.677000e+03  6.611980e+05  3.000000e+00\n",
      "50%    9.051000e+03  1.319012e+06  4.000000e+00\n",
      "75%    1.363500e+04  1.984455e+06  4.000000e+00\n",
      "max    1.777000e+04  2.649429e+06  5.000000e+00\n",
      "Ratings summary statistics:\n",
      "count    1.004805e+08\n",
      "mean     3.604290e+00\n",
      "std      1.085219e+00\n",
      "min      1.000000e+00\n",
      "25%      3.000000e+00\n",
      "50%      4.000000e+00\n",
      "75%      4.000000e+00\n",
      "max      5.000000e+00\n",
      "Name: rating, dtype: float64\n"
     ]
    }
   ],
   "source": [
    "# Describe data\n",
    "print(data.describe())\n",
    "\n",
    "# Calculate summary statistics for the ratings\n",
    "print(\"Ratings summary statistics:\")\n",
    "print(data['rating'].describe())\n"
   ]
  },
  {
   "attachments": {},
   "cell_type": "markdown",
   "metadata": {},
   "source": [
    "Key findings: \n",
    "\n",
    "- There are 100,480,508 records in the dataset, each representing a movie rating given by a user.\n",
    "- The Movie IDs range from 1 to 17,770.\n",
    "- The User IDs range from 6 to 2,649,429.\n",
    "- The ratings are on a scale of 1 to 5, with an average rating of 3.60 and a standard deviation of 1.09. This suggests that users generally give relatively high ratings to movies.\n",
    "\n",
    "I can further analyze the distribution of ratings using percentiles:\n",
    "\n",
    "- 25% of the ratings are 3 or lower.\n",
    "- 50% of the ratings (the median) are 4 or lower.\n",
    "- 75% of the ratings are 4 or lower, this means that most users give movies a rating of 4 or 5.\n",
    "\n",
    "In summary, this dataset has lots of movie ratings from many different people. Most people tend to give movies a high rating, either 4 or 5 stars. Knowing this can be useful when creating a movie recommendation system."
   ]
  },
  {
   "cell_type": "code",
   "execution_count": 57,
   "metadata": {},
   "outputs": [
    {
     "name": "stdout",
     "output_type": "stream",
     "text": [
      "Top 10 most popular movies by number of ratings:\n",
      "5317     232944\n",
      "15124    216596\n",
      "14313    200832\n",
      "15205    196397\n",
      "1905     193941\n",
      "6287     193295\n",
      "11283    181508\n",
      "16377    181426\n",
      "16242    178068\n",
      "12470    177556\n",
      "Name: movie_id, dtype: int64\n",
      "Top 10 highest-rated movies:\n",
      "movie_id\n",
      "14961    4.723270\n",
      "7230     4.716611\n",
      "7057     4.702611\n",
      "3456     4.670989\n",
      "9864     4.638809\n",
      "15538    4.605021\n",
      "8964     4.600000\n",
      "14791    4.600000\n",
      "10464    4.595506\n",
      "14550    4.593384\n",
      "Name: rating, dtype: float64\n"
     ]
    }
   ],
   "source": [
    "# Identify the most popular movies by the number of ratings\n",
    "popular_movies = data['movie_id'].value_counts().head(10)\n",
    "print(\"Top 10 most popular movies by number of ratings:\")\n",
    "print(popular_movies)\n",
    "\n",
    "# Calculate average ratings for movies\n",
    "average_ratings = data.groupby('movie_id')['rating'].mean()\n",
    "\n",
    "# Identify the highest-rated movies\n",
    "highest_rated_movies = average_ratings.sort_values(ascending=False).head(10)\n",
    "print(\"Top 10 highest-rated movies:\")\n",
    "print(highest_rated_movies)"
   ]
  },
  {
   "cell_type": "code",
   "execution_count": 39,
   "metadata": {},
   "outputs": [
    {
     "name": "stderr",
     "output_type": "stream",
     "text": [
      "C:\\Users\\User\\AppData\\Local\\Temp\\ipykernel_23500\\2389322518.py:26: UserWarning: FixedFormatter should only be used together with FixedLocator\n",
      "  ax.set_xticklabels([int(x) for x in ax.get_xticks()], fontsize=6)\n",
      "C:\\Users\\User\\AppData\\Local\\Temp\\ipykernel_23500\\2389322518.py:27: UserWarning: FixedFormatter should only be used together with FixedLocator\n",
      "  ax.set_yticklabels([int(y) for y in ax.get_yticks()], fontsize=6)\n"
     ]
    },
    {
     "data": {
      "image/png": "[encoded data removed]",
      "text/plain": [
       "<Figure size 500x500 with 1 Axes>"
      ]
     },
     "metadata": {},
     "output_type": "display_data"
    }
   ],
   "source": [
    "# Set style and color palette\n",
    "sns.set_style('whitegrid')\n",
    "sns.set_palette('pastel')\n",
    "\n",
    "# Visualize the distribution of ratings using a histogram\n",
    "fig, ax = plt.subplots(figsize=(2, 2), dpi=250)\n",
    "sns.histplot(data['rating'], bins=5, kde=False, ax=ax)\n",
    "\n",
    "# Set x and y labels and title\n",
    "ax.set_xlabel('Rating', fontsize=6)\n",
    "ax.set_ylabel('Frequency', fontsize=6)\n",
    "ax.set_title('Distribution of Ratings', fontsize=8)\n",
    "\n",
    "# Remove spines on the right and top sides\n",
    "sns.despine(right=True, top=True)\n",
    "\n",
    "# Add mean and median lines\n",
    "mean = data['rating'].mean()\n",
    "median = data['rating'].median()\n",
    "ax.axvline(mean, color='indianred', linestyle='--', label=f'Mean: {mean:.2f}')\n",
    "ax.axvline(median, color='darkorange', linestyle='--', label=f'Median: {median:.2f}')\n",
    "ax.legend(fontsize=6)\n",
    "\n",
    "# Add gridlines and adjust tick labels\n",
    "ax.grid(axis='y', linestyle='--', alpha=0.7)\n",
    "ax.set_xticklabels([int(x) for x in ax.get_xticks()], fontsize=6)\n",
    "ax.set_yticklabels([int(y) for y in ax.get_yticks()], fontsize=6)\n",
    "\n",
    "plt.show()\n"
   ]
  },
  {
   "attachments": {},
   "cell_type": "markdown",
   "metadata": {},
   "source": [
    "In the plot, the median rating is 4, and the mean rating is 3.6. The median is the middle value in a dataset when the data is sorted, meaning that 50% of the ratings are above this value and 50% are below it. In this case, the median rating is 4, which indicates that half of the movie ratings are 4 or higher, and the other half are lower than 4. This indicates that the distribution of ratings might be slightly skewed to the left."
   ]
  },
  {
   "cell_type": "code",
   "execution_count": 53,
   "metadata": {},
   "outputs": [
    {
     "name": "stderr",
     "output_type": "stream",
     "text": [
      "C:\\Users\\User\\AppData\\Local\\Temp\\ipykernel_27488\\3799623592.py:26: UserWarning: FixedFormatter should only be used together with FixedLocator\n",
      "  ax.set_xticklabels([int(x) for x in ax.get_xticks()], fontsize=4)\n",
      "C:\\Users\\User\\AppData\\Local\\Temp\\ipykernel_27488\\3799623592.py:27: UserWarning: FixedFormatter should only be used together with FixedLocator\n",
      "  ax.set_yticklabels([int(y) for y in ax.get_yticks()], fontsize=4)\n"
     ]
    },
    {
     "data": {
      "image/png": "[encoded data removed]",
      "text/plain": [
       "<Figure size 1000x375 with 2 Axes>"
      ]
     },
     "metadata": {},
     "output_type": "display_data"
    }
   ],
   "source": [
    "# Count the number of ratings each user gave\n",
    "ratings_per_user = data['user_id'].value_counts()\n",
    "ratings_per_user_clipped = ratings_per_user.clip(upper=200)\n",
    "\n",
    "# Create a 1x2 grid of plots\n",
    "fig, axes = plt.subplots(nrows=1, ncols=2, figsize=(4, 1.5), dpi=250)\n",
    "\n",
    "# Plot the original histogram\n",
    "sns.histplot(ratings_per_user, kde=False, ax=axes[0])\n",
    "axes[0].set_xlabel('Number of Ratings per User', fontsize=4)\n",
    "axes[0].set_ylabel('Frequency', fontsize=4)\n",
    "axes[0].set_title('Original Distribution', fontsize=4)\n",
    "\n",
    "# Plot the clipped histogram\n",
    "sns.histplot(ratings_per_user_clipped, kde=False, ax=axes[1])\n",
    "axes[1].set_xlabel('Number of Ratings per User (clipped at 200)', fontsize=4)\n",
    "axes[1].set_ylabel('Frequency', fontsize=4)\n",
    "axes[1].set_title('Distribution Clipped at 200 Ratings', fontsize=4)\n",
    "\n",
    "# Remove spines on the right and top sides\n",
    "sns.despine(right=True, top=True)\n",
    "\n",
    "# Add gridlines and adjust tick labels\n",
    "for ax in axes:\n",
    "    ax.grid(axis='y', linestyle='--', alpha=0.7)\n",
    "    ax.set_xticklabels([int(x) for x in ax.get_xticks()], fontsize=4)\n",
    "    ax.set_yticklabels([int(y) for y in ax.get_yticks()], fontsize=4)\n",
    "\n",
    "plt.tight_layout()\n",
    "plt.show()\n"
   ]
  },
  {
   "cell_type": "code",
   "execution_count": 66,
   "metadata": {},
   "outputs": [
    {
     "name": "stdout",
     "output_type": "stream",
     "text": [
      "Number of users that rated more than 200 movies: 150245\n",
      "Number of users that rated less than 200 movies: 329944\n"
     ]
    }
   ],
   "source": [
    "#count amount of users rated more than 200 movies and amount of users that rated less than 200 movies\n",
    "print(\"Number of users that rated more than 200 movies:\", ratings_per_user[ratings_per_user > 200].count())\n",
    "print(\"Number of users that rated less than 200 movies:\", ratings_per_user[ratings_per_user <= 200].count())\n"
   ]
  },
  {
   "attachments": {},
   "cell_type": "markdown",
   "metadata": {},
   "source": [
    "The two histograms display the distribution of the number of ratings per user. Most users have rated fewer than 200 movies, but there are also many users who have rated more than 200 movies, as shown in the original distribution."
   ]
  },
  {
   "cell_type": "code",
   "execution_count": 60,
   "metadata": {},
   "outputs": [
    {
     "data": {
      "image/png": "[encoded data removed]",
      "text/plain": [
       "<Figure size 375x375 with 1 Axes>"
      ]
     },
     "metadata": {},
     "output_type": "display_data"
    }
   ],
   "source": [
    "# Explore the relationship between the date of the rating and the rating itself\n",
    "data['date'] = pd.to_datetime(data['date'])\n",
    "data['year'] = data['date'].dt.year\n",
    "ratings_by_year = data.groupby('year')['rating'].mean()\n",
    "\n",
    "fig, ax = plt.subplots(figsize=(1.5, 1.5), dpi=250)\n",
    "plt.plot(ratings_by_year)\n",
    "\n",
    "# Set x and y labels and title\n",
    "ax.set_xlabel('Year', fontsize=3)\n",
    "ax.set_ylabel('Average Rating', fontsize=3)\n",
    "ax.set_title('Average Ratings by Year', fontsize=4)\n",
    "\n",
    "# Remove spines on the right and top sides\n",
    "sns.despine(right=True, top=True)\n",
    "\n",
    "# Add gridlines and adjust tick labels\n",
    "ax.grid(axis='y', linestyle='--', alpha=0.3)\n",
    "ax.tick_params(axis='both', which='major', labelsize=3)\n",
    "\n",
    "plt.show()\n",
    "\n"
   ]
  },
  {
   "attachments": {},
   "cell_type": "markdown",
   "metadata": {},
   "source": [
    "Average user rating went up with the years."
   ]
  },
  {
   "cell_type": "code",
   "execution_count": 65,
   "metadata": {},
   "outputs": [
    {
     "name": "stderr",
     "output_type": "stream",
     "text": [
      "C:\\Users\\User\\AppData\\Local\\Temp\\ipykernel_23500\\829148092.py:26: UserWarning: FixedFormatter should only be used together with FixedLocator\n",
      "  ax.set_xticklabels([int(x) for x in ax.get_xticks()], fontsize=8)\n",
      "C:\\Users\\User\\AppData\\Local\\Temp\\ipykernel_23500\\829148092.py:27: UserWarning: FixedFormatter should only be used together with FixedLocator\n",
      "  ax.set_yticklabels([int(y) for y in ax.get_yticks()], fontsize=8)\n"
     ]
    },
    {
     "data": {
      "image/png": "[encoded data removed]",
      "text/plain": [
       "<Figure size 1000x300 with 2 Axes>"
      ]
     },
     "metadata": {},
     "output_type": "display_data"
    }
   ],
   "source": [
    "# Count the number of ratings each movie received\n",
    "ratings_per_movie = data['movie_id'].value_counts()\n",
    "ratings_per_movie_clipped = ratings_per_movie.clip(upper=10000)\n",
    "\n",
    "# Create a 1x2 grid of plots\n",
    "fig, axes = plt.subplots(nrows=1, ncols=2, figsize=(10, 3), dpi=100)\n",
    "\n",
    "# Plot the original histogram\n",
    "sns.histplot(ratings_per_movie, kde=False, ax=axes[0])\n",
    "axes[0].set_xlabel('Number of Ratings per Movie', fontsize=10)\n",
    "axes[0].set_ylabel('Frequency', fontsize=10)\n",
    "axes[0].set_title('Original Distribution', fontsize=12)\n",
    "\n",
    "# Plot the clipped histogram\n",
    "sns.histplot(ratings_per_movie_clipped, kde=False, ax=axes[1])\n",
    "axes[1].set_xlabel('Number of Ratings per Movie (clipped at 10,000)', fontsize=10)\n",
    "axes[1].set_ylabel('Frequency', fontsize=10)\n",
    "axes[1].set_title('Distribution Clipped at 10,000 Ratings', fontsize=12)\n",
    "\n",
    "# Remove spines on the right and top sides\n",
    "sns.despine(right=True, top=True)\n",
    "\n",
    "# Add gridlines and adjust tick labels\n",
    "for ax in axes:\n",
    "    ax.grid(axis='y', linestyle='--', alpha=0.7)\n",
    "    ax.set_xticklabels([int(x) for x in ax.get_xticks()], fontsize=8)\n",
    "    ax.set_yticklabels([int(y) for y in ax.get_yticks()], fontsize=8)\n",
    "\n",
    "plt.tight_layout()\n",
    "plt.show()\n",
    "\n"
   ]
  },
  {
   "attachments": {},
   "cell_type": "markdown",
   "metadata": {},
   "source": [
    "These charts show how often movies get rated. Most movies don't get rated more than 1000 times, meaning that they aren't reviewed as much.\n"
   ]
  },
  {
   "attachments": {},
   "cell_type": "markdown",
   "metadata": {},
   "source": [
    "In this code we on focus on the more \"active\" users and movies. Here's what I did:\n",
    "\n",
    "1. First, we count how many reviews each user has made. It helps us see who's more active.\n",
    "2. Then, we find users who have reviewed more than 50 movies. We're interested in these \"super-users\" because they give us lots of information.\n",
    "Next, we count how many reviews each movie has gotten. It shows us which movies are more popular.\n",
    "Lastly, we find movies that have more than 50 reviews. These are the ones that many people have watched and reviewed. Now we have a list of users and movies that are more active or popular. Focusing on these can help our recommendation system because it gives us more information to work with. "
   ]
  },
  {
   "cell_type": "code",
   "execution_count": 51,
   "metadata": {},
   "outputs": [
    {
     "data": {
      "text/plain": [
       "(100480507, 5)"
      ]
     },
     "execution_count": 51,
     "metadata": {},
     "output_type": "execute_result"
    }
   ],
   "source": [
    "data.shape"
   ]
  },
  {
   "cell_type": "code",
   "execution_count": 70,
   "metadata": {},
   "outputs": [
    {
     "name": "stdout",
     "output_type": "stream",
     "text": [
      "Number of users with less than 25 ratings: 70234\n"
     ]
    }
   ],
   "source": [
    "# Count the number of ratings per user\n",
    "user_counts = data['user_id'].value_counts()\n",
    "\n",
    "# Print the number of users with less than 10 ratings\n",
    "print(\"Number of users with less than 25 ratings:\", len(user_counts[user_counts < 25]))"
   ]
  },
  {
   "cell_type": "code",
   "execution_count": 68,
   "metadata": {},
   "outputs": [
    {
     "name": "stdout",
     "output_type": "stream",
     "text": [
      "Number of movies with less than 50 ratings: 57\n",
      "Number of movies with less than 50 ratings: 975\n"
     ]
    }
   ],
   "source": [
    "# Count the number of ratings per user\n",
    "movie_counts = data['movie_id'].value_counts()\n",
    "\n",
    "# Print the number of users with less than 10 ratings\n",
    "print(\"Number of movies with less than 50 ratings:\", len(movie_counts[movie_counts < 50]))\n",
    "print(\"Number of movies with less than 50 ratings:\", len(movie_counts[movie_counts < 100]))"
   ]
  },
  {
   "cell_type": "code",
   "execution_count": 71,
   "metadata": {},
   "outputs": [],
   "source": [
    "# Find users who have reviewed more than 50 movies\n",
    "user_review_counts = data.groupby('user_id')['movie_id'].count()\n",
    "users_over_50_reviews = user_review_counts[user_review_counts > 25].index.tolist()\n",
    "\n",
    "# Find movies that have been reviewed by more than 50 users\n",
    "movie_review_counts = data.groupby('movie_id')['user_id'].count()\n",
    "movies_over_50_reviews = movie_review_counts[movie_review_counts > 50].index.tolist()"
   ]
  },
  {
   "cell_type": "code",
   "execution_count": 73,
   "metadata": {},
   "outputs": [],
   "source": [
    "# Filter the dataframes to only include users who have reviewed more than 25 movies\n",
    "data = data[data['user_id'].isin(users_over_50_reviews)]\n",
    "\n",
    "# Filter the dataframes to only include movies that have been reviewed by more than 50 users\n",
    "data = data[data['movie_id'].isin(movies_over_50_reviews)]"
   ]
  },
  {
   "cell_type": "code",
   "execution_count": 92,
   "metadata": {},
   "outputs": [
    {
     "name": "stderr",
     "output_type": "stream",
     "text": [
      "C:\\Users\\User\\AppData\\Local\\Temp\\ipykernel_23500\\560218790.py:2: FutureWarning: The default value of numeric_only in DataFrame.corr is deprecated. In a future version, it will default to False. Select only valid columns or specify the value of numeric_only to silence this warning.\n",
      "  correlation_matrix = data.corr()\n"
     ]
    },
    {
     "data": {
      "image/png": "[encoded data removed]",
      "text/plain": [
       "<Figure size 750x750 with 2 Axes>"
      ]
     },
     "metadata": {},
     "output_type": "display_data"
    }
   ],
   "source": [
    "# Calculate correlation matrix for the data\n",
    "correlation_matrix = data.corr()\n",
    "\n",
    "# Visualize the correlation matrix using a heatmap\n",
    "fig, ax = plt.subplots(figsize=(3, 3), dpi=250)\n",
    "sns.heatmap(correlation_matrix, annot=True, cmap='coolwarm', vmin=-1, vmax=1, ax=ax,\n",
    "            annot_kws={\"fontsize\": 4}, fmt=\".2f\", cbar=True)\n",
    "\n",
    "# Set the title for the heatmap\n",
    "ax.set_title('Correlation Matrix for Netflix dataset', fontsize=6)\n",
    "\n",
    "# Set fontsize for x-axis and y-axis tick labels\n",
    "ax.set_xticklabels(ax.get_xticklabels(), fontsize=4)\n",
    "ax.set_yticklabels(ax.get_yticklabels(), fontsize=4)\n",
    "\n",
    "plt.tight_layout()\n",
    "plt.show()\n"
   ]
  },
  {
   "attachments": {},
   "cell_type": "markdown",
   "metadata": {},
   "source": [
    "This chart shows the relationships between different parts of the Netflix dataset. It tells us that there isn't a strong connection between the different pieces of information in the dataset."
   ]
  },
  {
   "attachments": {},
   "cell_type": "markdown",
   "metadata": {},
   "source": [
    "# 4) Feature Engineering"
   ]
  },
  {
   "attachments": {},
   "cell_type": "markdown",
   "metadata": {},
   "source": [
    "Because of my enthusiasm for this project I added some features to the datasets. Later I realized that this is not necassery for a RecSys.\n",
    "\n",
    "Feature engineering can be helpful for some recommendation systems, but not all. It really depends on the type of recommendation system and the algorithm you're using. For example, k-Nearest Neighbors (kNN) and Singular Value Decomposition (SVD) might not benefit much from extra features, because they're all about finding patterns in user-item interactions.\n",
    "\n",
    "In simple terms, kNN finds similar users or items based on ratings, and SVD uncovers hidden factors by simplifying the user-item matrix. So, adding extra features might not make these algorithms better, since they focus on user-item interactions.\n",
    "\n",
    "Extra features can still be useful in other types of recommendation techniques, like content-based filtering or hybrid systems. In these cases, more information about items can help improve the recommendations.\n",
    "\n",
    "In the end, I decided not to use extra features for my project. It's important to know what works best for the algorithm you're using, and sometimes keeping things simple can be just as effective."
   ]
  },
  {
   "cell_type": "code",
   "execution_count": 8,
   "metadata": {},
   "outputs": [
    {
     "name": "stdout",
     "output_type": "stream",
     "text": [
      "   movie_id  user_id  rating       date  year  avg_movie_rating  \\\n",
      "0         1  1488844       3 2005-09-06  2005          3.749543   \n",
      "1         1   822109       5 2005-05-13  2005          3.749543   \n",
      "2         1   885013       4 2005-10-19  2005          3.749543   \n",
      "3         1    30878       4 2005-12-26  2005          3.749543   \n",
      "4         1   823519       3 2004-05-03  2004          3.749543   \n",
      "\n",
      "   user_rating_count  days_since_last_rating  \n",
      "0               2206                     NaN  \n",
      "1                147                     NaN  \n",
      "2                366                     NaN  \n",
      "3               1291                     NaN  \n",
      "4                647                     NaN  \n"
     ]
    }
   ],
   "source": [
    "# Calculate the average rating of a movie\n",
    "data['avg_movie_rating'] = data['movie_id'].map(average_ratings)\n",
    "\n",
    "# Calculate the number of ratings a user has given\n",
    "user_rating_counts = data['user_id'].value_counts()\n",
    "data['user_rating_count'] = data['user_id'].map(user_rating_counts)\n",
    "\n",
    "# Calculate the time since the user's last rating\n",
    "data['days_since_last_rating'] = data.groupby('user_id')['date'].transform(lambda x: x.diff().dt.days)\n",
    "\n",
    "# Display the dataset with new features\n",
    "print(data.head())"
   ]
  },
  {
   "attachments": {},
   "cell_type": "markdown",
   "metadata": {},
   "source": [
    "## Dataframe sizing"
   ]
  },
  {
   "attachments": {},
   "cell_type": "markdown",
   "metadata": {},
   "source": [
    "Dataframe is so big, it took too long to load. Changed the .CSV format to parquet. Used this video as inspiration: https://www.youtube.com/watch?v=u4rsA5ZiTls&ab_channel=RobMulla."
   ]
  },
  {
   "attachments": {},
   "cell_type": "markdown",
   "metadata": {},
   "source": [
    "First need to pip install the Pyarrow library."
   ]
  },
  {
   "cell_type": "code",
   "execution_count": null,
   "metadata": {},
   "outputs": [],
   "source": [
    "!pip install Pyarrow"
   ]
  },
  {
   "cell_type": "code",
   "execution_count": 89,
   "metadata": {},
   "outputs": [],
   "source": [
    "import pyarrow.parquet as pq"
   ]
  },
  {
   "attachments": {},
   "cell_type": "markdown",
   "metadata": {},
   "source": [
    "I will now write the dataset to disk for modelling. There are various formats that can be used to store intermediate datasets for ML, for example: csv, pickle, feather, parquet. I will use parquet in this case."
   ]
  },
  {
   "cell_type": "code",
   "execution_count": 90,
   "metadata": {},
   "outputs": [
    {
     "name": "stdout",
     "output_type": "stream",
     "text": [
      "13.2 s ± 429 ms per loop (mean ± std. dev. of 7 runs, 1 loop each)\n"
     ]
    }
   ],
   "source": [
    "%timeit data.to_parquet('data.parquet', index=False)"
   ]
  },
  {
   "attachments": {},
   "cell_type": "markdown",
   "metadata": {},
   "source": [
    "Took just 13 seconds compared to about 4 minutes for a csv file."
   ]
  },
  {
   "cell_type": "code",
   "execution_count": 93,
   "metadata": {},
   "outputs": [],
   "source": [
    "df = pd.read_parquet('data.parquet')"
   ]
  },
  {
   "cell_type": "code",
   "execution_count": 94,
   "metadata": {},
   "outputs": [
    {
     "name": "stdout",
     "output_type": "stream",
     "text": [
      "movie_id    False\n",
      "user_id     False\n",
      "rating      False\n",
      "date        False\n",
      "year        False\n",
      "dtype: bool\n"
     ]
    }
   ],
   "source": [
    "nan_values = df.isna().any()\n",
    "print(nan_values)\n"
   ]
  },
  {
   "attachments": {},
   "cell_type": "markdown",
   "metadata": {},
   "source": [
    "## Subset of dataset because memory won't allow"
   ]
  },
  {
   "attachments": {},
   "cell_type": "markdown",
   "metadata": {},
   "source": [
    "So, in this code snippet, we're working with a big dataset. But we want to focus on just a small part of it to make things easier. \n",
    "\n",
    "1. First, we find all the unique movie IDs in the dataset. I don't want duplicates.\n",
    "2. Then, we randomly pick 1000 movie IDs from the unique ones. I just want a small sample.\n",
    "3. After that, we filter the dataset to keep only the data for those 1000 movie IDs. \n",
    "\n",
    "Now we have a smaller dataset with just 1000 movies, which should be easier to work with. \n",
    "\n",
    "Sometimes, you have to start small to understand the bigger picture."
   ]
  },
  {
   "cell_type": "code",
   "execution_count": 96,
   "metadata": {},
   "outputs": [],
   "source": [
    "# Extract unique movie_ids\n",
    "unique_movie_ids = df['movie_id'].unique()\n",
    "\n",
    "# Get a random sample of 1000 movie_ids\n",
    "random_sample_movie_ids = pd.Series(unique_movie_ids).sample(1000).tolist()\n",
    "\n",
    "# Filter the dataframe using the random sample of movie_ids\n",
    "subset_df = df[df['movie_id'].isin(random_sample_movie_ids)]"
   ]
  },
  {
   "cell_type": "code",
   "execution_count": 97,
   "metadata": {},
   "outputs": [
    {
     "data": {
      "text/html": [
       "<div>\n",
       "<style scoped>\n",
       "    .dataframe tbody tr th:only-of-type {\n",
       "        vertical-align: middle;\n",
       "    }\n",
       "\n",
       "    .dataframe tbody tr th {\n",
       "        vertical-align: top;\n",
       "    }\n",
       "\n",
       "    .dataframe thead th {\n",
       "        text-align: right;\n",
       "    }\n",
       "</style>\n",
       "<table border=\"1\" class=\"dataframe\">\n",
       "  <thead>\n",
       "    <tr style=\"text-align: right;\">\n",
       "      <th></th>\n",
       "      <th>movie_id</th>\n",
       "      <th>user_id</th>\n",
       "      <th>rating</th>\n",
       "      <th>date</th>\n",
       "      <th>year</th>\n",
       "    </tr>\n",
       "  </thead>\n",
       "  <tbody>\n",
       "    <tr>\n",
       "      <th>43554159</th>\n",
       "      <td>7767</td>\n",
       "      <td>372794</td>\n",
       "      <td>4</td>\n",
       "      <td>2005-07-25</td>\n",
       "      <td>2005</td>\n",
       "    </tr>\n",
       "    <tr>\n",
       "      <th>74734682</th>\n",
       "      <td>13651</td>\n",
       "      <td>2401042</td>\n",
       "      <td>3</td>\n",
       "      <td>2005-08-02</td>\n",
       "      <td>2005</td>\n",
       "    </tr>\n",
       "    <tr>\n",
       "      <th>18624080</th>\n",
       "      <td>3610</td>\n",
       "      <td>2328967</td>\n",
       "      <td>5</td>\n",
       "      <td>2005-10-11</td>\n",
       "      <td>2005</td>\n",
       "    </tr>\n",
       "    <tr>\n",
       "      <th>18654349</th>\n",
       "      <td>3610</td>\n",
       "      <td>2296555</td>\n",
       "      <td>2</td>\n",
       "      <td>2005-02-01</td>\n",
       "      <td>2005</td>\n",
       "    </tr>\n",
       "    <tr>\n",
       "      <th>97372808</th>\n",
       "      <td>17381</td>\n",
       "      <td>2397274</td>\n",
       "      <td>5</td>\n",
       "      <td>2005-11-07</td>\n",
       "      <td>2005</td>\n",
       "    </tr>\n",
       "    <tr>\n",
       "      <th>59505374</th>\n",
       "      <td>11042</td>\n",
       "      <td>1512547</td>\n",
       "      <td>4</td>\n",
       "      <td>2003-12-09</td>\n",
       "      <td>2003</td>\n",
       "    </tr>\n",
       "    <tr>\n",
       "      <th>20378703</th>\n",
       "      <td>3904</td>\n",
       "      <td>1389065</td>\n",
       "      <td>4</td>\n",
       "      <td>2005-04-03</td>\n",
       "      <td>2005</td>\n",
       "    </tr>\n",
       "    <tr>\n",
       "      <th>24128969</th>\n",
       "      <td>4577</td>\n",
       "      <td>1449331</td>\n",
       "      <td>2</td>\n",
       "      <td>2001-11-17</td>\n",
       "      <td>2001</td>\n",
       "    </tr>\n",
       "    <tr>\n",
       "      <th>35576300</th>\n",
       "      <td>6386</td>\n",
       "      <td>649745</td>\n",
       "      <td>2</td>\n",
       "      <td>2005-09-29</td>\n",
       "      <td>2005</td>\n",
       "    </tr>\n",
       "    <tr>\n",
       "      <th>95896829</th>\n",
       "      <td>17169</td>\n",
       "      <td>2604264</td>\n",
       "      <td>5</td>\n",
       "      <td>2005-07-25</td>\n",
       "      <td>2005</td>\n",
       "    </tr>\n",
       "  </tbody>\n",
       "</table>\n",
       "</div>"
      ],
      "text/plain": [
       "          movie_id  user_id  rating       date  year\n",
       "43554159      7767   372794       4 2005-07-25  2005\n",
       "74734682     13651  2401042       3 2005-08-02  2005\n",
       "18624080      3610  2328967       5 2005-10-11  2005\n",
       "18654349      3610  2296555       2 2005-02-01  2005\n",
       "97372808     17381  2397274       5 2005-11-07  2005\n",
       "59505374     11042  1512547       4 2003-12-09  2003\n",
       "20378703      3904  1389065       4 2005-04-03  2005\n",
       "24128969      4577  1449331       2 2001-11-17  2001\n",
       "35576300      6386   649745       2 2005-09-29  2005\n",
       "95896829     17169  2604264       5 2005-07-25  2005"
      ]
     },
     "execution_count": 97,
     "metadata": {},
     "output_type": "execute_result"
    }
   ],
   "source": [
    "subset_df.sample(10)"
   ]
  },
  {
   "attachments": {},
   "cell_type": "markdown",
   "metadata": {},
   "source": [
    "Another parquet file because we don't want to reload the big file everytime. Even though it just took 46 seconds."
   ]
  },
  {
   "cell_type": "code",
   "execution_count": 99,
   "metadata": {},
   "outputs": [],
   "source": [
    "subset_df.to_parquet('subset_df.parquet', index=False)"
   ]
  },
  {
   "cell_type": "code",
   "execution_count": 3,
   "metadata": {},
   "outputs": [],
   "source": [
    "#read the subset_df.parquet file\n",
    "subset_df = pd.read_parquet('subset_df.parquet')"
   ]
  },
  {
   "cell_type": "code",
   "execution_count": 101,
   "metadata": {},
   "outputs": [
    {
     "data": {
      "text/plain": [
       "1000"
      ]
     },
     "execution_count": 101,
     "metadata": {},
     "output_type": "execute_result"
    }
   ],
   "source": [
    "#count amount of different movie_ids\n",
    "subset_df['movie_id'].nunique()"
   ]
  },
  {
   "cell_type": "code",
   "execution_count": 102,
   "metadata": {},
   "outputs": [
    {
     "data": {
      "text/plain": [
       "movie_id    0.0\n",
       "user_id     0.0\n",
       "rating      0.0\n",
       "date        0.0\n",
       "year        0.0\n",
       "dtype: float64"
      ]
     },
     "execution_count": 102,
     "metadata": {},
     "output_type": "execute_result"
    }
   ],
   "source": [
    "def percent_missing(subset_df):\n",
    "    missing = round(subset_df.isnull().sum() * 100 / subset_df.shape[0], 2).sort_values(ascending=False)\n",
    "    return missing\n",
    "\n",
    "percent_missing(subset_df)"
   ]
  },
  {
   "attachments": {},
   "cell_type": "markdown",
   "metadata": {},
   "source": [
    "For the models we just three columns: user_id, movie_id and rating"
   ]
  },
  {
   "cell_type": "code",
   "execution_count": 4,
   "metadata": {},
   "outputs": [
    {
     "data": {
      "text/html": [
       "<div>\n",
       "<style scoped>\n",
       "    .dataframe tbody tr th:only-of-type {\n",
       "        vertical-align: middle;\n",
       "    }\n",
       "\n",
       "    .dataframe tbody tr th {\n",
       "        vertical-align: top;\n",
       "    }\n",
       "\n",
       "    .dataframe thead th {\n",
       "        text-align: right;\n",
       "    }\n",
       "</style>\n",
       "<table border=\"1\" class=\"dataframe\">\n",
       "  <thead>\n",
       "    <tr style=\"text-align: right;\">\n",
       "      <th></th>\n",
       "      <th>movie_id</th>\n",
       "      <th>user_id</th>\n",
       "      <th>rating</th>\n",
       "    </tr>\n",
       "  </thead>\n",
       "  <tbody>\n",
       "    <tr>\n",
       "      <th>0</th>\n",
       "      <td>9</td>\n",
       "      <td>1329923</td>\n",
       "      <td>2</td>\n",
       "    </tr>\n",
       "    <tr>\n",
       "      <th>1</th>\n",
       "      <td>9</td>\n",
       "      <td>2472537</td>\n",
       "      <td>2</td>\n",
       "    </tr>\n",
       "    <tr>\n",
       "      <th>2</th>\n",
       "      <td>9</td>\n",
       "      <td>403531</td>\n",
       "      <td>5</td>\n",
       "    </tr>\n",
       "    <tr>\n",
       "      <th>3</th>\n",
       "      <td>9</td>\n",
       "      <td>635607</td>\n",
       "      <td>1</td>\n",
       "    </tr>\n",
       "    <tr>\n",
       "      <th>4</th>\n",
       "      <td>9</td>\n",
       "      <td>1520914</td>\n",
       "      <td>3</td>\n",
       "    </tr>\n",
       "  </tbody>\n",
       "</table>\n",
       "</div>"
      ],
      "text/plain": [
       "   movie_id  user_id  rating\n",
       "0         9  1329923       2\n",
       "1         9  2472537       2\n",
       "2         9   403531       5\n",
       "3         9   635607       1\n",
       "4         9  1520914       3"
      ]
     },
     "execution_count": 4,
     "metadata": {},
     "output_type": "execute_result"
    }
   ],
   "source": [
    "#make new dataframe from subset_df with only the columns movie_id, user_id, rating without index\n",
    "df2 = subset_df[['movie_id', 'user_id', 'rating']].reset_index(drop=True)\n",
    "df2.head()"
   ]
  },
  {
   "attachments": {},
   "cell_type": "markdown",
   "metadata": {},
   "source": [
    "# 5) Analysis"
   ]
  },
  {
   "attachments": {},
   "cell_type": "markdown",
   "metadata": {},
   "source": [
    "## K-Nearest Neighbours "
   ]
  },
  {
   "attachments": {},
   "cell_type": "markdown",
   "metadata": {},
   "source": [
    "USED SOURCES:\n",
    "\n",
    "harsh vijay (11 April 2020) Recommendation System using kNN [<source code>]. https://www.aurigait.com/blog/recommendation-system-using-knn/\n",
    "\n",
    "Jake Vanderplas (unknown date) 1.6. Nearest Neighbors\n",
    "[<source code>]. https://scikit-learn.org/stable/modules/neighbors.html\n",
    "\n",
    "Ethan Rosenthal (November 2, 2015) Intro to collaborative filtering\n",
    "[<source code>]. https://www.ethanrosenthal.com/2015/11/02/intro-to-collaborative-filtering/"
   ]
  },
  {
   "attachments": {},
   "cell_type": "markdown",
   "metadata": {},
   "source": [
    "In the context of a recommendation system, K-nearest neighbors (KNN) helps to find items that are most similar to a particular item based on user preferences or item features. We have a list of movies and their ratings by users, and we want to recommend movies similar to a specific movie. KNN works by measuring how similar the movies are, based on user ratings and then selecting the \"K\" most similar movies as recommendations. "
   ]
  },
  {
   "cell_type": "code",
   "execution_count": 41,
   "metadata": {},
   "outputs": [
    {
     "name": "stdout",
     "output_type": "stream",
     "text": [
      "(1000, 399286)\n"
     ]
    }
   ],
   "source": [
    "# Create a pivot table with the movie_id as the index, the user_id as the columns, and the ratings as the values\n",
    "df_pivot = df2.pivot(index=\"movie_id\", columns=\"user_id\", values=\"rating\").fillna(0)\n",
    "print(df_pivot.shape)"
   ]
  },
  {
   "cell_type": "code",
   "execution_count": 12,
   "metadata": {},
   "outputs": [
    {
     "data": {
      "text/html": [
       "<div>\n",
       "<style scoped>\n",
       "    .dataframe tbody tr th:only-of-type {\n",
       "        vertical-align: middle;\n",
       "    }\n",
       "\n",
       "    .dataframe tbody tr th {\n",
       "        vertical-align: top;\n",
       "    }\n",
       "\n",
       "    .dataframe thead th {\n",
       "        text-align: right;\n",
       "    }\n",
       "</style>\n",
       "<table border=\"1\" class=\"dataframe\">\n",
       "  <thead>\n",
       "    <tr style=\"text-align: right;\">\n",
       "      <th>user_id</th>\n",
       "      <th>6</th>\n",
       "      <th>7</th>\n",
       "      <th>8</th>\n",
       "      <th>10</th>\n",
       "      <th>25</th>\n",
       "      <th>33</th>\n",
       "      <th>42</th>\n",
       "      <th>59</th>\n",
       "      <th>79</th>\n",
       "      <th>83</th>\n",
       "      <th>...</th>\n",
       "      <th>2649375</th>\n",
       "      <th>2649376</th>\n",
       "      <th>2649378</th>\n",
       "      <th>2649384</th>\n",
       "      <th>2649388</th>\n",
       "      <th>2649401</th>\n",
       "      <th>2649404</th>\n",
       "      <th>2649409</th>\n",
       "      <th>2649426</th>\n",
       "      <th>2649429</th>\n",
       "    </tr>\n",
       "    <tr>\n",
       "      <th>movie_id</th>\n",
       "      <th></th>\n",
       "      <th></th>\n",
       "      <th></th>\n",
       "      <th></th>\n",
       "      <th></th>\n",
       "      <th></th>\n",
       "      <th></th>\n",
       "      <th></th>\n",
       "      <th></th>\n",
       "      <th></th>\n",
       "      <th></th>\n",
       "      <th></th>\n",
       "      <th></th>\n",
       "      <th></th>\n",
       "      <th></th>\n",
       "      <th></th>\n",
       "      <th></th>\n",
       "      <th></th>\n",
       "      <th></th>\n",
       "      <th></th>\n",
       "      <th></th>\n",
       "    </tr>\n",
       "  </thead>\n",
       "  <tbody>\n",
       "    <tr>\n",
       "      <th>9</th>\n",
       "      <td>0.0</td>\n",
       "      <td>0.0</td>\n",
       "      <td>0.0</td>\n",
       "      <td>0.0</td>\n",
       "      <td>0.0</td>\n",
       "      <td>0.0</td>\n",
       "      <td>0.0</td>\n",
       "      <td>0.0</td>\n",
       "      <td>0.0</td>\n",
       "      <td>0.0</td>\n",
       "      <td>...</td>\n",
       "      <td>0.0</td>\n",
       "      <td>0.0</td>\n",
       "      <td>0.0</td>\n",
       "      <td>0.0</td>\n",
       "      <td>0.0</td>\n",
       "      <td>0.0</td>\n",
       "      <td>0.0</td>\n",
       "      <td>0.0</td>\n",
       "      <td>0.0</td>\n",
       "      <td>0.0</td>\n",
       "    </tr>\n",
       "    <tr>\n",
       "      <th>22</th>\n",
       "      <td>0.0</td>\n",
       "      <td>0.0</td>\n",
       "      <td>0.0</td>\n",
       "      <td>0.0</td>\n",
       "      <td>0.0</td>\n",
       "      <td>0.0</td>\n",
       "      <td>0.0</td>\n",
       "      <td>0.0</td>\n",
       "      <td>0.0</td>\n",
       "      <td>0.0</td>\n",
       "      <td>...</td>\n",
       "      <td>0.0</td>\n",
       "      <td>0.0</td>\n",
       "      <td>0.0</td>\n",
       "      <td>0.0</td>\n",
       "      <td>0.0</td>\n",
       "      <td>0.0</td>\n",
       "      <td>0.0</td>\n",
       "      <td>0.0</td>\n",
       "      <td>0.0</td>\n",
       "      <td>0.0</td>\n",
       "    </tr>\n",
       "    <tr>\n",
       "      <th>32</th>\n",
       "      <td>0.0</td>\n",
       "      <td>0.0</td>\n",
       "      <td>0.0</td>\n",
       "      <td>0.0</td>\n",
       "      <td>0.0</td>\n",
       "      <td>0.0</td>\n",
       "      <td>0.0</td>\n",
       "      <td>0.0</td>\n",
       "      <td>0.0</td>\n",
       "      <td>0.0</td>\n",
       "      <td>...</td>\n",
       "      <td>0.0</td>\n",
       "      <td>0.0</td>\n",
       "      <td>0.0</td>\n",
       "      <td>0.0</td>\n",
       "      <td>0.0</td>\n",
       "      <td>0.0</td>\n",
       "      <td>0.0</td>\n",
       "      <td>0.0</td>\n",
       "      <td>0.0</td>\n",
       "      <td>0.0</td>\n",
       "    </tr>\n",
       "    <tr>\n",
       "      <th>57</th>\n",
       "      <td>0.0</td>\n",
       "      <td>0.0</td>\n",
       "      <td>0.0</td>\n",
       "      <td>0.0</td>\n",
       "      <td>0.0</td>\n",
       "      <td>0.0</td>\n",
       "      <td>0.0</td>\n",
       "      <td>0.0</td>\n",
       "      <td>0.0</td>\n",
       "      <td>0.0</td>\n",
       "      <td>...</td>\n",
       "      <td>0.0</td>\n",
       "      <td>0.0</td>\n",
       "      <td>0.0</td>\n",
       "      <td>0.0</td>\n",
       "      <td>0.0</td>\n",
       "      <td>0.0</td>\n",
       "      <td>0.0</td>\n",
       "      <td>0.0</td>\n",
       "      <td>0.0</td>\n",
       "      <td>0.0</td>\n",
       "    </tr>\n",
       "    <tr>\n",
       "      <th>59</th>\n",
       "      <td>0.0</td>\n",
       "      <td>0.0</td>\n",
       "      <td>0.0</td>\n",
       "      <td>0.0</td>\n",
       "      <td>0.0</td>\n",
       "      <td>0.0</td>\n",
       "      <td>0.0</td>\n",
       "      <td>0.0</td>\n",
       "      <td>0.0</td>\n",
       "      <td>0.0</td>\n",
       "      <td>...</td>\n",
       "      <td>0.0</td>\n",
       "      <td>0.0</td>\n",
       "      <td>0.0</td>\n",
       "      <td>0.0</td>\n",
       "      <td>0.0</td>\n",
       "      <td>0.0</td>\n",
       "      <td>0.0</td>\n",
       "      <td>0.0</td>\n",
       "      <td>0.0</td>\n",
       "      <td>0.0</td>\n",
       "    </tr>\n",
       "  </tbody>\n",
       "</table>\n",
       "<p>5 rows × 399286 columns</p>\n",
       "</div>"
      ],
      "text/plain": [
       "user_id   6        7        8        10       25       33       42       \\\n",
       "movie_id                                                                  \n",
       "9             0.0      0.0      0.0      0.0      0.0      0.0      0.0   \n",
       "22            0.0      0.0      0.0      0.0      0.0      0.0      0.0   \n",
       "32            0.0      0.0      0.0      0.0      0.0      0.0      0.0   \n",
       "57            0.0      0.0      0.0      0.0      0.0      0.0      0.0   \n",
       "59            0.0      0.0      0.0      0.0      0.0      0.0      0.0   \n",
       "\n",
       "user_id   59       79       83       ...  2649375  2649376  2649378  2649384  \\\n",
       "movie_id                             ...                                       \n",
       "9             0.0      0.0      0.0  ...      0.0      0.0      0.0      0.0   \n",
       "22            0.0      0.0      0.0  ...      0.0      0.0      0.0      0.0   \n",
       "32            0.0      0.0      0.0  ...      0.0      0.0      0.0      0.0   \n",
       "57            0.0      0.0      0.0  ...      0.0      0.0      0.0      0.0   \n",
       "59            0.0      0.0      0.0  ...      0.0      0.0      0.0      0.0   \n",
       "\n",
       "user_id   2649388  2649401  2649404  2649409  2649426  2649429  \n",
       "movie_id                                                        \n",
       "9             0.0      0.0      0.0      0.0      0.0      0.0  \n",
       "22            0.0      0.0      0.0      0.0      0.0      0.0  \n",
       "32            0.0      0.0      0.0      0.0      0.0      0.0  \n",
       "57            0.0      0.0      0.0      0.0      0.0      0.0  \n",
       "59            0.0      0.0      0.0      0.0      0.0      0.0  \n",
       "\n",
       "[5 rows x 399286 columns]"
      ]
     },
     "execution_count": 12,
     "metadata": {},
     "output_type": "execute_result"
    }
   ],
   "source": [
    "df_pivot.head()"
   ]
  },
  {
   "cell_type": "code",
   "execution_count": 6,
   "metadata": {},
   "outputs": [],
   "source": [
    "# Convert the pivot table to a sparse matrix\n",
    "df_matrix=csr_matrix(df_pivot.values)"
   ]
  },
  {
   "cell_type": "code",
   "execution_count": 7,
   "metadata": {},
   "outputs": [
    {
     "name": "stdout",
     "output_type": "stream",
     "text": [
      "kneighbors: 4, algorithm: brute, metric: cosine, distances: 0.6180979969577273\n",
      "kneighbors: 5, algorithm: brute, metric: cosine, distances: 0.6660942447185584\n",
      "kneighbors: 6, algorithm: brute, metric: cosine, distances: 0.6991596068606838\n",
      "kneighbors: 7, algorithm: brute, metric: cosine, distances: 0.723586449624885\n",
      "kneighbors: 8, algorithm: brute, metric: cosine, distances: 0.742398457121526\n",
      "kneighbors: 9, algorithm: brute, metric: cosine, distances: 0.7574256864740679\n",
      "kneighbors: 10, algorithm: brute, metric: cosine, distances: 0.7697418343331583\n",
      "kneighbors: 15, algorithm: brute, metric: cosine, distances: 0.8091943705852631\n",
      "kneighbors: 20, algorithm: brute, metric: cosine, distances: 0.8313297511307226\n"
     ]
    }
   ],
   "source": [
    "# Hyperparameter tuning nearest neighbors\n",
    "algorithm = ['brute']\n",
    "n_neighbors = [4, 5,6, 7, 8 ,9, 10, 15, 20]\n",
    "metric = ['cosine']\n",
    "\n",
    "#writing for loops to find the best hyperparameters\n",
    "for i in n_neighbors:\n",
    "    for k in metric:\n",
    "            for j in algorithm:\n",
    "                model_knn = NearestNeighbors(metric=k, algorithm=j , n_neighbors=i, n_jobs=-1)\n",
    "                model_knn.fit(df_matrix)\n",
    "                distances, indices = model_knn.kneighbors(df_matrix, n_neighbors=i)\n",
    "            print(f'kneighbors: {i}, algorithm: {j}, metric: {k}, distances: {distances.mean()}')"
   ]
  },
  {
   "attachments": {},
   "cell_type": "markdown",
   "metadata": {},
   "source": [
    "In this code, hyperparameter tuning is performed for the nearest neighbors model to find the best combination of parameters. By iterating through various options for the number of neighbors, the distance metric, and the search algorithm, the goal is to find the optimal settings for the model. For each combination, the model is trained, and the average distance between neighbors is calculated. This process helps identify the best performing model configuration to make more accurate recommendations. The inspiration for using for loops in this case came from Valentijn, as the grid search method didn't work for this specific problem."
   ]
  },
  {
   "cell_type": "code",
   "execution_count": 14,
   "metadata": {},
   "outputs": [
    {
     "data": {
      "text/html": [
       "<style>#sk-container-id-1 {color: black;background-color: white;}#sk-container-id-1 pre{padding: 0;}#sk-container-id-1 div.sk-toggleable {background-color: white;}#sk-container-id-1 label.sk-toggleable__label {cursor: pointer;display: block;width: 100%;margin-bottom: 0;padding: 0.3em;box-sizing: border-box;text-align: center;}#sk-container-id-1 label.sk-toggleable__label-arrow:before {content: \"▸\";float: left;margin-right: 0.25em;color: #696969;}#sk-container-id-1 label.sk-toggleable__label-arrow:hover:before {color: black;}#sk-container-id-1 div.sk-estimator:hover label.sk-toggleable__label-arrow:before {color: black;}#sk-container-id-1 div.sk-toggleable__content {max-height: 0;max-width: 0;overflow: hidden;text-align: left;background-color: #f0f8ff;}#sk-container-id-1 div.sk-toggleable__content pre {margin: 0.2em;color: black;border-radius: 0.25em;background-color: #f0f8ff;}#sk-container-id-1 input.sk-toggleable__control:checked~div.sk-toggleable__content {max-height: 200px;max-width: 100%;overflow: auto;}#sk-container-id-1 input.sk-toggleable__control:checked~label.sk-toggleable__label-arrow:before {content: \"▾\";}#sk-container-id-1 div.sk-estimator input.sk-toggleable__control:checked~label.sk-toggleable__label {background-color: #d4ebff;}#sk-container-id-1 div.sk-label input.sk-toggleable__control:checked~label.sk-toggleable__label {background-color: #d4ebff;}#sk-container-id-1 input.sk-hidden--visually {border: 0;clip: rect(1px 1px 1px 1px);clip: rect(1px, 1px, 1px, 1px);height: 1px;margin: -1px;overflow: hidden;padding: 0;position: absolute;width: 1px;}#sk-container-id-1 div.sk-estimator {font-family: monospace;background-color: #f0f8ff;border: 1px dotted black;border-radius: 0.25em;box-sizing: border-box;margin-bottom: 0.5em;}#sk-container-id-1 div.sk-estimator:hover {background-color: #d4ebff;}#sk-container-id-1 div.sk-parallel-item::after {content: \"\";width: 100%;border-bottom: 1px solid gray;flex-grow: 1;}#sk-container-id-1 div.sk-label:hover label.sk-toggleable__label {background-color: #d4ebff;}#sk-container-id-1 div.sk-serial::before {content: \"\";position: absolute;border-left: 1px solid gray;box-sizing: border-box;top: 0;bottom: 0;left: 50%;z-index: 0;}#sk-container-id-1 div.sk-serial {display: flex;flex-direction: column;align-items: center;background-color: white;padding-right: 0.2em;padding-left: 0.2em;position: relative;}#sk-container-id-1 div.sk-item {position: relative;z-index: 1;}#sk-container-id-1 div.sk-parallel {display: flex;align-items: stretch;justify-content: center;background-color: white;position: relative;}#sk-container-id-1 div.sk-item::before, #sk-container-id-1 div.sk-parallel-item::before {content: \"\";position: absolute;border-left: 1px solid gray;box-sizing: border-box;top: 0;bottom: 0;left: 50%;z-index: -1;}#sk-container-id-1 div.sk-parallel-item {display: flex;flex-direction: column;z-index: 1;position: relative;background-color: white;}#sk-container-id-1 div.sk-parallel-item:first-child::after {align-self: flex-end;width: 50%;}#sk-container-id-1 div.sk-parallel-item:last-child::after {align-self: flex-start;width: 50%;}#sk-container-id-1 div.sk-parallel-item:only-child::after {width: 0;}#sk-container-id-1 div.sk-dashed-wrapped {border: 1px dashed gray;margin: 0 0.4em 0.5em 0.4em;box-sizing: border-box;padding-bottom: 0.4em;background-color: white;}#sk-container-id-1 div.sk-label label {font-family: monospace;font-weight: bold;display: inline-block;line-height: 1.2em;}#sk-container-id-1 div.sk-label-container {text-align: center;}#sk-container-id-1 div.sk-container {/* jupyter's `normalize.less` sets `[hidden] { display: none; }` but bootstrap.min.css set `[hidden] { display: none !important; }` so we also need the `!important` here to be able to override the default hidden behavior on the sphinx rendered scikit-learn.org. See: https://github.com/scikit-learn/scikit-learn/issues/21755 */display: inline-block !important;position: relative;}#sk-container-id-1 div.sk-text-repr-fallback {display: none;}</style><div id=\"sk-container-id-1\" class=\"sk-top-container\"><div class=\"sk-text-repr-fallback\"><pre>NearestNeighbors(algorithm=&#x27;brute&#x27;, metric=&#x27;cosine&#x27;, n_jobs=-1)</pre><b>In a Jupyter environment, please rerun this cell to show the HTML representation or trust the notebook. <br />On GitHub, the HTML representation is unable to render, please try loading this page with nbviewer.org.</b></div><div class=\"sk-container\" hidden><div class=\"sk-item\"><div class=\"sk-estimator sk-toggleable\"><input class=\"sk-toggleable__control sk-hidden--visually\" id=\"sk-estimator-id-1\" type=\"checkbox\" checked><label for=\"sk-estimator-id-1\" class=\"sk-toggleable__label sk-toggleable__label-arrow\">NearestNeighbors</label><div class=\"sk-toggleable__content\"><pre>NearestNeighbors(algorithm=&#x27;brute&#x27;, metric=&#x27;cosine&#x27;, n_jobs=-1)</pre></div></div></div></div></div>"
      ],
      "text/plain": [
       "NearestNeighbors(algorithm='brute', metric='cosine', n_jobs=-1)"
      ]
     },
     "execution_count": 14,
     "metadata": {},
     "output_type": "execute_result"
    }
   ],
   "source": [
    "# Fit the model\n",
    "model_knn = NearestNeighbors(metric='cosine', algorithm='brute', n_neighbors=4, n_jobs=-1)\n",
    "model_knn.fit(df_matrix)"
   ]
  },
  {
   "cell_type": "code",
   "execution_count": 40,
   "metadata": {},
   "outputs": [],
   "source": [
    "#Making a function to get the average rating of a movie\n",
    "def get_average_rating(movie_id):\n",
    "    return df2[df2['movie_id'] == movie_id]['rating'].mean()"
   ]
  },
  {
   "attachments": {},
   "cell_type": "markdown",
   "metadata": {},
   "source": [
    "https://www.geeksforgeeks.org/recommendation-system-in-python/"
   ]
  },
  {
   "cell_type": "code",
   "execution_count": 42,
   "metadata": {},
   "outputs": [],
   "source": [
    "# Making a function to get the movie title\n",
    "def get_movie_title(movie_id):\n",
    "    return movie_titles[movie_titles['movie_id'] == movie_id]['title'].values[0]\n",
    "\n",
    "# Make a function to get the recommendations\n",
    "def get_recommendations(movie_id=None):\n",
    "    # Set the index to the movie_id\n",
    "    if movie_id is None:\n",
    "        # If the movie_id is not in the dataframe, get a random movie_id\n",
    "        query_index = np.random.choice(df_pivot.shape[0])\n",
    "    # If the movie_id is in the dataframe, get the index\n",
    "    else:\n",
    "        query_index = df_pivot.index.get_loc(movie_id)\n",
    "    # Get the distances and indices of the nearest neighbors\n",
    "    distances, indices = model_knn.kneighbors(df_pivot.iloc[query_index, :].values.reshape(1, -1), n_neighbors = 10)\n",
    "    # Get the movie_id of the nearest neighbors\n",
    "    movie_id = df_pivot.index[query_index]\n",
    "\n",
    "    # Print the movie title\n",
    "    print(\"Movie:\", get_movie_title(movie_id))\n",
    "    print(\"Top 10 similar movies:\")\n",
    "\n",
    "    # Loop through the distances and indices to print the movie title and distance\n",
    "    for i in range(1, len(distances.flatten())):  # Start from 1 to skip the movie itself\n",
    "        # Get the movie_id of the nearest neighbor\n",
    "        recommended_movie_id = df_pivot.index[indices.flatten()[i]]\n",
    "        # Get the movie title of the nearest neighbor\n",
    "        recommended_movie_title = get_movie_title(recommended_movie_id)\n",
    "        # Get the distance of the nearest neighbor\n",
    "        distance = distances.flatten()[i]\n",
    "        # Get the average rating of the nearest neighbor\n",
    "        avg_rating = get_average_rating(recommended_movie_id)\n",
    "        # Print the movie title and distance and average rating\n",
    "        print(f\"{i}: {recommended_movie_title}, with an average rating of: {avg_rating:.2f}, with distance of {distance:.5f}\")"
   ]
  },
  {
   "attachments": {},
   "cell_type": "markdown",
   "metadata": {},
   "source": [
    "I created a function that helps to recommend similar movies based on a given movie ID. First, the function finds the movie title for the given movie ID. Then, it uses a model to find the 10 nearest neighbors or most similar movies. For each of these similar movies, it retrieves the movie title, average rating, and the distance from the original movie. Finally, it displays the list of recommended movies along with their average ratings and the distances that show how similar they are to the original movie."
   ]
  },
  {
   "cell_type": "code",
   "execution_count": 38,
   "metadata": {},
   "outputs": [
    {
     "data": {
      "text/plain": [
       "2606295     7399\n",
       "2836573     7767\n",
       "4709459    15205\n",
       "3549770    10550\n",
       "4253727    14482\n",
       "292751      1110\n",
       "3476833    10550\n",
       "1097061     3610\n",
       "2877032     8221\n",
       "2402789     6692\n",
       "Name: movie_id, dtype: int64"
      ]
     },
     "execution_count": 38,
     "metadata": {},
     "output_type": "execute_result"
    }
   ],
   "source": [
    "# Get the recommendations for the movie with the movie_id \n",
    "df2.sample(10).movie_id"
   ]
  },
  {
   "cell_type": "code",
   "execution_count": 48,
   "metadata": {},
   "outputs": [
    {
     "name": "stdout",
     "output_type": "stream",
     "text": [
      "Movie: Entrapment\n",
      "Top 10 similar movies:\n",
      "1: The Day After Tomorrow, with an average rating of: 3.44, with distance of 0.47532\n",
      "2: Air Force One, with an average rating of: 3.70, with distance of 0.48132\n",
      "3: Men in Black II, with an average rating of: 3.33, with distance of 0.49496\n",
      "4: Broken Arrow, with an average rating of: 3.26, with distance of 0.52719\n",
      "5: National Treasure, with an average rating of: 3.81, with distance of 0.54087\n",
      "6: Sister Act, with an average rating of: 3.20, with distance of 0.54168\n",
      "7: Patriot Games, with an average rating of: 3.94, with distance of 0.54720\n",
      "8: Behind Enemy Lines, with an average rating of: 3.52, with distance of 0.55366\n",
      "9: Lethal Weapon 3, with an average rating of: 3.81, with distance of 0.56451\n"
     ]
    }
   ],
   "source": [
    "# Calling the get_recommendations function\n",
    "get_recommendations(6692)"
   ]
  },
  {
   "attachments": {},
   "cell_type": "markdown",
   "metadata": {},
   "source": [
    "## SVD\n"
   ]
  },
  {
   "attachments": {},
   "cell_type": "markdown",
   "metadata": {},
   "source": [
    "USED SOURCES:\n",
    "\n",
    "Nicolas Hug  (2015) Using Prediction algorithms [<source code>]. \n",
    "https://surprise.readthedocs.io/en/stable/prediction_algorithms.html\n",
    "\n",
    "George Pipis (19-06-2020) How To Run Recommender Systems In Python[<source code>]. \n",
    "https://predictivehacks.com/how-to-run-recommender-systems-in-python/\n",
    "\n",
    "Nick Becker ( 10 -11 2016) Matrix Factorization for Movie Recommendations in Python[<source code>]. \n",
    "https://beckernick.github.io/matrix-factorization-recommender/\n",
    "\n"
   ]
  },
  {
   "attachments": {},
   "cell_type": "markdown",
   "metadata": {},
   "source": [
    "Singular Value Decomposition (SVD) is a technique used in recommendation systems to understand complex relationships between users and items. In the context of a recsys, SVD breaks down a large matrix containing user-item ratings into smaller, simpler matrices. By doing so, it can identify hidden patterns and relationships in the data, which can help predict user preferences for items they haven't rated yet. In plain English, SVD simplifies complex data and uses it to make personalized recommendations based on user preferences and item similarities."
   ]
  },
  {
   "cell_type": "code",
   "execution_count": 9,
   "metadata": {},
   "outputs": [
    {
     "data": {
      "text/html": [
       "<div>\n",
       "<style scoped>\n",
       "    .dataframe tbody tr th:only-of-type {\n",
       "        vertical-align: middle;\n",
       "    }\n",
       "\n",
       "    .dataframe tbody tr th {\n",
       "        vertical-align: top;\n",
       "    }\n",
       "\n",
       "    .dataframe thead th {\n",
       "        text-align: right;\n",
       "    }\n",
       "</style>\n",
       "<table border=\"1\" class=\"dataframe\">\n",
       "  <thead>\n",
       "    <tr style=\"text-align: right;\">\n",
       "      <th></th>\n",
       "      <th>movie_id</th>\n",
       "      <th>user_id</th>\n",
       "      <th>rating</th>\n",
       "    </tr>\n",
       "  </thead>\n",
       "  <tbody>\n",
       "    <tr>\n",
       "      <th>0</th>\n",
       "      <td>9</td>\n",
       "      <td>1329923</td>\n",
       "      <td>2</td>\n",
       "    </tr>\n",
       "    <tr>\n",
       "      <th>1</th>\n",
       "      <td>9</td>\n",
       "      <td>2472537</td>\n",
       "      <td>2</td>\n",
       "    </tr>\n",
       "    <tr>\n",
       "      <th>2</th>\n",
       "      <td>9</td>\n",
       "      <td>403531</td>\n",
       "      <td>5</td>\n",
       "    </tr>\n",
       "    <tr>\n",
       "      <th>3</th>\n",
       "      <td>9</td>\n",
       "      <td>635607</td>\n",
       "      <td>1</td>\n",
       "    </tr>\n",
       "    <tr>\n",
       "      <th>4</th>\n",
       "      <td>9</td>\n",
       "      <td>1520914</td>\n",
       "      <td>3</td>\n",
       "    </tr>\n",
       "  </tbody>\n",
       "</table>\n",
       "</div>"
      ],
      "text/plain": [
       "   movie_id  user_id  rating\n",
       "0         9  1329923       2\n",
       "1         9  2472537       2\n",
       "2         9   403531       5\n",
       "3         9   635607       1\n",
       "4         9  1520914       3"
      ]
     },
     "execution_count": 9,
     "metadata": {},
     "output_type": "execute_result"
    }
   ],
   "source": [
    "df2.head()"
   ]
  },
  {
   "attachments": {},
   "cell_type": "markdown",
   "metadata": {},
   "source": [
    "How does the Surprise package work?\n",
    "\n",
    "1. Decomposition: Break down the user-item rating matrix into three smaller matrices, capturing the underlying patterns and hidden features (latent factors) that explain the ratings.\n",
    "\n",
    "2. Latent Factors: Discover the hidden characteristics of users and items, such as users' preferences and items' attributes, that are not directly observable but can help predict ratings.\n",
    "\n",
    "3. Prediction: Use the latent factors to estimate how a user might rate an item they haven't seen before, and provide personalized recommendations based on their preferences and similarities between items."
   ]
  },
  {
   "cell_type": "code",
   "execution_count": 10,
   "metadata": {},
   "outputs": [],
   "source": [
    "# create\n",
    "reader = Reader(rating_scale=(1, 5))\n",
    "data = Dataset.load_from_df(subset_df[['user_id', 'movie_id', 'rating']], reader)"
   ]
  },
  {
   "attachments": {},
   "cell_type": "markdown",
   "metadata": {},
   "source": [
    "This code is used to prepare the dataset for the SVD model from the Surprise library. The Reader object is created with a rating scale from 1 to 5, specifying the range of possible ratings in the dataset. The data object is then created by loading a subset of the original DataFrame, containing only the 'user_id', 'movie_id', and 'rating' columns, using the load_from_df method from the Dataset module. This formatted data is now ready to be used for training and evaluating the SVD model."
   ]
  },
  {
   "cell_type": "code",
   "execution_count": 11,
   "metadata": {},
   "outputs": [],
   "source": [
    "# split the data into train and test sets\n",
    "trainset, testset = train_test_split(data, test_size=0.25, random_state=42)"
   ]
  },
  {
   "cell_type": "code",
   "execution_count": 38,
   "metadata": {},
   "outputs": [
    {
     "data": {
      "text/html": [
       "<div>\n",
       "<style scoped>\n",
       "    .dataframe tbody tr th:only-of-type {\n",
       "        vertical-align: middle;\n",
       "    }\n",
       "\n",
       "    .dataframe tbody tr th {\n",
       "        vertical-align: top;\n",
       "    }\n",
       "\n",
       "    .dataframe thead th {\n",
       "        text-align: right;\n",
       "    }\n",
       "</style>\n",
       "<table border=\"1\" class=\"dataframe\">\n",
       "  <thead>\n",
       "    <tr style=\"text-align: right;\">\n",
       "      <th></th>\n",
       "      <th>movie_id</th>\n",
       "      <th>year</th>\n",
       "      <th>title</th>\n",
       "    </tr>\n",
       "  </thead>\n",
       "  <tbody>\n",
       "    <tr>\n",
       "      <th>0</th>\n",
       "      <td>1</td>\n",
       "      <td>2003.0</td>\n",
       "      <td>Dinosaur Planet</td>\n",
       "    </tr>\n",
       "    <tr>\n",
       "      <th>1</th>\n",
       "      <td>2</td>\n",
       "      <td>2004.0</td>\n",
       "      <td>Isle of Man TT 2004 Review</td>\n",
       "    </tr>\n",
       "    <tr>\n",
       "      <th>2</th>\n",
       "      <td>3</td>\n",
       "      <td>1997.0</td>\n",
       "      <td>Character</td>\n",
       "    </tr>\n",
       "    <tr>\n",
       "      <th>3</th>\n",
       "      <td>4</td>\n",
       "      <td>1994.0</td>\n",
       "      <td>Paula Abdul's Get Up &amp; Dance</td>\n",
       "    </tr>\n",
       "    <tr>\n",
       "      <th>4</th>\n",
       "      <td>5</td>\n",
       "      <td>2004.0</td>\n",
       "      <td>The Rise and Fall of ECW</td>\n",
       "    </tr>\n",
       "  </tbody>\n",
       "</table>\n",
       "</div>"
      ],
      "text/plain": [
       "   movie_id    year                         title\n",
       "0         1  2003.0               Dinosaur Planet\n",
       "1         2  2004.0    Isle of Man TT 2004 Review\n",
       "2         3  1997.0                     Character\n",
       "3         4  1994.0  Paula Abdul's Get Up & Dance\n",
       "4         5  2004.0      The Rise and Fall of ECW"
      ]
     },
     "execution_count": 38,
     "metadata": {},
     "output_type": "execute_result"
    }
   ],
   "source": [
    "movie_titles.head()"
   ]
  },
  {
   "cell_type": "code",
   "execution_count": 12,
   "metadata": {},
   "outputs": [],
   "source": [
    "#\n",
    "algo = SVD()\n",
    "algo.fit(trainset)\n",
    "\n",
    "predictions = algo.test(testset)"
   ]
  },
  {
   "attachments": {},
   "cell_type": "markdown",
   "metadata": {},
   "source": [
    "In this code, the SVD model is being created and trained. First, the SVD model is created and stored in the variable algo. Next, the model is trained using the fit method on the training data (trainset). Once the model is trained, it's used to make predictions on the test data (testset) using the test method. The predicted ratings are stored in the variable predictions."
   ]
  },
  {
   "cell_type": "code",
   "execution_count": 13,
   "metadata": {},
   "outputs": [
    {
     "name": "stdout",
     "output_type": "stream",
     "text": [
      "RMSE: 0.9514\n",
      "MAE:  0.7455\n"
     ]
    }
   ],
   "source": [
    "# Compute RMSE\n",
    "rmse = accuracy.rmse(predictions)\n",
    "\n",
    "# Compute MAE\n",
    "mae = accuracy.mae(predictions)"
   ]
  },
  {
   "cell_type": "code",
   "execution_count": 49,
   "metadata": {},
   "outputs": [],
   "source": [
    "from surprise.model_selection import cross_validate"
   ]
  },
  {
   "attachments": {},
   "cell_type": "markdown",
   "metadata": {},
   "source": [
    "Performing cross-validation"
   ]
  },
  {
   "cell_type": "code",
   "execution_count": 51,
   "metadata": {},
   "outputs": [
    {
     "name": "stdout",
     "output_type": "stream",
     "text": [
      "Evaluating RMSE, MAE of algorithm SVD on 5 split(s).\n",
      "\n",
      "                  Fold 1  Fold 2  Fold 3  Fold 4  Fold 5  Mean    Std     \n",
      "RMSE (testset)    0.9513  0.9511  0.9494  0.9510  0.9500  0.9506  0.0007  \n",
      "MAE (testset)     0.7455  0.7447  0.7435  0.7449  0.7438  0.7445  0.0007  \n",
      "Fit time          77.12   88.18   90.94   83.33   82.40   84.39   4.80    \n",
      "Test time         14.96   18.95   16.39   15.16   13.41   15.78   1.85    \n",
      "0.9505607054117127\n",
      "0.7444984361401678\n"
     ]
    }
   ],
   "source": [
    "# perform cross validation\n",
    "results = cross_validate(algo, data, measures=['RMSE', 'MAE'], cv=5, verbose=True)\n",
    "\n",
    "# print the results of rmse and mae\n",
    "print(results['test_rmse'].mean())\n",
    "print(results['test_mae'].mean())"
   ]
  },
  {
   "attachments": {},
   "cell_type": "markdown",
   "metadata": {},
   "source": [
    "In the case of this dataset, an RMSE of 0.95105 and an MAE of 0.7444 are relatively good values, considering that the Netflix rating scale is from 1 to 5. These values suggest that, on average, the predicted ratings are less than one unit away from the actual ratings.\n",
    "\n",
    "The lower values of RMSE and MAE indicate that your model performs well in predicting user ratings for movies."
   ]
  },
  {
   "cell_type": "code",
   "execution_count": 14,
   "metadata": {},
   "outputs": [],
   "source": [
    "# get the list of the movie ids\n",
    "unique_ids = subset_df['movie_id'].unique()\n",
    "\n",
    "# get the list of the ids that the userid 1001 has rated\n",
    "iids1001 = subset_df.loc[subset_df['user_id']==1001, 'movie_id']\n",
    "\n",
    "# remove the rated movies for the recommendations\n",
    "movies_to_predict = np.setdiff1d(unique_ids,iids1001)"
   ]
  },
  {
   "cell_type": "code",
   "execution_count": 36,
   "metadata": {},
   "outputs": [],
   "source": [
    "def get_movie_recommendations(movies_to_predict, uid, movie_titles):\n",
    "    my_recs = []\n",
    "\n",
    "    for movie_id in movies_to_predict:\n",
    "        predicted_rating = algo.predict(uid=uid, iid=movie_id).est\n",
    "        my_recs.append((movie_id, predicted_rating))\n",
    "\n",
    "    recs_df = pd.DataFrame(my_recs, columns=['movie_id', 'predicted_rating'])\n",
    "    recs_df['predicted_rating'] = recs_df['predicted_rating'].round(2)\n",
    "    \n",
    "    # Merge the movie_titles dataset to get the movie names\n",
    "    recs_df = recs_df.merge(movie_titles, on='movie_id')\n",
    "    \n",
    "    # Sort by predicted rating and return the top 10 recommendations\n",
    "    return recs_df.sort_values('predicted_rating', ascending=False).head(10)"
   ]
  },
  {
   "cell_type": "code",
   "execution_count": 37,
   "metadata": {},
   "outputs": [
    {
     "data": {
      "text/html": [
       "<div>\n",
       "<style scoped>\n",
       "    .dataframe tbody tr th:only-of-type {\n",
       "        vertical-align: middle;\n",
       "    }\n",
       "\n",
       "    .dataframe tbody tr th {\n",
       "        vertical-align: top;\n",
       "    }\n",
       "\n",
       "    .dataframe thead th {\n",
       "        text-align: right;\n",
       "    }\n",
       "</style>\n",
       "<table border=\"1\" class=\"dataframe\">\n",
       "  <thead>\n",
       "    <tr style=\"text-align: right;\">\n",
       "      <th></th>\n",
       "      <th>movie_id</th>\n",
       "      <th>predicted_rating</th>\n",
       "      <th>year</th>\n",
       "      <th>title</th>\n",
       "    </tr>\n",
       "  </thead>\n",
       "  <tbody>\n",
       "    <tr>\n",
       "      <th>245</th>\n",
       "      <td>4427</td>\n",
       "      <td>4.62</td>\n",
       "      <td>2001.0</td>\n",
       "      <td>The West Wing: Season 3</td>\n",
       "    </tr>\n",
       "    <tr>\n",
       "      <th>479</th>\n",
       "      <td>8664</td>\n",
       "      <td>4.43</td>\n",
       "      <td>2001.0</td>\n",
       "      <td>The Blue Planet: Seas of Life: Ocean World - F...</td>\n",
       "    </tr>\n",
       "    <tr>\n",
       "      <th>421</th>\n",
       "      <td>7445</td>\n",
       "      <td>4.38</td>\n",
       "      <td>2004.0</td>\n",
       "      <td>Monk: Season 3</td>\n",
       "    </tr>\n",
       "    <tr>\n",
       "      <th>871</th>\n",
       "      <td>16147</td>\n",
       "      <td>4.35</td>\n",
       "      <td>1999.0</td>\n",
       "      <td>The Sopranos: Season 1</td>\n",
       "    </tr>\n",
       "    <tr>\n",
       "      <th>830</th>\n",
       "      <td>15406</td>\n",
       "      <td>4.34</td>\n",
       "      <td>1991.0</td>\n",
       "      <td>The House of Eliott: Series 1</td>\n",
       "    </tr>\n",
       "    <tr>\n",
       "      <th>14</th>\n",
       "      <td>209</td>\n",
       "      <td>4.33</td>\n",
       "      <td>1996.0</td>\n",
       "      <td>Star Trek: Deep Space Nine: Season 5</td>\n",
       "    </tr>\n",
       "    <tr>\n",
       "      <th>123</th>\n",
       "      <td>2117</td>\n",
       "      <td>4.32</td>\n",
       "      <td>2004.0</td>\n",
       "      <td>Case Closed: Season 5</td>\n",
       "    </tr>\n",
       "    <tr>\n",
       "      <th>348</th>\n",
       "      <td>6093</td>\n",
       "      <td>4.31</td>\n",
       "      <td>1995.0</td>\n",
       "      <td>House of Cards Trilogy III: The Final Cut</td>\n",
       "    </tr>\n",
       "    <tr>\n",
       "      <th>735</th>\n",
       "      <td>13635</td>\n",
       "      <td>4.31</td>\n",
       "      <td>2001.0</td>\n",
       "      <td>The Amazing Race: Season 1</td>\n",
       "    </tr>\n",
       "    <tr>\n",
       "      <th>621</th>\n",
       "      <td>11191</td>\n",
       "      <td>4.29</td>\n",
       "      <td>1999.0</td>\n",
       "      <td>South Park: Season 3</td>\n",
       "    </tr>\n",
       "  </tbody>\n",
       "</table>\n",
       "</div>"
      ],
      "text/plain": [
       "     movie_id  predicted_rating    year  \\\n",
       "245      4427              4.62  2001.0   \n",
       "479      8664              4.43  2001.0   \n",
       "421      7445              4.38  2004.0   \n",
       "871     16147              4.35  1999.0   \n",
       "830     15406              4.34  1991.0   \n",
       "14        209              4.33  1996.0   \n",
       "123      2117              4.32  2004.0   \n",
       "348      6093              4.31  1995.0   \n",
       "735     13635              4.31  2001.0   \n",
       "621     11191              4.29  1999.0   \n",
       "\n",
       "                                                 title  \n",
       "245                            The West Wing: Season 3  \n",
       "479  The Blue Planet: Seas of Life: Ocean World - F...  \n",
       "421                                     Monk: Season 3  \n",
       "871                             The Sopranos: Season 1  \n",
       "830                      The House of Eliott: Series 1  \n",
       "14                Star Trek: Deep Space Nine: Season 5  \n",
       "123                              Case Closed: Season 5  \n",
       "348          House of Cards Trilogy III: The Final Cut  \n",
       "735                         The Amazing Race: Season 1  \n",
       "621                               South Park: Season 3  "
      ]
     },
     "execution_count": 37,
     "metadata": {},
     "output_type": "execute_result"
    }
   ],
   "source": [
    "get_movie_recommendations(movies_to_predict, 1001, movie_titles)"
   ]
  },
  {
   "attachments": {},
   "cell_type": "markdown",
   "metadata": {},
   "source": [
    "The get_movie_recommendations function provides personalized movie recommendations for a user using the SVD model. It calculates predicted ratings for a list of movies, sorts them by the highest predicted ratings, and returns the top 10 movie recommendations most likely to satisfy the user's preferences."
   ]
  },
  {
   "attachments": {},
   "cell_type": "markdown",
   "metadata": {},
   "source": [
    "## 6) Conclusion"
   ]
  },
  {
   "attachments": {},
   "cell_type": "markdown",
   "metadata": {},
   "source": [
    "In this analysis, I have successfully built a personalized movie recommendation system using the Netflix dataset. By implementing machine learning models such as KNN and SVD collaborative filtering techniques, I was able to provide recommendations based on users' preferences and the characteristics of movies they enjoyed.\n",
    "\n",
    "This recommendation system aimed to maximize user satisfaction, which was measured by the users' movie ratings. The main research question has been answered: \"How can we create a personalized movie recommendation system using the Netflix dataset that maximizes user satisfaction, measured by the user's movie ratings?\"\n",
    "\n",
    "As a result, this recommendation system can effectively help users discover new movies they are likely to enjoy, based on their previous ratings and the similarities between movies. This not only enhances user satisfaction but also increases the likelihood of users engaging with the system and returning for more recommendations.\n",
    "\n",
    "Future work on this project could involve incorporating additional features, such as movie metadata or user demographic information, to further improve the performance of the recommendation system. Also, other machine learning techniques or hybrid approaches could be explored to refine the recommendations and continue to provide users with enjoyable content tailored to their preferences."
   ]
  }
 ],
 "metadata": {
  "kernelspec": {
   "display_name": "base",
   "language": "python",
   "name": "python3"
  },
  "language_info": {
   "codemirror_mode": {
    "name": "ipython",
    "version": 3
   },
   "file_extension": ".py",
   "mimetype": "text/x-python",
   "name": "python",
   "nbconvert_exporter": "python",
   "pygments_lexer": "ipython3",
   "version": "3.9.16"
  },
  "orig_nbformat": 4
 },
 "nbformat": 4,
 "nbformat_minor": 2
}
